{
  "nbformat": 4,
  "nbformat_minor": 0,
  "metadata": {
    "colab": {
      "name": "Bikroy.ipynb",
      "provenance": [],
      "collapsed_sections": [
        "qOwGjrgC6L-s",
        "SxQMchHsflBA",
        "Ax6eDszykw5M",
        "gFA-fWqdmJlM",
        "chm9WKHbTafo",
        "PXB37R4sKFGB",
        "x6AKzCfmkz3b",
        "vKoXOQgelend",
        "AndA23CbmZrs",
        "htdtNSQah905",
        "FhJmy1DYimtu",
        "S6zvFIbEubHL",
        "ezRFvGhQ5d3V"
      ],
      "include_colab_link": true
    },
    "kernelspec": {
      "name": "python3",
      "display_name": "Python 3"
    },
    "language_info": {
      "name": "python"
    }
  },
  "cells": [
    {
      "cell_type": "markdown",
      "metadata": {
        "id": "view-in-github",
        "colab_type": "text"
      },
      "source": [
        "<a href=\"https://colab.research.google.com/github/FatehinSiddique20/Assignment-2/blob/master/Bikroy.ipynb\" target=\"_parent\"><img src=\"https://colab.research.google.com/assets/colab-badge.svg\" alt=\"Open In Colab\"/></a>"
      ]
    },
    {
      "cell_type": "code",
      "metadata": {
        "id": "uy-PL58MmGgn",
        "colab": {
          "base_uri": "https://localhost:8080/"
        },
        "outputId": "9cf71b9d-93a4-4e08-bf38-06bce18f5575"
      },
      "source": [
        "from google.colab import drive\n",
        "drive.mount('/content/gdrive')"
      ],
      "execution_count": null,
      "outputs": [
        {
          "output_type": "stream",
          "text": [
            "Mounted at /content/gdrive\n"
          ],
          "name": "stdout"
        }
      ]
    },
    {
      "cell_type": "code",
      "metadata": {
        "id": "Fqnv3P92mioZ"
      },
      "source": [
        "import pandas as pd\n",
        "df = pd.read_csv('/content/gdrive/My Drive/Bikroy/Bikroy_Flat_Rent_Data (3).csv')"
      ],
      "execution_count": null,
      "outputs": []
    },
    {
      "cell_type": "code",
      "metadata": {
        "colab": {
          "base_uri": "https://localhost:8080/",
          "height": 195
        },
        "id": "gB4tLcqdmtqA",
        "outputId": "54e2622d-944b-4aa6-8957-b486a1926d1e"
      },
      "source": [
        "df.head()"
      ],
      "execution_count": null,
      "outputs": [
        {
          "output_type": "execute_result",
          "data": {
            "text/html": [
              "<div>\n",
              "<style scoped>\n",
              "    .dataframe tbody tr th:only-of-type {\n",
              "        vertical-align: middle;\n",
              "    }\n",
              "\n",
              "    .dataframe tbody tr th {\n",
              "        vertical-align: top;\n",
              "    }\n",
              "\n",
              "    .dataframe thead th {\n",
              "        text-align: right;\n",
              "    }\n",
              "</style>\n",
              "<table border=\"1\" class=\"dataframe\">\n",
              "  <thead>\n",
              "    <tr style=\"text-align: right;\">\n",
              "      <th></th>\n",
              "      <th>Address</th>\n",
              "      <th>Baths</th>\n",
              "      <th>Beds</th>\n",
              "      <th>Price</th>\n",
              "      <th>Suffix</th>\n",
              "      <th>Size</th>\n",
              "    </tr>\n",
              "  </thead>\n",
              "  <tbody>\n",
              "    <tr>\n",
              "      <th>0</th>\n",
              "      <td>RAJUK PURBACHAL SECTOR-2</td>\n",
              "      <td>3</td>\n",
              "      <td>3</td>\n",
              "      <td>3,600</td>\n",
              "      <td>per sqft</td>\n",
              "      <td>1,250</td>\n",
              "    </tr>\n",
              "    <tr>\n",
              "      <th>1</th>\n",
              "      <td>Plot-19, Road-23, Block: D, Mirpur 12, Dhaka.</td>\n",
              "      <td>4</td>\n",
              "      <td>4</td>\n",
              "      <td>4,500,000</td>\n",
              "      <td>total price</td>\n",
              "      <td>1,300</td>\n",
              "    </tr>\n",
              "    <tr>\n",
              "      <th>2</th>\n",
              "      <td>Plot # 39/1 &amp; 39/1/1, Road No.-04,  Shaymoli, ...</td>\n",
              "      <td>3</td>\n",
              "      <td>3</td>\n",
              "      <td>7,000</td>\n",
              "      <td>per sqft</td>\n",
              "      <td>1,280</td>\n",
              "    </tr>\n",
              "    <tr>\n",
              "      <th>3</th>\n",
              "      <td>Uttara</td>\n",
              "      <td>4</td>\n",
              "      <td>3</td>\n",
              "      <td>13,000,000</td>\n",
              "      <td>total price</td>\n",
              "      <td>1,686</td>\n",
              "    </tr>\n",
              "    <tr>\n",
              "      <th>4</th>\n",
              "      <td>Plot: 310, Road No: 10, Block: J, Bashundhara R/A</td>\n",
              "      <td>4</td>\n",
              "      <td>3</td>\n",
              "      <td>6,500</td>\n",
              "      <td>per sqft</td>\n",
              "      <td>1,880</td>\n",
              "    </tr>\n",
              "  </tbody>\n",
              "</table>\n",
              "</div>"
            ],
            "text/plain": [
              "                                             Address  ...   Size\n",
              "0                           RAJUK PURBACHAL SECTOR-2  ...  1,250\n",
              "1      Plot-19, Road-23, Block: D, Mirpur 12, Dhaka.  ...  1,300\n",
              "2  Plot # 39/1 & 39/1/1, Road No.-04,  Shaymoli, ...  ...  1,280\n",
              "3                                             Uttara  ...  1,686\n",
              "4  Plot: 310, Road No: 10, Block: J, Bashundhara R/A  ...  1,880\n",
              "\n",
              "[5 rows x 6 columns]"
            ]
          },
          "metadata": {
            "tags": []
          },
          "execution_count": 3
        }
      ]
    },
    {
      "cell_type": "markdown",
      "metadata": {
        "id": "DCOhXWxF3DOV"
      },
      "source": [
        "#Cleaning Data"
      ]
    },
    {
      "cell_type": "code",
      "metadata": {
        "id": "cz_zhdNJ0yuf"
      },
      "source": [
        "df['Price'] =df.Price.apply(lambda x: x.replace(',',''))\n",
        "df['Size'] = df.Size.apply(lambda x: x.replace(',',''))"
      ],
      "execution_count": null,
      "outputs": []
    },
    {
      "cell_type": "code",
      "metadata": {
        "id": "2FyubUGMmvnk"
      },
      "source": [
        "df['Price'] = df['Price'].astype(str).astype(int)\n",
        "df['Size']= df['Size'].astype(str).astype(int)\n",
        "df['Suffix']= df['Suffix'].astype(str).astype(str)\n",
        "\n",
        "  "
      ],
      "execution_count": null,
      "outputs": []
    },
    {
      "cell_type": "code",
      "metadata": {
        "id": "5xQEepUX2YWw",
        "colab": {
          "base_uri": "https://localhost:8080/",
          "height": 402
        },
        "outputId": "32f0f654-bf3e-46b8-ae3a-cfc1c80aea43"
      },
      "source": [
        "df['Price'].dtypes\n",
        "df"
      ],
      "execution_count": null,
      "outputs": [
        {
          "output_type": "execute_result",
          "data": {
            "text/html": [
              "<div>\n",
              "<style scoped>\n",
              "    .dataframe tbody tr th:only-of-type {\n",
              "        vertical-align: middle;\n",
              "    }\n",
              "\n",
              "    .dataframe tbody tr th {\n",
              "        vertical-align: top;\n",
              "    }\n",
              "\n",
              "    .dataframe thead th {\n",
              "        text-align: right;\n",
              "    }\n",
              "</style>\n",
              "<table border=\"1\" class=\"dataframe\">\n",
              "  <thead>\n",
              "    <tr style=\"text-align: right;\">\n",
              "      <th></th>\n",
              "      <th>Address</th>\n",
              "      <th>Baths</th>\n",
              "      <th>Beds</th>\n",
              "      <th>Price</th>\n",
              "      <th>Suffix</th>\n",
              "      <th>Size</th>\n",
              "    </tr>\n",
              "  </thead>\n",
              "  <tbody>\n",
              "    <tr>\n",
              "      <th>0</th>\n",
              "      <td>RAJUK PURBACHAL SECTOR-2</td>\n",
              "      <td>3</td>\n",
              "      <td>3</td>\n",
              "      <td>3600</td>\n",
              "      <td>per sqft</td>\n",
              "      <td>1250</td>\n",
              "    </tr>\n",
              "    <tr>\n",
              "      <th>1</th>\n",
              "      <td>Plot-19, Road-23, Block: D, Mirpur 12, Dhaka.</td>\n",
              "      <td>4</td>\n",
              "      <td>4</td>\n",
              "      <td>4500000</td>\n",
              "      <td>total price</td>\n",
              "      <td>1300</td>\n",
              "    </tr>\n",
              "    <tr>\n",
              "      <th>2</th>\n",
              "      <td>Plot # 39/1 &amp; 39/1/1, Road No.-04,  Shaymoli, ...</td>\n",
              "      <td>3</td>\n",
              "      <td>3</td>\n",
              "      <td>7000</td>\n",
              "      <td>per sqft</td>\n",
              "      <td>1280</td>\n",
              "    </tr>\n",
              "    <tr>\n",
              "      <th>3</th>\n",
              "      <td>Uttara</td>\n",
              "      <td>4</td>\n",
              "      <td>3</td>\n",
              "      <td>13000000</td>\n",
              "      <td>total price</td>\n",
              "      <td>1686</td>\n",
              "    </tr>\n",
              "    <tr>\n",
              "      <th>4</th>\n",
              "      <td>Plot: 310, Road No: 10, Block: J, Bashundhara R/A</td>\n",
              "      <td>4</td>\n",
              "      <td>3</td>\n",
              "      <td>6500</td>\n",
              "      <td>per sqft</td>\n",
              "      <td>1880</td>\n",
              "    </tr>\n",
              "    <tr>\n",
              "      <th>...</th>\n",
              "      <td>...</td>\n",
              "      <td>...</td>\n",
              "      <td>...</td>\n",
              "      <td>...</td>\n",
              "      <td>...</td>\n",
              "      <td>...</td>\n",
              "    </tr>\n",
              "    <tr>\n",
              "      <th>932</th>\n",
              "      <td>GULSHAN Dhaka</td>\n",
              "      <td>6</td>\n",
              "      <td>5</td>\n",
              "      <td>15000</td>\n",
              "      <td>per sqft</td>\n",
              "      <td>4700</td>\n",
              "    </tr>\n",
              "    <tr>\n",
              "      <th>933</th>\n",
              "      <td>Basundhara R/A</td>\n",
              "      <td>3</td>\n",
              "      <td>3</td>\n",
              "      <td>6350</td>\n",
              "      <td>per sqft</td>\n",
              "      <td>1550</td>\n",
              "    </tr>\n",
              "    <tr>\n",
              "      <th>934</th>\n",
              "      <td>Baridhara diplomatic zone</td>\n",
              "      <td>4</td>\n",
              "      <td>4</td>\n",
              "      <td>22000</td>\n",
              "      <td>per sqft</td>\n",
              "      <td>3500</td>\n",
              "    </tr>\n",
              "    <tr>\n",
              "      <th>935</th>\n",
              "      <td>Address: Holding # 465 , Senpara Porbota, Mirp...</td>\n",
              "      <td>3</td>\n",
              "      <td>3</td>\n",
              "      <td>4800</td>\n",
              "      <td>per sqft</td>\n",
              "      <td>1420</td>\n",
              "    </tr>\n",
              "    <tr>\n",
              "      <th>936</th>\n",
              "      <td>suvastu nazar vally</td>\n",
              "      <td>1</td>\n",
              "      <td>1</td>\n",
              "      <td>2700000</td>\n",
              "      <td>total price</td>\n",
              "      <td>550</td>\n",
              "    </tr>\n",
              "  </tbody>\n",
              "</table>\n",
              "<p>937 rows × 6 columns</p>\n",
              "</div>"
            ],
            "text/plain": [
              "                                               Address  ...  Size\n",
              "0                             RAJUK PURBACHAL SECTOR-2  ...  1250\n",
              "1        Plot-19, Road-23, Block: D, Mirpur 12, Dhaka.  ...  1300\n",
              "2    Plot # 39/1 & 39/1/1, Road No.-04,  Shaymoli, ...  ...  1280\n",
              "3                                               Uttara  ...  1686\n",
              "4    Plot: 310, Road No: 10, Block: J, Bashundhara R/A  ...  1880\n",
              "..                                                 ...  ...   ...\n",
              "932                                      GULSHAN Dhaka  ...  4700\n",
              "933                                     Basundhara R/A  ...  1550\n",
              "934                          Baridhara diplomatic zone  ...  3500\n",
              "935  Address: Holding # 465 , Senpara Porbota, Mirp...  ...  1420\n",
              "936                                suvastu nazar vally  ...   550\n",
              "\n",
              "[937 rows x 6 columns]"
            ]
          },
          "metadata": {
            "tags": []
          },
          "execution_count": 6
        }
      ]
    },
    {
      "cell_type": "code",
      "metadata": {
        "id": "LLGbhFlfpEin"
      },
      "source": [
        "\n",
        "\n",
        "\n",
        " "
      ],
      "execution_count": null,
      "outputs": []
    },
    {
      "cell_type": "code",
      "metadata": {
        "id": "Hg2IzcV_vHIm",
        "colab": {
          "base_uri": "https://localhost:8080/",
          "height": 195
        },
        "outputId": "acd546e0-7f6c-47c2-ef40-e8bf5668ba81"
      },
      "source": [
        "df.head()"
      ],
      "execution_count": null,
      "outputs": [
        {
          "output_type": "execute_result",
          "data": {
            "text/html": [
              "<div>\n",
              "<style scoped>\n",
              "    .dataframe tbody tr th:only-of-type {\n",
              "        vertical-align: middle;\n",
              "    }\n",
              "\n",
              "    .dataframe tbody tr th {\n",
              "        vertical-align: top;\n",
              "    }\n",
              "\n",
              "    .dataframe thead th {\n",
              "        text-align: right;\n",
              "    }\n",
              "</style>\n",
              "<table border=\"1\" class=\"dataframe\">\n",
              "  <thead>\n",
              "    <tr style=\"text-align: right;\">\n",
              "      <th></th>\n",
              "      <th>Address</th>\n",
              "      <th>Baths</th>\n",
              "      <th>Beds</th>\n",
              "      <th>Price</th>\n",
              "      <th>Suffix</th>\n",
              "      <th>Size</th>\n",
              "    </tr>\n",
              "  </thead>\n",
              "  <tbody>\n",
              "    <tr>\n",
              "      <th>0</th>\n",
              "      <td>RAJUK PURBACHAL SECTOR-2</td>\n",
              "      <td>3</td>\n",
              "      <td>3</td>\n",
              "      <td>3600</td>\n",
              "      <td>per sqft</td>\n",
              "      <td>1250</td>\n",
              "    </tr>\n",
              "    <tr>\n",
              "      <th>1</th>\n",
              "      <td>Plot-19, Road-23, Block: D, Mirpur 12, Dhaka.</td>\n",
              "      <td>4</td>\n",
              "      <td>4</td>\n",
              "      <td>4500000</td>\n",
              "      <td>total price</td>\n",
              "      <td>1300</td>\n",
              "    </tr>\n",
              "    <tr>\n",
              "      <th>2</th>\n",
              "      <td>Plot # 39/1 &amp; 39/1/1, Road No.-04,  Shaymoli, ...</td>\n",
              "      <td>3</td>\n",
              "      <td>3</td>\n",
              "      <td>7000</td>\n",
              "      <td>per sqft</td>\n",
              "      <td>1280</td>\n",
              "    </tr>\n",
              "    <tr>\n",
              "      <th>3</th>\n",
              "      <td>Uttara</td>\n",
              "      <td>4</td>\n",
              "      <td>3</td>\n",
              "      <td>13000000</td>\n",
              "      <td>total price</td>\n",
              "      <td>1686</td>\n",
              "    </tr>\n",
              "    <tr>\n",
              "      <th>4</th>\n",
              "      <td>Plot: 310, Road No: 10, Block: J, Bashundhara R/A</td>\n",
              "      <td>4</td>\n",
              "      <td>3</td>\n",
              "      <td>6500</td>\n",
              "      <td>per sqft</td>\n",
              "      <td>1880</td>\n",
              "    </tr>\n",
              "  </tbody>\n",
              "</table>\n",
              "</div>"
            ],
            "text/plain": [
              "                                             Address  Baths  ...        Suffix  Size\n",
              "0                           RAJUK PURBACHAL SECTOR-2      3  ...      per sqft  1250\n",
              "1      Plot-19, Road-23, Block: D, Mirpur 12, Dhaka.      4  ...   total price  1300\n",
              "2  Plot # 39/1 & 39/1/1, Road No.-04,  Shaymoli, ...      3  ...      per sqft  1280\n",
              "3                                             Uttara      4  ...   total price  1686\n",
              "4  Plot: 310, Road No: 10, Block: J, Bashundhara R/A      4  ...      per sqft  1880\n",
              "\n",
              "[5 rows x 6 columns]"
            ]
          },
          "metadata": {
            "tags": []
          },
          "execution_count": 7
        }
      ]
    },
    {
      "cell_type": "code",
      "metadata": {
        "id": "a5YJO8Dx1lEK",
        "colab": {
          "base_uri": "https://localhost:8080/",
          "height": 402
        },
        "outputId": "1ed59f02-f0f2-4a75-d46d-665a97cd311b"
      },
      "source": [
        "df['TotalPrice'] = 0\n",
        "y =df['TotalPrice']\n",
        "df"
      ],
      "execution_count": null,
      "outputs": [
        {
          "output_type": "execute_result",
          "data": {
            "text/html": [
              "<div>\n",
              "<style scoped>\n",
              "    .dataframe tbody tr th:only-of-type {\n",
              "        vertical-align: middle;\n",
              "    }\n",
              "\n",
              "    .dataframe tbody tr th {\n",
              "        vertical-align: top;\n",
              "    }\n",
              "\n",
              "    .dataframe thead th {\n",
              "        text-align: right;\n",
              "    }\n",
              "</style>\n",
              "<table border=\"1\" class=\"dataframe\">\n",
              "  <thead>\n",
              "    <tr style=\"text-align: right;\">\n",
              "      <th></th>\n",
              "      <th>Address</th>\n",
              "      <th>Baths</th>\n",
              "      <th>Beds</th>\n",
              "      <th>Price</th>\n",
              "      <th>Suffix</th>\n",
              "      <th>Size</th>\n",
              "      <th>TotalPrice</th>\n",
              "    </tr>\n",
              "  </thead>\n",
              "  <tbody>\n",
              "    <tr>\n",
              "      <th>0</th>\n",
              "      <td>RAJUK PURBACHAL SECTOR-2</td>\n",
              "      <td>3</td>\n",
              "      <td>3</td>\n",
              "      <td>3600</td>\n",
              "      <td>per sqft</td>\n",
              "      <td>1250</td>\n",
              "      <td>0</td>\n",
              "    </tr>\n",
              "    <tr>\n",
              "      <th>1</th>\n",
              "      <td>Plot-19, Road-23, Block: D, Mirpur 12, Dhaka.</td>\n",
              "      <td>4</td>\n",
              "      <td>4</td>\n",
              "      <td>4500000</td>\n",
              "      <td>total price</td>\n",
              "      <td>1300</td>\n",
              "      <td>0</td>\n",
              "    </tr>\n",
              "    <tr>\n",
              "      <th>2</th>\n",
              "      <td>Plot # 39/1 &amp; 39/1/1, Road No.-04,  Shaymoli, ...</td>\n",
              "      <td>3</td>\n",
              "      <td>3</td>\n",
              "      <td>7000</td>\n",
              "      <td>per sqft</td>\n",
              "      <td>1280</td>\n",
              "      <td>0</td>\n",
              "    </tr>\n",
              "    <tr>\n",
              "      <th>3</th>\n",
              "      <td>Uttara</td>\n",
              "      <td>4</td>\n",
              "      <td>3</td>\n",
              "      <td>13000000</td>\n",
              "      <td>total price</td>\n",
              "      <td>1686</td>\n",
              "      <td>0</td>\n",
              "    </tr>\n",
              "    <tr>\n",
              "      <th>4</th>\n",
              "      <td>Plot: 310, Road No: 10, Block: J, Bashundhara R/A</td>\n",
              "      <td>4</td>\n",
              "      <td>3</td>\n",
              "      <td>6500</td>\n",
              "      <td>per sqft</td>\n",
              "      <td>1880</td>\n",
              "      <td>0</td>\n",
              "    </tr>\n",
              "    <tr>\n",
              "      <th>...</th>\n",
              "      <td>...</td>\n",
              "      <td>...</td>\n",
              "      <td>...</td>\n",
              "      <td>...</td>\n",
              "      <td>...</td>\n",
              "      <td>...</td>\n",
              "      <td>...</td>\n",
              "    </tr>\n",
              "    <tr>\n",
              "      <th>932</th>\n",
              "      <td>GULSHAN Dhaka</td>\n",
              "      <td>6</td>\n",
              "      <td>5</td>\n",
              "      <td>15000</td>\n",
              "      <td>per sqft</td>\n",
              "      <td>4700</td>\n",
              "      <td>0</td>\n",
              "    </tr>\n",
              "    <tr>\n",
              "      <th>933</th>\n",
              "      <td>Basundhara R/A</td>\n",
              "      <td>3</td>\n",
              "      <td>3</td>\n",
              "      <td>6350</td>\n",
              "      <td>per sqft</td>\n",
              "      <td>1550</td>\n",
              "      <td>0</td>\n",
              "    </tr>\n",
              "    <tr>\n",
              "      <th>934</th>\n",
              "      <td>Baridhara diplomatic zone</td>\n",
              "      <td>4</td>\n",
              "      <td>4</td>\n",
              "      <td>22000</td>\n",
              "      <td>per sqft</td>\n",
              "      <td>3500</td>\n",
              "      <td>0</td>\n",
              "    </tr>\n",
              "    <tr>\n",
              "      <th>935</th>\n",
              "      <td>Address: Holding # 465 , Senpara Porbota, Mirp...</td>\n",
              "      <td>3</td>\n",
              "      <td>3</td>\n",
              "      <td>4800</td>\n",
              "      <td>per sqft</td>\n",
              "      <td>1420</td>\n",
              "      <td>0</td>\n",
              "    </tr>\n",
              "    <tr>\n",
              "      <th>936</th>\n",
              "      <td>suvastu nazar vally</td>\n",
              "      <td>1</td>\n",
              "      <td>1</td>\n",
              "      <td>2700000</td>\n",
              "      <td>total price</td>\n",
              "      <td>550</td>\n",
              "      <td>0</td>\n",
              "    </tr>\n",
              "  </tbody>\n",
              "</table>\n",
              "<p>937 rows × 7 columns</p>\n",
              "</div>"
            ],
            "text/plain": [
              "                                               Address  Baths  ...  Size  TotalPrice\n",
              "0                             RAJUK PURBACHAL SECTOR-2      3  ...  1250           0\n",
              "1        Plot-19, Road-23, Block: D, Mirpur 12, Dhaka.      4  ...  1300           0\n",
              "2    Plot # 39/1 & 39/1/1, Road No.-04,  Shaymoli, ...      3  ...  1280           0\n",
              "3                                               Uttara      4  ...  1686           0\n",
              "4    Plot: 310, Road No: 10, Block: J, Bashundhara R/A      4  ...  1880           0\n",
              "..                                                 ...    ...  ...   ...         ...\n",
              "932                                      GULSHAN Dhaka      6  ...  4700           0\n",
              "933                                     Basundhara R/A      3  ...  1550           0\n",
              "934                          Baridhara diplomatic zone      4  ...  3500           0\n",
              "935  Address: Holding # 465 , Senpara Porbota, Mirp...      3  ...  1420           0\n",
              "936                                suvastu nazar vally      1  ...   550           0\n",
              "\n",
              "[937 rows x 7 columns]"
            ]
          },
          "metadata": {
            "tags": []
          },
          "execution_count": 8
        }
      ]
    },
    {
      "cell_type": "code",
      "metadata": {
        "id": "ogOeO1HVzbrK",
        "colab": {
          "base_uri": "https://localhost:8080/"
        },
        "outputId": "adb9bf9a-af9a-4257-ec28-380e06780411"
      },
      "source": [
        "ep = df['Suffix'][1]\n",
        "for i,x in enumerate(df['Suffix']) :\n",
        "  \n",
        "  if x == ep:\n",
        "   \n",
        "    df['TotalPrice'][i] = df['Price'][i]\n",
        "  else:\n",
        "    df['TotalPrice'][i] = df['Price'][i]*df['Size'][i]\n"
      ],
      "execution_count": null,
      "outputs": [
        {
          "output_type": "stream",
          "text": [
            "/usr/local/lib/python3.7/dist-packages/ipykernel_launcher.py:8: SettingWithCopyWarning: \n",
            "A value is trying to be set on a copy of a slice from a DataFrame\n",
            "\n",
            "See the caveats in the documentation: https://pandas.pydata.org/pandas-docs/stable/user_guide/indexing.html#returning-a-view-versus-a-copy\n",
            "  \n",
            "/usr/local/lib/python3.7/dist-packages/ipykernel_launcher.py:6: SettingWithCopyWarning: \n",
            "A value is trying to be set on a copy of a slice from a DataFrame\n",
            "\n",
            "See the caveats in the documentation: https://pandas.pydata.org/pandas-docs/stable/user_guide/indexing.html#returning-a-view-versus-a-copy\n",
            "  \n"
          ],
          "name": "stderr"
        }
      ]
    },
    {
      "cell_type": "code",
      "metadata": {
        "id": "4KACLd3P3aPC",
        "colab": {
          "base_uri": "https://localhost:8080/",
          "height": 195
        },
        "outputId": "ea65c1e0-171b-403b-e917-d49ba7fe74cc"
      },
      "source": [
        "df.head()"
      ],
      "execution_count": null,
      "outputs": [
        {
          "output_type": "execute_result",
          "data": {
            "text/html": [
              "<div>\n",
              "<style scoped>\n",
              "    .dataframe tbody tr th:only-of-type {\n",
              "        vertical-align: middle;\n",
              "    }\n",
              "\n",
              "    .dataframe tbody tr th {\n",
              "        vertical-align: top;\n",
              "    }\n",
              "\n",
              "    .dataframe thead th {\n",
              "        text-align: right;\n",
              "    }\n",
              "</style>\n",
              "<table border=\"1\" class=\"dataframe\">\n",
              "  <thead>\n",
              "    <tr style=\"text-align: right;\">\n",
              "      <th></th>\n",
              "      <th>Address</th>\n",
              "      <th>Baths</th>\n",
              "      <th>Beds</th>\n",
              "      <th>Price</th>\n",
              "      <th>Suffix</th>\n",
              "      <th>Size</th>\n",
              "      <th>TotalPrice</th>\n",
              "    </tr>\n",
              "  </thead>\n",
              "  <tbody>\n",
              "    <tr>\n",
              "      <th>0</th>\n",
              "      <td>RAJUK PURBACHAL SECTOR-2</td>\n",
              "      <td>3</td>\n",
              "      <td>3</td>\n",
              "      <td>3600</td>\n",
              "      <td>per sqft</td>\n",
              "      <td>1250</td>\n",
              "      <td>4500000</td>\n",
              "    </tr>\n",
              "    <tr>\n",
              "      <th>1</th>\n",
              "      <td>Plot-19, Road-23, Block: D, Mirpur 12, Dhaka.</td>\n",
              "      <td>4</td>\n",
              "      <td>4</td>\n",
              "      <td>4500000</td>\n",
              "      <td>total price</td>\n",
              "      <td>1300</td>\n",
              "      <td>4500000</td>\n",
              "    </tr>\n",
              "    <tr>\n",
              "      <th>2</th>\n",
              "      <td>Plot # 39/1 &amp; 39/1/1, Road No.-04,  Shaymoli, ...</td>\n",
              "      <td>3</td>\n",
              "      <td>3</td>\n",
              "      <td>7000</td>\n",
              "      <td>per sqft</td>\n",
              "      <td>1280</td>\n",
              "      <td>8960000</td>\n",
              "    </tr>\n",
              "    <tr>\n",
              "      <th>3</th>\n",
              "      <td>Uttara</td>\n",
              "      <td>4</td>\n",
              "      <td>3</td>\n",
              "      <td>13000000</td>\n",
              "      <td>total price</td>\n",
              "      <td>1686</td>\n",
              "      <td>13000000</td>\n",
              "    </tr>\n",
              "    <tr>\n",
              "      <th>4</th>\n",
              "      <td>Plot: 310, Road No: 10, Block: J, Bashundhara R/A</td>\n",
              "      <td>4</td>\n",
              "      <td>3</td>\n",
              "      <td>6500</td>\n",
              "      <td>per sqft</td>\n",
              "      <td>1880</td>\n",
              "      <td>12220000</td>\n",
              "    </tr>\n",
              "  </tbody>\n",
              "</table>\n",
              "</div>"
            ],
            "text/plain": [
              "                                             Address  Baths  ...  Size  TotalPrice\n",
              "0                           RAJUK PURBACHAL SECTOR-2      3  ...  1250     4500000\n",
              "1      Plot-19, Road-23, Block: D, Mirpur 12, Dhaka.      4  ...  1300     4500000\n",
              "2  Plot # 39/1 & 39/1/1, Road No.-04,  Shaymoli, ...      3  ...  1280     8960000\n",
              "3                                             Uttara      4  ...  1686    13000000\n",
              "4  Plot: 310, Road No: 10, Block: J, Bashundhara R/A      4  ...  1880    12220000\n",
              "\n",
              "[5 rows x 7 columns]"
            ]
          },
          "metadata": {
            "tags": []
          },
          "execution_count": 10
        }
      ]
    },
    {
      "cell_type": "code",
      "metadata": {
        "id": "aNdl_9Sd4axC",
        "colab": {
          "base_uri": "https://localhost:8080/"
        },
        "outputId": "75f526e8-53cd-4ebc-fda1-837a005e2969"
      },
      "source": [
        "df.shape"
      ],
      "execution_count": null,
      "outputs": [
        {
          "output_type": "execute_result",
          "data": {
            "text/plain": [
              "(937, 7)"
            ]
          },
          "metadata": {
            "tags": []
          },
          "execution_count": 11
        }
      ]
    },
    {
      "cell_type": "code",
      "metadata": {
        "id": "gVDtMgZq4uDB"
      },
      "source": [
        ""
      ],
      "execution_count": null,
      "outputs": []
    },
    {
      "cell_type": "markdown",
      "metadata": {
        "id": "0snNxndO43nV"
      },
      "source": [
        "#Finding Missing Entries"
      ]
    },
    {
      "cell_type": "code",
      "metadata": {
        "id": "KxFsFYKD46f4",
        "colab": {
          "base_uri": "https://localhost:8080/"
        },
        "outputId": "df8161af-3ff2-40c9-f58f-2defbf079850"
      },
      "source": [
        "df.isnull().sum()"
      ],
      "execution_count": null,
      "outputs": [
        {
          "output_type": "execute_result",
          "data": {
            "text/plain": [
              "Address       0\n",
              "Baths         0\n",
              "Beds          0\n",
              "Price         0\n",
              "Suffix        0\n",
              "Size          0\n",
              "TotalPrice    0\n",
              "dtype: int64"
            ]
          },
          "metadata": {
            "tags": []
          },
          "execution_count": 12
        }
      ]
    },
    {
      "cell_type": "markdown",
      "metadata": {
        "id": "qOwGjrgC6L-s"
      },
      "source": [
        "#Finding Location from Address"
      ]
    },
    {
      "cell_type": "code",
      "metadata": {
        "id": "KI3zzQcQ5ssM"
      },
      "source": [
        "import re as re\n",
        "location = ['Basundhara','Bashundhara','Shaymoli', 'Mirpur', 'Uttara', 'Rampura', 'Mohammadpur', 'Gulshan', 'Dhanmondi', 'Khilgaon', 'Badda', 'Cantonment', 'Banani', 'Keraniganj', 'Baridhara', 'Malibag', 'Mogbazar', 'Khilkhet', 'Savar', 'Jatrabari', 'Basabo', 'Mohakhali', 'Farmgate', 'Banglamotor', 'Ramna', 'Wari', 'Purbachal', 'Sutrapur', 'Motijheel', 'Kafrul', 'Paltan', 'Lalbag', 'Demra', 'Tongi', 'Tejgaon', 'Kamrangirchar', 'Elephant Road', 'Bangshal', 'Chaukbazar', 'Dhamrai', 'Hazaribagh', 'New Market', 'Kotwali', 'Nawabganj', 'Dohar', 'Banani DOHS', 'Mirpur DOHS', 'Mohakhali DOHS', 'Shajahanpur']"
      ],
      "execution_count": null,
      "outputs": []
    },
    {
      "cell_type": "code",
      "metadata": {
        "id": "d0spyKnBEKRi",
        "colab": {
          "base_uri": "https://localhost:8080/"
        },
        "outputId": "e8f8f891-47da-436a-c776-00d44bb4f9ae"
      },
      "source": [
        "pat = '|'.join(r\"\\b{}\\b\".format(x) for x in location)\n",
        "\n",
        "df['Location'] = df['Address'].str.extract('('+ pat + ')', expand=False, flags=re.I)\n",
        "print (df)"
      ],
      "execution_count": null,
      "outputs": [
        {
          "output_type": "stream",
          "text": [
            "                                               Address  ...     Location\n",
            "0                             RAJUK PURBACHAL SECTOR-2  ...    PURBACHAL\n",
            "1        Plot-19, Road-23, Block: D, Mirpur 12, Dhaka.  ...       Mirpur\n",
            "2    Plot # 39/1 & 39/1/1, Road No.-04,  Shaymoli, ...  ...     Shaymoli\n",
            "3                                               Uttara  ...       Uttara\n",
            "4    Plot: 310, Road No: 10, Block: J, Bashundhara R/A  ...  Bashundhara\n",
            "..                                                 ...  ...          ...\n",
            "932                                      GULSHAN Dhaka  ...      GULSHAN\n",
            "933                                     Basundhara R/A  ...   Basundhara\n",
            "934                          Baridhara diplomatic zone  ...    Baridhara\n",
            "935  Address: Holding # 465 , Senpara Porbota, Mirp...  ...       Mirpur\n",
            "936                                suvastu nazar vally  ...          NaN\n",
            "\n",
            "[937 rows x 8 columns]\n"
          ],
          "name": "stdout"
        }
      ]
    },
    {
      "cell_type": "code",
      "metadata": {
        "id": "Cy-XIKDUEkuz",
        "colab": {
          "base_uri": "https://localhost:8080/"
        },
        "outputId": "6814cc5f-009c-4f44-f3e1-8f8a8f5dec3b"
      },
      "source": [
        "df.head()"
      ],
      "execution_count": null,
      "outputs": [
        {
          "output_type": "execute_result",
          "data": {
            "text/html": [
              "<div>\n",
              "<style scoped>\n",
              "    .dataframe tbody tr th:only-of-type {\n",
              "        vertical-align: middle;\n",
              "    }\n",
              "\n",
              "    .dataframe tbody tr th {\n",
              "        vertical-align: top;\n",
              "    }\n",
              "\n",
              "    .dataframe thead th {\n",
              "        text-align: right;\n",
              "    }\n",
              "</style>\n",
              "<table border=\"1\" class=\"dataframe\">\n",
              "  <thead>\n",
              "    <tr style=\"text-align: right;\">\n",
              "      <th></th>\n",
              "      <th>Address</th>\n",
              "      <th>Baths</th>\n",
              "      <th>Beds</th>\n",
              "      <th>Price</th>\n",
              "      <th>Suffix</th>\n",
              "      <th>Size</th>\n",
              "      <th>TotalPrice</th>\n",
              "      <th>Location</th>\n",
              "    </tr>\n",
              "  </thead>\n",
              "  <tbody>\n",
              "    <tr>\n",
              "      <th>0</th>\n",
              "      <td>RAJUK PURBACHAL SECTOR-2</td>\n",
              "      <td>3</td>\n",
              "      <td>3</td>\n",
              "      <td>3600</td>\n",
              "      <td>per sqft</td>\n",
              "      <td>1250</td>\n",
              "      <td>4500000</td>\n",
              "      <td>PURBACHAL</td>\n",
              "    </tr>\n",
              "    <tr>\n",
              "      <th>1</th>\n",
              "      <td>Plot-19, Road-23, Block: D, Mirpur 12, Dhaka.</td>\n",
              "      <td>4</td>\n",
              "      <td>4</td>\n",
              "      <td>4500000</td>\n",
              "      <td>total price</td>\n",
              "      <td>1300</td>\n",
              "      <td>4500000</td>\n",
              "      <td>Mirpur</td>\n",
              "    </tr>\n",
              "    <tr>\n",
              "      <th>2</th>\n",
              "      <td>Plot # 39/1 &amp; 39/1/1, Road No.-04,  Shaymoli, ...</td>\n",
              "      <td>3</td>\n",
              "      <td>3</td>\n",
              "      <td>7000</td>\n",
              "      <td>per sqft</td>\n",
              "      <td>1280</td>\n",
              "      <td>8960000</td>\n",
              "      <td>Shaymoli</td>\n",
              "    </tr>\n",
              "    <tr>\n",
              "      <th>3</th>\n",
              "      <td>Uttara</td>\n",
              "      <td>4</td>\n",
              "      <td>3</td>\n",
              "      <td>13000000</td>\n",
              "      <td>total price</td>\n",
              "      <td>1686</td>\n",
              "      <td>13000000</td>\n",
              "      <td>Uttara</td>\n",
              "    </tr>\n",
              "    <tr>\n",
              "      <th>4</th>\n",
              "      <td>Plot: 310, Road No: 10, Block: J, Bashundhara R/A</td>\n",
              "      <td>4</td>\n",
              "      <td>3</td>\n",
              "      <td>6500</td>\n",
              "      <td>per sqft</td>\n",
              "      <td>1880</td>\n",
              "      <td>12220000</td>\n",
              "      <td>Bashundhara</td>\n",
              "    </tr>\n",
              "  </tbody>\n",
              "</table>\n",
              "</div>"
            ],
            "text/plain": [
              "                                             Address  ...     Location\n",
              "0                           RAJUK PURBACHAL SECTOR-2  ...    PURBACHAL\n",
              "1      Plot-19, Road-23, Block: D, Mirpur 12, Dhaka.  ...       Mirpur\n",
              "2  Plot # 39/1 & 39/1/1, Road No.-04,  Shaymoli, ...  ...     Shaymoli\n",
              "3                                             Uttara  ...       Uttara\n",
              "4  Plot: 310, Road No: 10, Block: J, Bashundhara R/A  ...  Bashundhara\n",
              "\n",
              "[5 rows x 8 columns]"
            ]
          },
          "metadata": {
            "tags": []
          },
          "execution_count": 15
        }
      ]
    },
    {
      "cell_type": "code",
      "metadata": {
        "id": "rtvJUFLgEvNA",
        "colab": {
          "base_uri": "https://localhost:8080/"
        },
        "outputId": "acd97257-0c7a-4d45-d970-bf88bca44ce7"
      },
      "source": [
        "df.isnull().sum()"
      ],
      "execution_count": null,
      "outputs": [
        {
          "output_type": "execute_result",
          "data": {
            "text/plain": [
              "Address         0\n",
              "Baths           0\n",
              "Beds            0\n",
              "Price           0\n",
              "Suffix          0\n",
              "Size            0\n",
              "TotalPrice      0\n",
              "Location      253\n",
              "dtype: int64"
            ]
          },
          "metadata": {
            "tags": []
          },
          "execution_count": 16
        }
      ]
    },
    {
      "cell_type": "markdown",
      "metadata": {
        "id": "SxQMchHsflBA"
      },
      "source": [
        "#Removing rows where location is null\n"
      ]
    },
    {
      "cell_type": "code",
      "metadata": {
        "id": "EjWNRtXQecrR"
      },
      "source": [
        "df['Location'] = df['Location'].fillna(0)\n",
        "filtered_df = df[(df.Baths != 0) & (df.Beds != 0) & (df.Size != 0) & (df.TotalPrice != 0) & (df.Location != 0)]"
      ],
      "execution_count": null,
      "outputs": []
    },
    {
      "cell_type": "code",
      "metadata": {
        "id": "PpIO4715eui0",
        "colab": {
          "base_uri": "https://localhost:8080/"
        },
        "outputId": "ce31c16d-267c-4486-df28-5373a2526032"
      },
      "source": [
        "df =filtered_df\n",
        "df.shape"
      ],
      "execution_count": null,
      "outputs": [
        {
          "output_type": "execute_result",
          "data": {
            "text/plain": [
              "(684, 8)"
            ]
          },
          "metadata": {
            "tags": []
          },
          "execution_count": 18
        }
      ]
    },
    {
      "cell_type": "code",
      "metadata": {
        "id": "w-vP2ahw_kPb"
      },
      "source": [
        ""
      ],
      "execution_count": null,
      "outputs": []
    },
    {
      "cell_type": "code",
      "metadata": {
        "id": "cVatG7tgfw9q",
        "colab": {
          "base_uri": "https://localhost:8080/"
        },
        "outputId": "0e34f0df-6acb-4f01-8c91-f7cf05a4decc"
      },
      "source": [
        "df.isnull().sum()"
      ],
      "execution_count": null,
      "outputs": [
        {
          "output_type": "execute_result",
          "data": {
            "text/plain": [
              "Address       0\n",
              "Baths         0\n",
              "Beds          0\n",
              "Price         0\n",
              "Suffix        0\n",
              "Size          0\n",
              "TotalPrice    0\n",
              "Location      0\n",
              "dtype: int64"
            ]
          },
          "metadata": {
            "tags": []
          },
          "execution_count": 19
        }
      ]
    },
    {
      "cell_type": "code",
      "metadata": {
        "id": "oNQ0aYmqgWW3",
        "colab": {
          "base_uri": "https://localhost:8080/"
        },
        "outputId": "0552d0d3-94fd-4fb4-9eef-4c6c74080b43"
      },
      "source": [
        "df"
      ],
      "execution_count": null,
      "outputs": [
        {
          "output_type": "execute_result",
          "data": {
            "text/html": [
              "<div>\n",
              "<style scoped>\n",
              "    .dataframe tbody tr th:only-of-type {\n",
              "        vertical-align: middle;\n",
              "    }\n",
              "\n",
              "    .dataframe tbody tr th {\n",
              "        vertical-align: top;\n",
              "    }\n",
              "\n",
              "    .dataframe thead th {\n",
              "        text-align: right;\n",
              "    }\n",
              "</style>\n",
              "<table border=\"1\" class=\"dataframe\">\n",
              "  <thead>\n",
              "    <tr style=\"text-align: right;\">\n",
              "      <th></th>\n",
              "      <th>Address</th>\n",
              "      <th>Baths</th>\n",
              "      <th>Beds</th>\n",
              "      <th>Price</th>\n",
              "      <th>Suffix</th>\n",
              "      <th>Size</th>\n",
              "      <th>TotalPrice</th>\n",
              "      <th>Location</th>\n",
              "    </tr>\n",
              "  </thead>\n",
              "  <tbody>\n",
              "    <tr>\n",
              "      <th>0</th>\n",
              "      <td>RAJUK PURBACHAL SECTOR-2</td>\n",
              "      <td>3</td>\n",
              "      <td>3</td>\n",
              "      <td>3600</td>\n",
              "      <td>per sqft</td>\n",
              "      <td>1250</td>\n",
              "      <td>4500000</td>\n",
              "      <td>PURBACHAL</td>\n",
              "    </tr>\n",
              "    <tr>\n",
              "      <th>1</th>\n",
              "      <td>Plot-19, Road-23, Block: D, Mirpur 12, Dhaka.</td>\n",
              "      <td>4</td>\n",
              "      <td>4</td>\n",
              "      <td>4500000</td>\n",
              "      <td>total price</td>\n",
              "      <td>1300</td>\n",
              "      <td>4500000</td>\n",
              "      <td>Mirpur</td>\n",
              "    </tr>\n",
              "    <tr>\n",
              "      <th>2</th>\n",
              "      <td>Plot # 39/1 &amp; 39/1/1, Road No.-04,  Shaymoli, ...</td>\n",
              "      <td>3</td>\n",
              "      <td>3</td>\n",
              "      <td>7000</td>\n",
              "      <td>per sqft</td>\n",
              "      <td>1280</td>\n",
              "      <td>8960000</td>\n",
              "      <td>Shaymoli</td>\n",
              "    </tr>\n",
              "    <tr>\n",
              "      <th>3</th>\n",
              "      <td>Uttara</td>\n",
              "      <td>4</td>\n",
              "      <td>3</td>\n",
              "      <td>13000000</td>\n",
              "      <td>total price</td>\n",
              "      <td>1686</td>\n",
              "      <td>13000000</td>\n",
              "      <td>Uttara</td>\n",
              "    </tr>\n",
              "    <tr>\n",
              "      <th>4</th>\n",
              "      <td>Plot: 310, Road No: 10, Block: J, Bashundhara R/A</td>\n",
              "      <td>4</td>\n",
              "      <td>3</td>\n",
              "      <td>6500</td>\n",
              "      <td>per sqft</td>\n",
              "      <td>1880</td>\n",
              "      <td>12220000</td>\n",
              "      <td>Bashundhara</td>\n",
              "    </tr>\n",
              "    <tr>\n",
              "      <th>...</th>\n",
              "      <td>...</td>\n",
              "      <td>...</td>\n",
              "      <td>...</td>\n",
              "      <td>...</td>\n",
              "      <td>...</td>\n",
              "      <td>...</td>\n",
              "      <td>...</td>\n",
              "      <td>...</td>\n",
              "    </tr>\n",
              "    <tr>\n",
              "      <th>931</th>\n",
              "      <td>Solimuddin Market Road , Mirpur-1, Dhaka-1216</td>\n",
              "      <td>4</td>\n",
              "      <td>4</td>\n",
              "      <td>5000000</td>\n",
              "      <td>total price</td>\n",
              "      <td>1500</td>\n",
              "      <td>5000000</td>\n",
              "      <td>Mirpur</td>\n",
              "    </tr>\n",
              "    <tr>\n",
              "      <th>932</th>\n",
              "      <td>GULSHAN Dhaka</td>\n",
              "      <td>6</td>\n",
              "      <td>5</td>\n",
              "      <td>15000</td>\n",
              "      <td>per sqft</td>\n",
              "      <td>4700</td>\n",
              "      <td>70500000</td>\n",
              "      <td>GULSHAN</td>\n",
              "    </tr>\n",
              "    <tr>\n",
              "      <th>933</th>\n",
              "      <td>Basundhara R/A</td>\n",
              "      <td>3</td>\n",
              "      <td>3</td>\n",
              "      <td>6350</td>\n",
              "      <td>per sqft</td>\n",
              "      <td>1550</td>\n",
              "      <td>9842500</td>\n",
              "      <td>Basundhara</td>\n",
              "    </tr>\n",
              "    <tr>\n",
              "      <th>934</th>\n",
              "      <td>Baridhara diplomatic zone</td>\n",
              "      <td>4</td>\n",
              "      <td>4</td>\n",
              "      <td>22000</td>\n",
              "      <td>per sqft</td>\n",
              "      <td>3500</td>\n",
              "      <td>77000000</td>\n",
              "      <td>Baridhara</td>\n",
              "    </tr>\n",
              "    <tr>\n",
              "      <th>935</th>\n",
              "      <td>Address: Holding # 465 , Senpara Porbota, Mirp...</td>\n",
              "      <td>3</td>\n",
              "      <td>3</td>\n",
              "      <td>4800</td>\n",
              "      <td>per sqft</td>\n",
              "      <td>1420</td>\n",
              "      <td>6816000</td>\n",
              "      <td>Mirpur</td>\n",
              "    </tr>\n",
              "  </tbody>\n",
              "</table>\n",
              "<p>684 rows × 8 columns</p>\n",
              "</div>"
            ],
            "text/plain": [
              "                                               Address  ...     Location\n",
              "0                             RAJUK PURBACHAL SECTOR-2  ...    PURBACHAL\n",
              "1        Plot-19, Road-23, Block: D, Mirpur 12, Dhaka.  ...       Mirpur\n",
              "2    Plot # 39/1 & 39/1/1, Road No.-04,  Shaymoli, ...  ...     Shaymoli\n",
              "3                                               Uttara  ...       Uttara\n",
              "4    Plot: 310, Road No: 10, Block: J, Bashundhara R/A  ...  Bashundhara\n",
              "..                                                 ...  ...          ...\n",
              "931      Solimuddin Market Road , Mirpur-1, Dhaka-1216  ...       Mirpur\n",
              "932                                      GULSHAN Dhaka  ...      GULSHAN\n",
              "933                                     Basundhara R/A  ...   Basundhara\n",
              "934                          Baridhara diplomatic zone  ...    Baridhara\n",
              "935  Address: Holding # 465 , Senpara Porbota, Mirp...  ...       Mirpur\n",
              "\n",
              "[684 rows x 8 columns]"
            ]
          },
          "metadata": {
            "tags": []
          },
          "execution_count": 20
        }
      ]
    },
    {
      "cell_type": "markdown",
      "metadata": {
        "id": "Ax6eDszykw5M"
      },
      "source": [
        "#Histogram for the features"
      ]
    },
    {
      "cell_type": "code",
      "metadata": {
        "id": "YPGOUf9lgby4",
        "colab": {
          "base_uri": "https://localhost:8080/"
        },
        "outputId": "35726c5d-789b-420f-8dab-462d700d4fdf"
      },
      "source": [
        "df.hist(column='Beds',figsize=(15,7), layout=None, bins=20)"
      ],
      "execution_count": null,
      "outputs": [
        {
          "output_type": "execute_result",
          "data": {
            "text/plain": [
              "array([[<matplotlib.axes._subplots.AxesSubplot object at 0x7f772268f790>]],\n",
              "      dtype=object)"
            ]
          },
          "metadata": {
            "tags": []
          },
          "execution_count": 21
        },
        {
          "output_type": "display_data",
          "data": {
            "image/png": "[encoded data removed]",
            "text/plain": [
              "<Figure size 1080x504 with 1 Axes>"
            ]
          },
          "metadata": {
            "tags": [],
            "needs_background": "light"
          }
        }
      ]
    },
    {
      "cell_type": "code",
      "metadata": {
        "id": "CCuHr6DAk7BX",
        "colab": {
          "base_uri": "https://localhost:8080/"
        },
        "outputId": "657d497b-7a29-4f14-cf60-7dba12c7db58"
      },
      "source": [
        "df.hist(column='Baths',figsize=(15,7), layout=None, bins=20)"
      ],
      "execution_count": null,
      "outputs": [
        {
          "output_type": "execute_result",
          "data": {
            "text/plain": [
              "array([[<matplotlib.axes._subplots.AxesSubplot object at 0x7f771bd909d0>]],\n",
              "      dtype=object)"
            ]
          },
          "metadata": {
            "tags": []
          },
          "execution_count": 22
        },
        {
          "output_type": "display_data",
          "data": {
            "image/png": "[encoded data removed]",
            "text/plain": [
              "<Figure size 1080x504 with 1 Axes>"
            ]
          },
          "metadata": {
            "tags": [],
            "needs_background": "light"
          }
        }
      ]
    },
    {
      "cell_type": "markdown",
      "metadata": {
        "id": "gFA-fWqdmJlM"
      },
      "source": [
        "#Seaborn Corellation Heat Map"
      ]
    },
    {
      "cell_type": "markdown",
      "metadata": {
        "id": "cqRbqN9wVtPC"
      },
      "source": [
        "# New Section"
      ]
    },
    {
      "cell_type": "code",
      "metadata": {
        "id": "6JUSqo6ymPUc",
        "colab": {
          "base_uri": "https://localhost:8080/"
        },
        "outputId": "e090e8dc-be23-4db9-da9f-ddb1ec001781"
      },
      "source": [
        "!pip install seaborn\n",
        "!conda install seaborn"
      ],
      "execution_count": null,
      "outputs": [
        {
          "output_type": "stream",
          "text": [
            "Requirement already satisfied: seaborn in /usr/local/lib/python3.7/dist-packages (0.11.1)\n",
            "Requirement already satisfied: matplotlib>=2.2 in /usr/local/lib/python3.7/dist-packages (from seaborn) (3.2.2)\n",
            "Requirement already satisfied: pandas>=0.23 in /usr/local/lib/python3.7/dist-packages (from seaborn) (1.1.5)\n",
            "Requirement already satisfied: numpy>=1.15 in /usr/local/lib/python3.7/dist-packages (from seaborn) (1.19.5)\n",
            "Requirement already satisfied: scipy>=1.0 in /usr/local/lib/python3.7/dist-packages (from seaborn) (1.4.1)\n",
            "Requirement already satisfied: python-dateutil>=2.1 in /usr/local/lib/python3.7/dist-packages (from matplotlib>=2.2->seaborn) (2.8.1)\n",
            "Requirement already satisfied: kiwisolver>=1.0.1 in /usr/local/lib/python3.7/dist-packages (from matplotlib>=2.2->seaborn) (1.3.1)\n",
            "Requirement already satisfied: pyparsing!=2.0.4,!=2.1.2,!=2.1.6,>=2.0.1 in /usr/local/lib/python3.7/dist-packages (from matplotlib>=2.2->seaborn) (2.4.7)\n",
            "Requirement already satisfied: cycler>=0.10 in /usr/local/lib/python3.7/dist-packages (from matplotlib>=2.2->seaborn) (0.10.0)\n",
            "Requirement already satisfied: pytz>=2017.2 in /usr/local/lib/python3.7/dist-packages (from pandas>=0.23->seaborn) (2018.9)\n",
            "Requirement already satisfied: six>=1.5 in /usr/local/lib/python3.7/dist-packages (from python-dateutil>=2.1->matplotlib>=2.2->seaborn) (1.15.0)\n",
            "/bin/bash: conda: command not found\n"
          ],
          "name": "stdout"
        }
      ]
    },
    {
      "cell_type": "code",
      "metadata": {
        "id": "bxi-WiNDmS4E"
      },
      "source": [
        "import matplotlib.pyplot as mp\n",
        "import seaborn as sb\n",
        "\n",
        "%matplotlib inline\n",
        "mp.rcParams[\"figure.figsize\"] = [15, 12]\n"
      ],
      "execution_count": null,
      "outputs": []
    },
    {
      "cell_type": "code",
      "metadata": {
        "id": "X28i2JVGmYiu",
        "colab": {
          "base_uri": "https://localhost:8080/"
        },
        "outputId": "e674f2d0-9337-47b5-c655-77d417c8dfbf"
      },
      "source": [
        "print(df.corr())"
      ],
      "execution_count": null,
      "outputs": [
        {
          "output_type": "stream",
          "text": [
            "               Baths      Beds     Price      Size  TotalPrice\n",
            "Baths       1.000000  0.653201  0.123962  0.587108    0.371990\n",
            "Beds        0.653201  1.000000  0.078431  0.623011    0.422955\n",
            "Price       0.123962  0.078431  1.000000  0.170974    0.459616\n",
            "Size        0.587108  0.623011  0.170974  1.000000    0.820586\n",
            "TotalPrice  0.371990  0.422955  0.459616  0.820586    1.000000\n"
          ],
          "name": "stdout"
        }
      ]
    },
    {
      "cell_type": "code",
      "metadata": {
        "id": "P7Yqu3OFmgD5",
        "colab": {
          "base_uri": "https://localhost:8080/",
          "height": 704
        },
        "outputId": "70d4d762-a174-40ab-b94b-a7bda5634fa9"
      },
      "source": [
        "\n",
        "\n",
        "dataplot = sb.heatmap(df.corr(),cmap=\"YlGnBu\", annot=True)"
      ],
      "execution_count": null,
      "outputs": [
        {
          "output_type": "display_data",
          "data": {
            "image/png": "[encoded data removed]",
            "text/plain": [
              "<Figure size 1080x864 with 2 Axes>"
            ]
          },
          "metadata": {
            "tags": [],
            "needs_background": "light"
          }
        }
      ]
    },
    {
      "cell_type": "code",
      "metadata": {
        "id": "mWfEUARmmno2"
      },
      "source": [
        "df.to_csv(r'BikroyFinal1.csv', index=True)"
      ],
      "execution_count": null,
      "outputs": []
    },
    {
      "cell_type": "code",
      "metadata": {
        "id": "Q6TDoD7eQpdF",
        "colab": {
          "base_uri": "https://localhost:8080/",
          "height": 742
        },
        "outputId": "ad6a6de4-4e5e-41ea-d5af-4f36c323a9f9"
      },
      "source": [
        "ax = df.plot.bar(x='Beds',y='TotalPrice',rot=0)\n",
        "ax.plot()\n"
      ],
      "execution_count": null,
      "outputs": [
        {
          "output_type": "execute_result",
          "data": {
            "text/plain": [
              "[]"
            ]
          },
          "metadata": {
            "tags": []
          },
          "execution_count": 28
        },
        {
          "output_type": "display_data",
          "data": {
            "image/png": "[encoded data removed]",
            "text/plain": [
              "<Figure size 1080x864 with 1 Axes>"
            ]
          },
          "metadata": {
            "tags": [],
            "needs_background": "light"
          }
        }
      ]
    },
    {
      "cell_type": "code",
      "metadata": {
        "id": "2qSbCY81YOZf",
        "colab": {
          "base_uri": "https://localhost:8080/"
        },
        "outputId": "1f1e3388-0d42-4ce8-e349-80a0967d8f66"
      },
      "source": [
        "!pip install turicreate"
      ],
      "execution_count": null,
      "outputs": [
        {
          "output_type": "stream",
          "text": [
            "Collecting turicreate\n",
            "\u001b[?25l  Downloading https://files.pythonhosted.org/packages/25/9f/a76acc465d873d217f05eac4846bd73d640b9db6d6f4a3c29ad92650fbbe/turicreate-6.4.1-cp37-cp37m-manylinux1_x86_64.whl (92.0MB)\n",
            "\u001b[K     |████████████████████████████████| 92.0MB 46kB/s \n",
            "\u001b[?25hRequirement already satisfied: scipy>=1.1.0 in /usr/local/lib/python3.7/dist-packages (from turicreate) (1.4.1)\n",
            "Collecting prettytable==0.7.2\n",
            "  Downloading https://files.pythonhosted.org/packages/ef/30/4b0746848746ed5941f052479e7c23d2b56d174b82f4fd34a25e389831f5/prettytable-0.7.2.tar.bz2\n",
            "Collecting numba<0.51.0\n",
            "\u001b[?25l  Downloading https://files.pythonhosted.org/packages/04/be/8c88cee3366de2a3a23a9ff1a8be34e79ad1eb1ceb0d0e33aca83655ac3c/numba-0.50.1-cp37-cp37m-manylinux2014_x86_64.whl (3.6MB)\n",
            "\u001b[K     |████████████████████████████████| 3.6MB 35.8MB/s \n",
            "\u001b[?25hRequirement already satisfied: pillow>=5.2.0 in /usr/local/lib/python3.7/dist-packages (from turicreate) (7.1.2)\n",
            "Requirement already satisfied: decorator>=4.0.9 in /usr/local/lib/python3.7/dist-packages (from turicreate) (4.4.2)\n",
            "Collecting coremltools==3.3\n",
            "\u001b[?25l  Downloading https://files.pythonhosted.org/packages/1b/1d/b1a99beca7355b6a026ae61fd8d3d36136e5b36f13e92ec5f81aceffc7f1/coremltools-3.3-cp37-none-manylinux1_x86_64.whl (3.5MB)\n",
            "\u001b[K     |████████████████████████████████| 3.5MB 24.0MB/s \n",
            "\u001b[?25hRequirement already satisfied: numpy in /usr/local/lib/python3.7/dist-packages (from turicreate) (1.19.5)\n",
            "Requirement already satisfied: requests>=2.9.1 in /usr/local/lib/python3.7/dist-packages (from turicreate) (2.23.0)\n",
            "Requirement already satisfied: six>=1.10.0 in /usr/local/lib/python3.7/dist-packages (from turicreate) (1.15.0)\n",
            "Collecting tensorflow<2.1.0,>=2.0.0\n",
            "\u001b[?25l  Downloading https://files.pythonhosted.org/packages/3c/b3/3eeae9bc44039ceadceac0c7ba1cc8b1482b172810b3d7624a1cad251437/tensorflow-2.0.4-cp37-cp37m-manylinux2010_x86_64.whl (86.4MB)\n",
            "\u001b[K     |████████████████████████████████| 86.4MB 50kB/s \n",
            "\u001b[?25hRequirement already satisfied: pandas>=0.23.2 in /usr/local/lib/python3.7/dist-packages (from turicreate) (1.1.5)\n",
            "Collecting resampy==0.2.1\n",
            "\u001b[?25l  Downloading https://files.pythonhosted.org/packages/14/b6/66a06d85474190b50aee1a6c09cdc95bb405ac47338b27e9b21409da1760/resampy-0.2.1.tar.gz (322kB)\n",
            "\u001b[K     |████████████████████████████████| 327kB 40.3MB/s \n",
            "\u001b[?25hCollecting llvmlite<0.34,>=0.33.0.dev0\n",
            "\u001b[?25l  Downloading https://files.pythonhosted.org/packages/0a/28/0a35b3c2685bf2ea327cef5577bdf91f387f0f4594417a2a05a1d42fb7c2/llvmlite-0.33.0-cp37-cp37m-manylinux1_x86_64.whl (18.3MB)\n",
            "\u001b[K     |████████████████████████████████| 18.3MB 252kB/s \n",
            "\u001b[?25hRequirement already satisfied: setuptools in /usr/local/lib/python3.7/dist-packages (from numba<0.51.0->turicreate) (56.1.0)\n",
            "Requirement already satisfied: protobuf>=3.1.0 in /usr/local/lib/python3.7/dist-packages (from coremltools==3.3->turicreate) (3.12.4)\n",
            "Requirement already satisfied: chardet<4,>=3.0.2 in /usr/local/lib/python3.7/dist-packages (from requests>=2.9.1->turicreate) (3.0.4)\n",
            "Requirement already satisfied: idna<3,>=2.5 in /usr/local/lib/python3.7/dist-packages (from requests>=2.9.1->turicreate) (2.10)\n",
            "Requirement already satisfied: certifi>=2017.4.17 in /usr/local/lib/python3.7/dist-packages (from requests>=2.9.1->turicreate) (2020.12.5)\n",
            "Requirement already satisfied: urllib3!=1.25.0,!=1.25.1,<1.26,>=1.21.1 in /usr/local/lib/python3.7/dist-packages (from requests>=2.9.1->turicreate) (1.24.3)\n",
            "Requirement already satisfied: opt-einsum>=2.3.2 in /usr/local/lib/python3.7/dist-packages (from tensorflow<2.1.0,>=2.0.0->turicreate) (3.3.0)\n",
            "Collecting tensorflow-estimator<2.1.0,>=2.0.0\n",
            "\u001b[?25l  Downloading https://files.pythonhosted.org/packages/fc/08/8b927337b7019c374719145d1dceba21a8bb909b93b1ad6f8fb7d22c1ca1/tensorflow_estimator-2.0.1-py2.py3-none-any.whl (449kB)\n",
            "\u001b[K     |████████████████████████████████| 450kB 41.0MB/s \n",
            "\u001b[?25hRequirement already satisfied: grpcio>=1.8.6 in /usr/local/lib/python3.7/dist-packages (from tensorflow<2.1.0,>=2.0.0->turicreate) (1.32.0)\n",
            "Collecting tensorboard<2.1.0,>=2.0.0\n",
            "\u001b[?25l  Downloading https://files.pythonhosted.org/packages/76/54/99b9d5d52d5cb732f099baaaf7740403e83fe6b0cedde940fabd2b13d75a/tensorboard-2.0.2-py3-none-any.whl (3.8MB)\n",
            "\u001b[K     |████████████████████████████████| 3.8MB 30.3MB/s \n",
            "\u001b[?25hRequirement already satisfied: astor>=0.6.0 in /usr/local/lib/python3.7/dist-packages (from tensorflow<2.1.0,>=2.0.0->turicreate) (0.8.1)\n",
            "Collecting keras-applications>=1.0.8\n",
            "\u001b[?25l  Downloading https://files.pythonhosted.org/packages/71/e3/19762fdfc62877ae9102edf6342d71b28fbfd9dea3d2f96a882ce099b03f/Keras_Applications-1.0.8-py3-none-any.whl (50kB)\n",
            "\u001b[K     |████████████████████████████████| 51kB 6.5MB/s \n",
            "\u001b[?25hRequirement already satisfied: google-pasta>=0.1.6 in /usr/local/lib/python3.7/dist-packages (from tensorflow<2.1.0,>=2.0.0->turicreate) (0.2.0)\n",
            "Collecting gast==0.2.2\n",
            "  Downloading https://files.pythonhosted.org/packages/4e/35/11749bf99b2d4e3cceb4d55ca22590b0d7c2c62b9de38ac4a4a7f4687421/gast-0.2.2.tar.gz\n",
            "Requirement already satisfied: wrapt>=1.11.1 in /usr/local/lib/python3.7/dist-packages (from tensorflow<2.1.0,>=2.0.0->turicreate) (1.12.1)\n",
            "Requirement already satisfied: termcolor>=1.1.0 in /usr/local/lib/python3.7/dist-packages (from tensorflow<2.1.0,>=2.0.0->turicreate) (1.1.0)\n",
            "Requirement already satisfied: wheel>=0.26; python_version >= \"3\" in /usr/local/lib/python3.7/dist-packages (from tensorflow<2.1.0,>=2.0.0->turicreate) (0.36.2)\n",
            "Requirement already satisfied: absl-py>=0.7.0 in /usr/local/lib/python3.7/dist-packages (from tensorflow<2.1.0,>=2.0.0->turicreate) (0.12.0)\n",
            "Requirement already satisfied: h5py<=2.10.0 in /usr/local/lib/python3.7/dist-packages (from tensorflow<2.1.0,>=2.0.0->turicreate) (2.10.0)\n",
            "Requirement already satisfied: keras-preprocessing>=1.0.5 in /usr/local/lib/python3.7/dist-packages (from tensorflow<2.1.0,>=2.0.0->turicreate) (1.1.2)\n",
            "Requirement already satisfied: pytz>=2017.2 in /usr/local/lib/python3.7/dist-packages (from pandas>=0.23.2->turicreate) (2018.9)\n",
            "Requirement already satisfied: python-dateutil>=2.7.3 in /usr/local/lib/python3.7/dist-packages (from pandas>=0.23.2->turicreate) (2.8.1)\n",
            "Requirement already satisfied: google-auth-oauthlib<0.5,>=0.4.1 in /usr/local/lib/python3.7/dist-packages (from tensorboard<2.1.0,>=2.0.0->tensorflow<2.1.0,>=2.0.0->turicreate) (0.4.4)\n",
            "Requirement already satisfied: google-auth<2,>=1.6.3 in /usr/local/lib/python3.7/dist-packages (from tensorboard<2.1.0,>=2.0.0->tensorflow<2.1.0,>=2.0.0->turicreate) (1.30.0)\n",
            "Requirement already satisfied: werkzeug>=0.11.15 in /usr/local/lib/python3.7/dist-packages (from tensorboard<2.1.0,>=2.0.0->tensorflow<2.1.0,>=2.0.0->turicreate) (2.0.0)\n",
            "Requirement already satisfied: markdown>=2.6.8 in /usr/local/lib/python3.7/dist-packages (from tensorboard<2.1.0,>=2.0.0->tensorflow<2.1.0,>=2.0.0->turicreate) (3.3.4)\n",
            "Requirement already satisfied: requests-oauthlib>=0.7.0 in /usr/local/lib/python3.7/dist-packages (from google-auth-oauthlib<0.5,>=0.4.1->tensorboard<2.1.0,>=2.0.0->tensorflow<2.1.0,>=2.0.0->turicreate) (1.3.0)\n",
            "Requirement already satisfied: cachetools<5.0,>=2.0.0 in /usr/local/lib/python3.7/dist-packages (from google-auth<2,>=1.6.3->tensorboard<2.1.0,>=2.0.0->tensorflow<2.1.0,>=2.0.0->turicreate) (4.2.2)\n",
            "Requirement already satisfied: rsa<5,>=3.1.4; python_version >= \"3.6\" in /usr/local/lib/python3.7/dist-packages (from google-auth<2,>=1.6.3->tensorboard<2.1.0,>=2.0.0->tensorflow<2.1.0,>=2.0.0->turicreate) (4.7.2)\n",
            "Requirement already satisfied: pyasn1-modules>=0.2.1 in /usr/local/lib/python3.7/dist-packages (from google-auth<2,>=1.6.3->tensorboard<2.1.0,>=2.0.0->tensorflow<2.1.0,>=2.0.0->turicreate) (0.2.8)\n",
            "Requirement already satisfied: importlib-metadata; python_version < \"3.8\" in /usr/local/lib/python3.7/dist-packages (from markdown>=2.6.8->tensorboard<2.1.0,>=2.0.0->tensorflow<2.1.0,>=2.0.0->turicreate) (4.0.1)\n",
            "Requirement already satisfied: oauthlib>=3.0.0 in /usr/local/lib/python3.7/dist-packages (from requests-oauthlib>=0.7.0->google-auth-oauthlib<0.5,>=0.4.1->tensorboard<2.1.0,>=2.0.0->tensorflow<2.1.0,>=2.0.0->turicreate) (3.1.0)\n",
            "Requirement already satisfied: pyasn1>=0.1.3 in /usr/local/lib/python3.7/dist-packages (from rsa<5,>=3.1.4; python_version >= \"3.6\"->google-auth<2,>=1.6.3->tensorboard<2.1.0,>=2.0.0->tensorflow<2.1.0,>=2.0.0->turicreate) (0.4.8)\n",
            "Requirement already satisfied: zipp>=0.5 in /usr/local/lib/python3.7/dist-packages (from importlib-metadata; python_version < \"3.8\"->markdown>=2.6.8->tensorboard<2.1.0,>=2.0.0->tensorflow<2.1.0,>=2.0.0->turicreate) (3.4.1)\n",
            "Requirement already satisfied: typing-extensions>=3.6.4; python_version < \"3.8\" in /usr/local/lib/python3.7/dist-packages (from importlib-metadata; python_version < \"3.8\"->markdown>=2.6.8->tensorboard<2.1.0,>=2.0.0->tensorflow<2.1.0,>=2.0.0->turicreate) (3.7.4.3)\n",
            "Building wheels for collected packages: prettytable, resampy, gast\n",
            "  Building wheel for prettytable (setup.py) ... \u001b[?25l\u001b[?25hdone\n",
            "  Created wheel for prettytable: filename=prettytable-0.7.2-cp37-none-any.whl size=13700 sha256=30e549749b4bfc0b36a7d8b8ca72a6ae744400244bd2c203bef85c869bb6f798\n",
            "  Stored in directory: /root/.cache/pip/wheels/80/34/1c/3967380d9676d162cb59513bd9dc862d0584e045a162095606\n",
            "  Building wheel for resampy (setup.py) ... \u001b[?25l\u001b[?25hdone\n",
            "  Created wheel for resampy: filename=resampy-0.2.1-cp37-none-any.whl size=320845 sha256=bedd4ec965234a7118dc203645bc8aca2db950f0c29d69151eb0b04ce35e3790\n",
            "  Stored in directory: /root/.cache/pip/wheels/ff/4f/ed/2e6c676c23efe5394bb40ade50662e90eb46e29b48324c5f9b\n",
            "  Building wheel for gast (setup.py) ... \u001b[?25l\u001b[?25hdone\n",
            "  Created wheel for gast: filename=gast-0.2.2-cp37-none-any.whl size=7540 sha256=2351dfcd50fcda7bf0819ebbd96909095b0b09a8a730e77c1cef71dbeb917d48\n",
            "  Stored in directory: /root/.cache/pip/wheels/5c/2e/7e/a1d4d4fcebe6c381f378ce7743a3ced3699feb89bcfbdadadd\n",
            "Successfully built prettytable resampy gast\n",
            "\u001b[31mERROR: tensorflow 2.0.4 has requirement numpy<1.19.0,>=1.16.0, but you'll have numpy 1.19.5 which is incompatible.\u001b[0m\n",
            "\u001b[31mERROR: tensorflow-probability 0.12.1 has requirement gast>=0.3.2, but you'll have gast 0.2.2 which is incompatible.\u001b[0m\n",
            "\u001b[31mERROR: librosa 0.8.0 has requirement resampy>=0.2.2, but you'll have resampy 0.2.1 which is incompatible.\u001b[0m\n",
            "Installing collected packages: prettytable, llvmlite, numba, coremltools, tensorflow-estimator, tensorboard, keras-applications, gast, tensorflow, resampy, turicreate\n",
            "  Found existing installation: prettytable 2.1.0\n",
            "    Uninstalling prettytable-2.1.0:\n",
            "      Successfully uninstalled prettytable-2.1.0\n",
            "  Found existing installation: llvmlite 0.34.0\n",
            "    Uninstalling llvmlite-0.34.0:\n",
            "      Successfully uninstalled llvmlite-0.34.0\n",
            "  Found existing installation: numba 0.51.2\n",
            "    Uninstalling numba-0.51.2:\n",
            "      Successfully uninstalled numba-0.51.2\n",
            "  Found existing installation: tensorflow-estimator 2.4.0\n",
            "    Uninstalling tensorflow-estimator-2.4.0:\n",
            "      Successfully uninstalled tensorflow-estimator-2.4.0\n",
            "  Found existing installation: tensorboard 2.4.1\n",
            "    Uninstalling tensorboard-2.4.1:\n",
            "      Successfully uninstalled tensorboard-2.4.1\n",
            "  Found existing installation: gast 0.3.3\n",
            "    Uninstalling gast-0.3.3:\n",
            "      Successfully uninstalled gast-0.3.3\n",
            "  Found existing installation: tensorflow 2.4.1\n",
            "    Uninstalling tensorflow-2.4.1:\n",
            "      Successfully uninstalled tensorflow-2.4.1\n",
            "  Found existing installation: resampy 0.2.2\n",
            "    Uninstalling resampy-0.2.2:\n",
            "      Successfully uninstalled resampy-0.2.2\n",
            "Successfully installed coremltools-3.3 gast-0.2.2 keras-applications-1.0.8 llvmlite-0.33.0 numba-0.50.1 prettytable-0.7.2 resampy-0.2.1 tensorboard-2.0.2 tensorflow-2.0.4 tensorflow-estimator-2.0.1 turicreate-6.4.1\n"
          ],
          "name": "stdout"
        }
      ]
    },
    {
      "cell_type": "code",
      "metadata": {
        "id": "vioMrTjoTBQK"
      },
      "source": [
        ""
      ],
      "execution_count": null,
      "outputs": []
    },
    {
      "cell_type": "markdown",
      "metadata": {
        "id": "chm9WKHbTafo"
      },
      "source": [
        "#Converting Filtered Data from DFrame to Sframe\n"
      ]
    },
    {
      "cell_type": "code",
      "metadata": {
        "id": "Z3VWENZHTiBz",
        "colab": {
          "base_uri": "https://localhost:8080/"
        },
        "outputId": "a47ff13d-88bf-4f71-be14-5793f996db6c"
      },
      "source": [
        "import turicreate as tc\n",
        "data =tc.SFrame('/content/gdrive/My Drive/Bikroy/Bikroy Final.csv')"
      ],
      "execution_count": null,
      "outputs": [
        {
          "output_type": "display_data",
          "data": {
            "text/html": [
              "<pre>Finished parsing file /content/gdrive/My Drive/Bikroy/Bikroy Final.csv</pre>"
            ],
            "text/plain": [
              "Finished parsing file /content/gdrive/My Drive/Bikroy/Bikroy Final.csv"
            ]
          },
          "metadata": {
            "tags": []
          }
        },
        {
          "output_type": "display_data",
          "data": {
            "text/html": [
              "<pre>Parsing completed. Parsed 100 lines in 0.035967 secs.</pre>"
            ],
            "text/plain": [
              "Parsing completed. Parsed 100 lines in 0.035967 secs."
            ]
          },
          "metadata": {
            "tags": []
          }
        },
        {
          "output_type": "stream",
          "text": [
            "------------------------------------------------------\n",
            "Inferred types from first 100 line(s) of file as \n",
            "column_type_hints=[int,str,int,int,int,str,int,int,str,int]\n",
            "If parsing fails due to incorrect types, you can correct\n",
            "the inferred type list above and pass it to read_csv in\n",
            "the column_type_hints argument\n",
            "------------------------------------------------------\n"
          ],
          "name": "stdout"
        },
        {
          "output_type": "display_data",
          "data": {
            "text/html": [
              "<pre>Finished parsing file /content/gdrive/My Drive/Bikroy/Bikroy Final.csv</pre>"
            ],
            "text/plain": [
              "Finished parsing file /content/gdrive/My Drive/Bikroy/Bikroy Final.csv"
            ]
          },
          "metadata": {
            "tags": []
          }
        },
        {
          "output_type": "display_data",
          "data": {
            "text/html": [
              "<pre>Parsing completed. Parsed 684 lines in 0.014901 secs.</pre>"
            ],
            "text/plain": [
              "Parsing completed. Parsed 684 lines in 0.014901 secs."
            ]
          },
          "metadata": {
            "tags": []
          }
        }
      ]
    },
    {
      "cell_type": "markdown",
      "metadata": {
        "id": "PXB37R4sKFGB"
      },
      "source": [
        "###Adding ZipCode"
      ]
    },
    {
      "cell_type": "code",
      "metadata": {
        "id": "ZclvtwLGUNod",
        "colab": {
          "base_uri": "https://localhost:8080/"
        },
        "outputId": "cc8edae4-3056-4e93-cd8c-f60a8a34f2a0"
      },
      "source": [
        "data.head()"
      ],
      "execution_count": null,
      "outputs": [
        {
          "output_type": "execute_result",
          "data": {
            "text/html": [
              "<div style=\"max-height:1000px;max-width:1500px;overflow:auto;\"><table frame=\"box\" rules=\"cols\">\n",
              "    <tr>\n",
              "        <th style=\"padding-left: 1em; padding-right: 1em; text-align: center\">X1</th>\n",
              "        <th style=\"padding-left: 1em; padding-right: 1em; text-align: center\">Address</th>\n",
              "        <th style=\"padding-left: 1em; padding-right: 1em; text-align: center\">Baths</th>\n",
              "        <th style=\"padding-left: 1em; padding-right: 1em; text-align: center\">Beds</th>\n",
              "        <th style=\"padding-left: 1em; padding-right: 1em; text-align: center\">Price</th>\n",
              "        <th style=\"padding-left: 1em; padding-right: 1em; text-align: center\">Suffix</th>\n",
              "        <th style=\"padding-left: 1em; padding-right: 1em; text-align: center\">Size</th>\n",
              "        <th style=\"padding-left: 1em; padding-right: 1em; text-align: center\">TotalPrice</th>\n",
              "        <th style=\"padding-left: 1em; padding-right: 1em; text-align: center\">Location</th>\n",
              "        <th style=\"padding-left: 1em; padding-right: 1em; text-align: center\">ZipCode</th>\n",
              "    </tr>\n",
              "    <tr>\n",
              "        <td style=\"padding-left: 1em; padding-right: 1em; text-align: center; vertical-align: top\">1</td>\n",
              "        <td style=\"padding-left: 1em; padding-right: 1em; text-align: center; vertical-align: top\">Gulshan 02</td>\n",
              "        <td style=\"padding-left: 1em; padding-right: 1em; text-align: center; vertical-align: top\">3</td>\n",
              "        <td style=\"padding-left: 1em; padding-right: 1em; text-align: center; vertical-align: top\">3</td>\n",
              "        <td style=\"padding-left: 1em; padding-right: 1em; text-align: center; vertical-align: top\">17500</td>\n",
              "        <td style=\"padding-left: 1em; padding-right: 1em; text-align: center; vertical-align: top\">per sqft</td>\n",
              "        <td style=\"padding-left: 1em; padding-right: 1em; text-align: center; vertical-align: top\">2350</td>\n",
              "        <td style=\"padding-left: 1em; padding-right: 1em; text-align: center; vertical-align: top\">41125000</td>\n",
              "        <td style=\"padding-left: 1em; padding-right: 1em; text-align: center; vertical-align: top\">Gulshan</td>\n",
              "        <td style=\"padding-left: 1em; padding-right: 1em; text-align: center; vertical-align: top\">1212</td>\n",
              "    </tr>\n",
              "    <tr>\n",
              "        <td style=\"padding-left: 1em; padding-right: 1em; text-align: center; vertical-align: top\">2</td>\n",
              "        <td style=\"padding-left: 1em; padding-right: 1em; text-align: center; vertical-align: top\">Gulshan Dhaka</td>\n",
              "        <td style=\"padding-left: 1em; padding-right: 1em; text-align: center; vertical-align: top\">4</td>\n",
              "        <td style=\"padding-left: 1em; padding-right: 1em; text-align: center; vertical-align: top\">3</td>\n",
              "        <td style=\"padding-left: 1em; padding-right: 1em; text-align: center; vertical-align: top\">37820000</td>\n",
              "        <td style=\"padding-left: 1em; padding-right: 1em; text-align: center; vertical-align: top\">total price</td>\n",
              "        <td style=\"padding-left: 1em; padding-right: 1em; text-align: center; vertical-align: top\">2440</td>\n",
              "        <td style=\"padding-left: 1em; padding-right: 1em; text-align: center; vertical-align: top\">37820000</td>\n",
              "        <td style=\"padding-left: 1em; padding-right: 1em; text-align: center; vertical-align: top\">Gulshan</td>\n",
              "        <td style=\"padding-left: 1em; padding-right: 1em; text-align: center; vertical-align: top\">1212</td>\n",
              "    </tr>\n",
              "    <tr>\n",
              "        <td style=\"padding-left: 1em; padding-right: 1em; text-align: center; vertical-align: top\">3</td>\n",
              "        <td style=\"padding-left: 1em; padding-right: 1em; text-align: center; vertical-align: top\">249/55,West Mollartak Bor<br>ttola,Dakkinkhan,beside ...</td>\n",
              "        <td style=\"padding-left: 1em; padding-right: 1em; text-align: center; vertical-align: top\">3</td>\n",
              "        <td style=\"padding-left: 1em; padding-right: 1em; text-align: center; vertical-align: top\">3</td>\n",
              "        <td style=\"padding-left: 1em; padding-right: 1em; text-align: center; vertical-align: top\">6000000</td>\n",
              "        <td style=\"padding-left: 1em; padding-right: 1em; text-align: center; vertical-align: top\">total price</td>\n",
              "        <td style=\"padding-left: 1em; padding-right: 1em; text-align: center; vertical-align: top\">1250</td>\n",
              "        <td style=\"padding-left: 1em; padding-right: 1em; text-align: center; vertical-align: top\">6000000</td>\n",
              "        <td style=\"padding-left: 1em; padding-right: 1em; text-align: center; vertical-align: top\">Uttara</td>\n",
              "        <td style=\"padding-left: 1em; padding-right: 1em; text-align: center; vertical-align: top\">1230</td>\n",
              "    </tr>\n",
              "    <tr>\n",
              "        <td style=\"padding-left: 1em; padding-right: 1em; text-align: center; vertical-align: top\">4</td>\n",
              "        <td style=\"padding-left: 1em; padding-right: 1em; text-align: center; vertical-align: top\">Gausul Azam Avenue,<br>Sector 13, Uttara, Dh ...</td>\n",
              "        <td style=\"padding-left: 1em; padding-right: 1em; text-align: center; vertical-align: top\">3</td>\n",
              "        <td style=\"padding-left: 1em; padding-right: 1em; text-align: center; vertical-align: top\">3</td>\n",
              "        <td style=\"padding-left: 1em; padding-right: 1em; text-align: center; vertical-align: top\">16000000</td>\n",
              "        <td style=\"padding-left: 1em; padding-right: 1em; text-align: center; vertical-align: top\">total price</td>\n",
              "        <td style=\"padding-left: 1em; padding-right: 1em; text-align: center; vertical-align: top\">2257</td>\n",
              "        <td style=\"padding-left: 1em; padding-right: 1em; text-align: center; vertical-align: top\">16000000</td>\n",
              "        <td style=\"padding-left: 1em; padding-right: 1em; text-align: center; vertical-align: top\">Uttara</td>\n",
              "        <td style=\"padding-left: 1em; padding-right: 1em; text-align: center; vertical-align: top\">1230</td>\n",
              "    </tr>\n",
              "    <tr>\n",
              "        <td style=\"padding-left: 1em; padding-right: 1em; text-align: center; vertical-align: top\">5</td>\n",
              "        <td style=\"padding-left: 1em; padding-right: 1em; text-align: center; vertical-align: top\">Ulon Road,  Rampura,<br>Dhaka. ...</td>\n",
              "        <td style=\"padding-left: 1em; padding-right: 1em; text-align: center; vertical-align: top\">4</td>\n",
              "        <td style=\"padding-left: 1em; padding-right: 1em; text-align: center; vertical-align: top\">3</td>\n",
              "        <td style=\"padding-left: 1em; padding-right: 1em; text-align: center; vertical-align: top\">7000000</td>\n",
              "        <td style=\"padding-left: 1em; padding-right: 1em; text-align: center; vertical-align: top\">total price</td>\n",
              "        <td style=\"padding-left: 1em; padding-right: 1em; text-align: center; vertical-align: top\">1250</td>\n",
              "        <td style=\"padding-left: 1em; padding-right: 1em; text-align: center; vertical-align: top\">7000000</td>\n",
              "        <td style=\"padding-left: 1em; padding-right: 1em; text-align: center; vertical-align: top\">Rampura</td>\n",
              "        <td style=\"padding-left: 1em; padding-right: 1em; text-align: center; vertical-align: top\">4224</td>\n",
              "    </tr>\n",
              "    <tr>\n",
              "        <td style=\"padding-left: 1em; padding-right: 1em; text-align: center; vertical-align: top\">6</td>\n",
              "        <td style=\"padding-left: 1em; padding-right: 1em; text-align: center; vertical-align: top\">147, South Jatrabari<br>Dhaka (Near Jatrabari ...</td>\n",
              "        <td style=\"padding-left: 1em; padding-right: 1em; text-align: center; vertical-align: top\">3</td>\n",
              "        <td style=\"padding-left: 1em; padding-right: 1em; text-align: center; vertical-align: top\">3</td>\n",
              "        <td style=\"padding-left: 1em; padding-right: 1em; text-align: center; vertical-align: top\">4900</td>\n",
              "        <td style=\"padding-left: 1em; padding-right: 1em; text-align: center; vertical-align: top\">per sqft</td>\n",
              "        <td style=\"padding-left: 1em; padding-right: 1em; text-align: center; vertical-align: top\">1360</td>\n",
              "        <td style=\"padding-left: 1em; padding-right: 1em; text-align: center; vertical-align: top\">6664000</td>\n",
              "        <td style=\"padding-left: 1em; padding-right: 1em; text-align: center; vertical-align: top\">Jatrabari</td>\n",
              "        <td style=\"padding-left: 1em; padding-right: 1em; text-align: center; vertical-align: top\">1204</td>\n",
              "    </tr>\n",
              "    <tr>\n",
              "        <td style=\"padding-left: 1em; padding-right: 1em; text-align: center; vertical-align: top\">7</td>\n",
              "        <td style=\"padding-left: 1em; padding-right: 1em; text-align: center; vertical-align: top\">Plot # 37, Road #<br>Kallayanpur Main Road ...</td>\n",
              "        <td style=\"padding-left: 1em; padding-right: 1em; text-align: center; vertical-align: top\">5</td>\n",
              "        <td style=\"padding-left: 1em; padding-right: 1em; text-align: center; vertical-align: top\">4</td>\n",
              "        <td style=\"padding-left: 1em; padding-right: 1em; text-align: center; vertical-align: top\">5500</td>\n",
              "        <td style=\"padding-left: 1em; padding-right: 1em; text-align: center; vertical-align: top\">per sqft</td>\n",
              "        <td style=\"padding-left: 1em; padding-right: 1em; text-align: center; vertical-align: top\">1954</td>\n",
              "        <td style=\"padding-left: 1em; padding-right: 1em; text-align: center; vertical-align: top\">10747000</td>\n",
              "        <td style=\"padding-left: 1em; padding-right: 1em; text-align: center; vertical-align: top\">Mirpur</td>\n",
              "        <td style=\"padding-left: 1em; padding-right: 1em; text-align: center; vertical-align: top\">1216</td>\n",
              "    </tr>\n",
              "    <tr>\n",
              "        <td style=\"padding-left: 1em; padding-right: 1em; text-align: center; vertical-align: top\">8</td>\n",
              "        <td style=\"padding-left: 1em; padding-right: 1em; text-align: center; vertical-align: top\">mirpur</td>\n",
              "        <td style=\"padding-left: 1em; padding-right: 1em; text-align: center; vertical-align: top\">3</td>\n",
              "        <td style=\"padding-left: 1em; padding-right: 1em; text-align: center; vertical-align: top\">2</td>\n",
              "        <td style=\"padding-left: 1em; padding-right: 1em; text-align: center; vertical-align: top\">4500000</td>\n",
              "        <td style=\"padding-left: 1em; padding-right: 1em; text-align: center; vertical-align: top\">total price</td>\n",
              "        <td style=\"padding-left: 1em; padding-right: 1em; text-align: center; vertical-align: top\">1050</td>\n",
              "        <td style=\"padding-left: 1em; padding-right: 1em; text-align: center; vertical-align: top\">4500000</td>\n",
              "        <td style=\"padding-left: 1em; padding-right: 1em; text-align: center; vertical-align: top\">Mirpur</td>\n",
              "        <td style=\"padding-left: 1em; padding-right: 1em; text-align: center; vertical-align: top\">1216</td>\n",
              "    </tr>\n",
              "    <tr>\n",
              "        <td style=\"padding-left: 1em; padding-right: 1em; text-align: center; vertical-align: top\">9</td>\n",
              "        <td style=\"padding-left: 1em; padding-right: 1em; text-align: center; vertical-align: top\">Sector # 3, Road # 7 @<br>Uttara ...</td>\n",
              "        <td style=\"padding-left: 1em; padding-right: 1em; text-align: center; vertical-align: top\">2</td>\n",
              "        <td style=\"padding-left: 1em; padding-right: 1em; text-align: center; vertical-align: top\">2</td>\n",
              "        <td style=\"padding-left: 1em; padding-right: 1em; text-align: center; vertical-align: top\">7000000</td>\n",
              "        <td style=\"padding-left: 1em; padding-right: 1em; text-align: center; vertical-align: top\">total price</td>\n",
              "        <td style=\"padding-left: 1em; padding-right: 1em; text-align: center; vertical-align: top\">1000</td>\n",
              "        <td style=\"padding-left: 1em; padding-right: 1em; text-align: center; vertical-align: top\">7000000</td>\n",
              "        <td style=\"padding-left: 1em; padding-right: 1em; text-align: center; vertical-align: top\">Uttara</td>\n",
              "        <td style=\"padding-left: 1em; padding-right: 1em; text-align: center; vertical-align: top\">1230</td>\n",
              "    </tr>\n",
              "    <tr>\n",
              "        <td style=\"padding-left: 1em; padding-right: 1em; text-align: center; vertical-align: top\">10</td>\n",
              "        <td style=\"padding-left: 1em; padding-right: 1em; text-align: center; vertical-align: top\">Gulshan Dhaka</td>\n",
              "        <td style=\"padding-left: 1em; padding-right: 1em; text-align: center; vertical-align: top\">4</td>\n",
              "        <td style=\"padding-left: 1em; padding-right: 1em; text-align: center; vertical-align: top\">3</td>\n",
              "        <td style=\"padding-left: 1em; padding-right: 1em; text-align: center; vertical-align: top\">40300000</td>\n",
              "        <td style=\"padding-left: 1em; padding-right: 1em; text-align: center; vertical-align: top\">total price</td>\n",
              "        <td style=\"padding-left: 1em; padding-right: 1em; text-align: center; vertical-align: top\">2600</td>\n",
              "        <td style=\"padding-left: 1em; padding-right: 1em; text-align: center; vertical-align: top\">40300000</td>\n",
              "        <td style=\"padding-left: 1em; padding-right: 1em; text-align: center; vertical-align: top\">Gulshan</td>\n",
              "        <td style=\"padding-left: 1em; padding-right: 1em; text-align: center; vertical-align: top\">1212</td>\n",
              "    </tr>\n",
              "</table>\n",
              "[10 rows x 10 columns]<br/>\n",
              "</div>"
            ],
            "text/plain": [
              "Columns:\n",
              "\tX1\tint\n",
              "\tAddress\tstr\n",
              "\tBaths\tint\n",
              "\tBeds\tint\n",
              "\tPrice\tint\n",
              "\tSuffix\tstr\n",
              "\tSize\tint\n",
              "\tTotalPrice\tint\n",
              "\tLocation\tstr\n",
              "\tZipCode\tint\n",
              "\n",
              "Rows: 10\n",
              "\n",
              "Data:\n",
              "+----+-------------------------------+-------+------+----------+-------------+\n",
              "| X1 |            Address            | Baths | Beds |  Price   |    Suffix   |\n",
              "+----+-------------------------------+-------+------+----------+-------------+\n",
              "| 1  |           Gulshan 02          |   3   |  3   |  17500   |   per sqft  |\n",
              "| 2  |         Gulshan Dhaka         |   4   |  3   | 37820000 | total price |\n",
              "| 3  | 249/55,West Mollartak Bort... |   3   |  3   | 6000000  | total price |\n",
              "| 4  | Gausul Azam Avenue, Sector... |   3   |  3   | 16000000 | total price |\n",
              "| 5  |  Ulon Road,  Rampura, Dhaka.  |   4   |  3   | 7000000  | total price |\n",
              "| 6  | 147, South Jatrabari Dhaka... |   3   |  3   |   4900   |   per sqft  |\n",
              "| 7  | Plot # 37, Road # Kallayan... |   5   |  4   |   5500   |   per sqft  |\n",
              "| 8  |             mirpur            |   3   |  2   | 4500000  | total price |\n",
              "| 9  | Sector # 3, Road # 7 @ Uttara |   2   |  2   | 7000000  | total price |\n",
              "| 10 |         Gulshan Dhaka         |   4   |  3   | 40300000 | total price |\n",
              "+----+-------------------------------+-------+------+----------+-------------+\n",
              "+------+------------+-----------+---------+\n",
              "| Size | TotalPrice |  Location | ZipCode |\n",
              "+------+------------+-----------+---------+\n",
              "| 2350 |  41125000  |  Gulshan  |   1212  |\n",
              "| 2440 |  37820000  |  Gulshan  |   1212  |\n",
              "| 1250 |  6000000   |   Uttara  |   1230  |\n",
              "| 2257 |  16000000  |   Uttara  |   1230  |\n",
              "| 1250 |  7000000   |  Rampura  |   4224  |\n",
              "| 1360 |  6664000   | Jatrabari |   1204  |\n",
              "| 1954 |  10747000  |   Mirpur  |   1216  |\n",
              "| 1050 |  4500000   |   Mirpur  |   1216  |\n",
              "| 1000 |  7000000   |   Uttara  |   1230  |\n",
              "| 2600 |  40300000  |  Gulshan  |   1212  |\n",
              "+------+------------+-----------+---------+\n",
              "[10 rows x 10 columns]"
            ]
          },
          "metadata": {
            "tags": []
          },
          "execution_count": 31
        }
      ]
    },
    {
      "cell_type": "markdown",
      "metadata": {
        "id": "fsRXVjvnKBsF"
      },
      "source": [
        ""
      ]
    },
    {
      "cell_type": "code",
      "metadata": {
        "id": "Rt0Cy0AVUaMx",
        "colab": {
          "base_uri": "https://localhost:8080/"
        },
        "outputId": "72c6a8a4-7874-4f82-c136-3479ba5081d2"
      },
      "source": [
        "tc.visualization.set_target(target='auto')\n",
        "\n",
        "tc.visualization.scatter(data['Size'], data['TotalPrice'],xlabel='Square Feet Living', ylabel='Price', title='Square Feet Living VS Price')"
      ],
      "execution_count": null,
      "outputs": [
        {
          "output_type": "display_data",
          "data": {
            "text/html": [
              "<html>                 <body>                     <iframe style=\"border:0;margin:0\" width=\"920\" height=\"770\" srcdoc='<html lang=\"en\">                         <head>                             <script src=\"https://cdnjs.cloudflare.com/ajax/libs/vega/5.4.0/vega.js\"></script>                             <script src=\"https://cdnjs.cloudflare.com/ajax/libs/vega-embed/4.0.0/vega-embed.js\"></script>                             <script src=\"https://cdnjs.cloudflare.com/ajax/libs/vega-tooltip/0.5.1/vega-tooltip.min.js\"></script>                             <link rel=\"stylesheet\" type=\"text/css\" href=\"https://cdnjs.cloudflare.com/ajax/libs/vega-tooltip/0.5.1/vega-tooltip.min.css\">                             <style>                             .vega-actions > a{                                 color:white;                                 text-decoration: none;                                 font-family: \"Arial\";                                 cursor:pointer;                                 padding:5px;                                 background:#AAAAAA;                                 border-radius:4px;                                 padding-left:10px;                                 padding-right:10px;                                 margin-right:5px;                             }                             .vega-actions{                                 margin-top:20px;                                 text-align:center                             }                            .vega-actions > a{                                 background:#999999;                            }                             </style>                         </head>                         <body>                             <div id=\"vis\">                             </div>                             <script>                                 var vega_json = \"{\\\"$schema\\\": \\\"https://vega.github.io/schema/vega/v4.json\\\", \\\"autosize\\\": {\\\"type\\\": \\\"fit\\\", \\\"resize\\\": false, \\\"contains\\\": \\\"padding\\\"}, \\\"padding\\\": 8, \\\"width\\\": 720, \\\"height\\\": 550, \\\"style\\\": \\\"cell\\\", \\\"title\\\": \\\"Square Feet Living VS Price\\\", \\\"data\\\": [{\\\"name\\\": \\\"source_2\\\", \\\"values\\\": [{\\\"x\\\": 2350, \\\"y\\\": 41125000}, {\\\"x\\\": 2440, \\\"y\\\": 37820000}, {\\\"x\\\": 1250, \\\"y\\\": 6000000}, {\\\"x\\\": 2257, \\\"y\\\": 16000000}, {\\\"x\\\": 1250, \\\"y\\\": 7000000}, {\\\"x\\\": 1360, \\\"y\\\": 6664000}, {\\\"x\\\": 1954, \\\"y\\\": 10747000}, {\\\"x\\\": 1050, \\\"y\\\": 4500000}, {\\\"x\\\": 1000, \\\"y\\\": 7000000}, {\\\"x\\\": 2600, \\\"y\\\": 40300000}, {\\\"x\\\": 2200, \\\"y\\\": 18700000}, {\\\"x\\\": 1125, \\\"y\\\": 5625000}, {\\\"x\\\": 1400, \\\"y\\\": 7300000}, {\\\"x\\\": 1900, \\\"y\\\": 18000000}, {\\\"x\\\": 1198, \\\"y\\\": 4193000}, {\\\"x\\\": 1750, \\\"y\\\": 9100000}, {\\\"x\\\": 1686, \\\"y\\\": 15000000}, {\\\"x\\\": 1600, \\\"y\\\": 13000000}, {\\\"x\\\": 2300, \\\"y\\\": 17000000}, {\\\"x\\\": 2551, \\\"y\\\": 22168190}, {\\\"x\\\": 1120, \\\"y\\\": 6800000}, {\\\"x\\\": 1250, \\\"y\\\": 2300000}, {\\\"x\\\": 1171, \\\"y\\\": 5503700}, {\\\"x\\\": 1550, \\\"y\\\": 10075000}, {\\\"x\\\": 1050, \\\"y\\\": 5145000}, {\\\"x\\\": 1495, \\\"y\\\": 7176000}, {\\\"x\\\": 2553, \\\"y\\\": 22211100}, {\\\"x\\\": 2950, \\\"y\\\": 39825000}, {\\\"x\\\": 1050, \\\"y\\\": 5145000}, {\\\"x\\\": 1450, \\\"y\\\": 12500000}, {\\\"x\\\": 2050, \\\"y\\\": 17500000}, {\\\"x\\\": 1600, \\\"y\\\": 8320000}, {\\\"x\\\": 1400, \\\"y\\\": 14000000}, {\\\"x\\\": 2200, \\\"y\\\": 23500000}, {\\\"x\\\": 1234, \\\"y\\\": 4000000}, {\\\"x\\\": 3700, \\\"y\\\": 49950000}, {\\\"x\\\": 1250, \\\"y\\\": 8500000}, {\\\"x\\\": 1100, \\\"y\\\": 4500000}, {\\\"x\\\": 2300, \\\"y\\\": 19550000}, {\\\"x\\\": 1050, \\\"y\\\": 3500000}, {\\\"x\\\": 2564, \\\"y\\\": 22306800}, {\\\"x\\\": 1550, \\\"y\\\": 10075000}, {\\\"x\\\": 4700, \\\"y\\\": 70500000}, {\\\"x\\\": 2550, \\\"y\\\": 22185000}, {\\\"x\\\": 1565, \\\"y\\\": 11737500}, {\\\"x\\\": 2562, \\\"y\\\": 22263780}, {\\\"x\\\": 2550, \\\"y\\\": 34000000}, {\\\"x\\\": 1200, \\\"y\\\": 8160000}, {\\\"x\\\": 1750, \\\"y\\\": 17500000}, {\\\"x\\\": 1100, \\\"y\\\": 4300000}, {\\\"x\\\": 1710, \\\"y\\\": 11713500}, {\\\"x\\\": 1125, \\\"y\\\": 5625000}, {\\\"x\\\": 1375, \\\"y\\\": 17000000}, {\\\"x\\\": 1285, \\\"y\\\": 8995000}, {\\\"x\\\": 1850, \\\"y\\\": 22000000}, {\\\"x\\\": 2500, \\\"y\\\": 18000000}, {\\\"x\\\": 4050, \\\"y\\\": 83025000}, {\\\"x\\\": 2660, \\\"y\\\": 39900000}, {\\\"x\\\": 1050, \\\"y\\\": 8000000}, {\\\"x\\\": 12000, \\\"y\\\": 240000000}, {\\\"x\\\": 2200, \\\"y\\\": 16000000}, {\\\"x\\\": 1570, \\\"y\\\": 12500000}, {\\\"x\\\": 1241, \\\"y\\\": 6205000}, {\\\"x\\\": 4250, \\\"y\\\": 74375000}, {\\\"x\\\": 1400, \\\"y\\\": 16000000}, {\\\"x\\\": 1790, \\\"y\\\": 12000000}, {\\\"x\\\": 3200, \\\"y\\\": 51200000}, {\\\"x\\\": 2500, \\\"y\\\": 18000000}, {\\\"x\\\": 1600, \\\"y\\\": 10400000}, {\\\"x\\\": 970, \\\"y\\\": 4850000}, {\\\"x\\\": 1420, \\\"y\\\": 6816000}, {\\\"x\\\": 1800, \\\"y\\\": 10500000}, {\\\"x\\\": 1196, \\\"y\\\": 4186000}, {\\\"x\\\": 1239, \\\"y\\\": 8425200}, {\\\"x\\\": 1450, \\\"y\\\": 9000000}, {\\\"x\\\": 1265, \\\"y\\\": 8602000}, {\\\"x\\\": 1380, \\\"y\\\": 6300000}, {\\\"x\\\": 1495, \\\"y\\\": 7475000}, {\\\"x\\\": 2550, \\\"y\\\": 22185000}, {\\\"x\\\": 2800, \\\"y\\\": 14000000}, {\\\"x\\\": 950, \\\"y\\\": 5500000}, {\\\"x\\\": 1233, \\\"y\\\": 10480500}, {\\\"x\\\": 2500, \\\"y\\\": 12000000}, {\\\"x\\\": 1400, \\\"y\\\": 7000000}, {\\\"x\\\": 1800, \\\"y\\\": 11340000}, {\\\"x\\\": 3420, \\\"y\\\": 58140000}, {\\\"x\\\": 1550, \\\"y\\\": 7440000}, {\\\"x\\\": 2202, \\\"y\\\": 20919000}, {\\\"x\\\": 925, \\\"y\\\": 6012500}, {\\\"x\\\": 2142, \\\"y\\\": 13923000}, {\\\"x\\\": 1830, \\\"y\\\": 12810000}, {\\\"x\\\": 2135, \\\"y\\\": 13877500}, {\\\"x\\\": 820, \\\"y\\\": 3500000}, {\\\"x\\\": 1735, \\\"y\\\": 8328000}, {\\\"x\\\": 1894, \\\"y\\\": 12311000}, {\\\"x\\\": 1925, \\\"y\\\": 9625000}, {\\\"x\\\": 1600, \\\"y\\\": 8900000}, {\\\"x\\\": 2800, \\\"y\\\": 45000000}, {\\\"x\\\": 1376, \\\"y\\\": 11000000}, {\\\"x\\\": 1400, \\\"y\\\": 16000000}, {\\\"x\\\": 1500, \\\"y\\\": 10000000}, {\\\"x\\\": 1284, \\\"y\\\": 5007600}, {\\\"x\\\": 1225, \\\"y\\\": 4287500}, {\\\"x\\\": 2175, \\\"y\\\": 27187500}, {\\\"x\\\": 1210, \\\"y\\\": 8288500}, {\\\"x\\\": 1400, \\\"y\\\": 6300000}, {\\\"x\\\": 2600, \\\"y\\\": 30000000}, {\\\"x\\\": 2700, \\\"y\\\": 48600000}, {\\\"x\\\": 1555, \\\"y\\\": 9019000}, {\\\"x\\\": 1710, \\\"y\\\": 12000000}, {\\\"x\\\": 2600, \\\"y\\\": 40000000}, {\\\"x\\\": 1200, \\\"y\\\": 8160000}, {\\\"x\\\": 2150, \\\"y\\\": 18000000}, {\\\"x\\\": 1500, \\\"y\\\": 10000000}, {\\\"x\\\": 1218, \\\"y\\\": 8282400}, {\\\"x\\\": 1120, \\\"y\\\": 5000000}, {\\\"x\\\": 1131, \\\"y\\\": 6000000}, {\\\"x\\\": 1400, \\\"y\\\": 17000000}, {\\\"x\\\": 1551, \\\"y\\\": 8964780}, {\\\"x\\\": 2300, \\\"y\\\": 28000000}, {\\\"x\\\": 2200, \\\"y\\\": 16500000}, {\\\"x\\\": 2105, \\\"y\\\": 17500000}, {\\\"x\\\": 1175, \\\"y\\\": 5875000}, {\\\"x\\\": 1525, \\\"y\\\": 7625000}, {\\\"x\\\": 910, \\\"y\\\": 4500000}, {\\\"x\\\": 2450, \\\"y\\\": 16660000}, {\\\"x\\\": 1890, \\\"y\\\": 25000000}, {\\\"x\\\": 2010, \\\"y\\\": 22000000}, {\\\"x\\\": 1250, \\\"y\\\": 7875000}, {\\\"x\\\": 1550, \\\"y\\\": 9842500}, {\\\"x\\\": 1410, \\\"y\\\": 8037000}, {\\\"x\\\": 2550, \\\"y\\\": 22159500}, {\\\"x\\\": 1910, \\\"y\\\": 14000000}, {\\\"x\\\": 1376, \\\"y\\\": 11000000}, {\\\"x\\\": 1750, \\\"y\\\": 10800000}, {\\\"x\\\": 2550, \\\"y\\\": 22185000}, {\\\"x\\\": 1123, \\\"y\\\": 6176500}, {\\\"x\\\": 1750, \\\"y\\\": 12000000}, {\\\"x\\\": 2568, \\\"y\\\": 22339032}, {\\\"x\\\": 1810, \\\"y\\\": 12500000}, {\\\"x\\\": 1000, \\\"y\\\": 3500000}, {\\\"x\\\": 1550, \\\"y\\\": 8525000}, {\\\"x\\\": 1885, \\\"y\\\": 12252500}, {\\\"x\\\": 1200, \\\"y\\\": 8000000}, {\\\"x\\\": 1575, \\\"y\\\": 13500000}, {\\\"x\\\": 1050, \\\"y\\\": 5145000}, {\\\"x\\\": 1220, \\\"y\\\": 4209000}, {\\\"x\\\": 1221, \\\"y\\\": 8302800}, {\\\"x\\\": 3850, \\\"y\\\": 78925000}, {\\\"x\\\": 2820, \\\"y\\\": 19176000}, {\\\"x\\\": 1857, \\\"y\\\": 22284000}, {\\\"x\\\": 2950, \\\"y\\\": 60000000}, {\\\"x\\\": 1478, \\\"y\\\": 12500000}, {\\\"x\\\": 2200, \\\"y\\\": 24000000}, {\\\"x\\\": 2135, \\\"y\\\": 13877500}, {\\\"x\\\": 1555, \\\"y\\\": 10807250}, {\\\"x\\\": 1173, \\\"y\\\": 9970500}, {\\\"x\\\": 1610, \\\"y\\\": 11270000}, {\\\"x\\\": 823, \\\"y\\\": 3868100}, {\\\"x\\\": 1880, \\\"y\\\": 12220000}, {\\\"x\\\": 1650, \\\"y\\\": 11500000}, {\\\"x\\\": 1233, \\\"y\\\": 10480500}, {\\\"x\\\": 1686, \\\"y\\\": 13000000}, {\\\"x\\\": 1500, \\\"y\\\": 10000000}, {\\\"x\\\": 1300, \\\"y\\\": 5500000}, {\\\"x\\\": 2550, \\\"y\\\": 22185000}, {\\\"x\\\": 880, \\\"y\\\": 3600000}, {\\\"x\\\": 2500, \\\"y\\\": 47500000}, {\\\"x\\\": 2184, \\\"y\\\": 20500000}, {\\\"x\\\": 1980, \\\"y\\\": 21000000}, {\\\"x\\\": 2012, \\\"y\\\": 17102000}, {\\\"x\\\": 1368, \\\"y\\\": 10000000}, {\\\"x\\\": 2380, \\\"y\\\": 30000000}, {\\\"x\\\": 3580, \\\"y\\\": 68020000}, {\\\"x\\\": 2200, \\\"y\\\": 18000000}, {\\\"x\\\": 4000, \\\"y\\\": 72000000}, {\\\"x\\\": 1000, \\\"y\\\": 3200000}, {\\\"x\\\": 3500, \\\"y\\\": 77000000}, {\\\"x\\\": 2600, \\\"y\\\": 40000000}, {\\\"x\\\": 1275, \\\"y\\\": 8925000}, {\\\"x\\\": 1030, \\\"y\\\": 3605000}, {\\\"x\\\": 1400, \\\"y\\\": 3990000}, {\\\"x\\\": 1048, \\\"y\\\": 3668000}, {\\\"x\\\": 1050, \\\"y\\\": 14700000}, {\\\"x\\\": 1038, \\\"y\\\": 4500000}, {\\\"x\\\": 1500, \\\"y\\\": 12000000}, {\\\"x\\\": 1550, \\\"y\\\": 8990000}, {\\\"x\\\": 1184, \\\"y\\\": 4144000}, {\\\"x\\\": 2735, \\\"y\\\": 38290000}, {\\\"x\\\": 2430, \\\"y\\\": 28000000}, {\\\"x\\\": 1217, \\\"y\\\": 6510950}, {\\\"x\\\": 1863, \\\"y\\\": 15835500}, {\\\"x\\\": 1500, \\\"y\\\": 10500000}, {\\\"x\\\": 1190, \\\"y\\\": 8330000}, {\\\"x\\\": 1880, \\\"y\\\": 12220000}, {\\\"x\\\": 720, \\\"y\\\": 3500000}, {\\\"x\\\": 1560, \\\"y\\\": 10920000}, {\\\"x\\\": 4139, \\\"y\\\": 67465700}, {\\\"x\\\": 2200, \\\"y\\\": 16500000}, {\\\"x\\\": 2000, \\\"y\\\": 19000000}, {\\\"x\\\": 1530, \\\"y\\\": 9500000}, {\\\"x\\\": 1550, \\\"y\\\": 9300000}, {\\\"x\\\": 4000, \\\"y\\\": 90000000}, {\\\"x\\\": 2200, \\\"y\\\": 22000000}, {\\\"x\\\": 1550, \\\"y\\\": 10540000}, {\\\"x\\\": 1060, \\\"y\\\": 3710000}, {\\\"x\\\": 1548, \\\"y\\\": 12000000}, {\\\"x\\\": 1120, \\\"y\\\": 6160000}, {\\\"x\\\": 2900, \\\"y\\\": 49000000}, {\\\"x\\\": 2562, \\\"y\\\": 22289400}, {\\\"x\\\": 1050, \\\"y\\\": 5145000}, {\\\"x\\\": 1159, \\\"y\\\": 5215500}, {\\\"x\\\": 878, \\\"y\\\": 2200000}, {\\\"x\\\": 1249, \\\"y\\\": 10616500}, {\\\"x\\\": 1350, \\\"y\\\": 10498950}, {\\\"x\\\": 4500, \\\"y\\\": 90000000}, {\\\"x\\\": 1887, \\\"y\\\": 12265500}, {\\\"x\\\": 1250, \\\"y\\\": 7500000}, {\\\"x\\\": 1395, \\\"y\\\": 4882500}, {\\\"x\\\": 1531, \\\"y\\\": 11000000}, {\\\"x\\\": 1925, \\\"y\\\": 9625000}, {\\\"x\\\": 1686, \\\"y\\\": 13000000}, {\\\"x\\\": 4000, \\\"y\\\": 56000000}, {\\\"x\\\": 1200, \\\"y\\\": 8160000}, {\\\"x\\\": 2192, \\\"y\\\": 19289600}, {\\\"x\\\": 5300, \\\"y\\\": 90000000}, {\\\"x\\\": 3200, \\\"y\\\": 44800000}, {\\\"x\\\": 2000, \\\"y\\\": 18000000}, {\\\"x\\\": 1350, \\\"y\\\": 140000000}, {\\\"x\\\": 1400, \\\"y\\\": 8500000}, {\\\"x\\\": 1250, \\\"y\\\": 7125000}, {\\\"x\\\": 1760, \\\"y\\\": 9152000}, {\\\"x\\\": 1610, \\\"y\\\": 13000000}, {\\\"x\\\": 1900, \\\"y\\\": 17100000}, {\\\"x\\\": 2450, \\\"y\\\": 17150000}, {\\\"x\\\": 3600, \\\"y\\\": 55800000}, {\\\"x\\\": 850, \\\"y\\\": 4500000}, {\\\"x\\\": 3650, \\\"y\\\": 62050000}, {\\\"x\\\": 1595, \\\"y\\\": 10367500}, {\\\"x\\\": 1410, \\\"y\\\": 19740000}, {\\\"x\\\": 3500, \\\"y\\\": 70000000}, {\\\"x\\\": 1760, \\\"y\\\": 9152000}, {\\\"x\\\": 1010, \\\"y\\\": 5858000}, {\\\"x\\\": 1100, \\\"y\\\": 8250000}, {\\\"x\\\": 950, \\\"y\\\": 5500000}, {\\\"x\\\": 1760, \\\"y\\\": 9152000}, {\\\"x\\\": 2380, \\\"y\\\": 5593000}, {\\\"x\\\": 1700, \\\"y\\\": 18000000}, {\\\"x\\\": 1240, \\\"y\\\": 5000000}, {\\\"x\\\": 700, \\\"y\\\": 5800000}, {\\\"x\\\": 1887, \\\"y\\\": 12265500}, {\\\"x\\\": 2000, \\\"y\\\": 18000000}, {\\\"x\\\": 1010, \\\"y\\\": 5858000}, {\\\"x\\\": 1450, \\\"y\\\": 12500000}, {\\\"x\\\": 1255, \\\"y\\\": 8534000}, {\\\"x\\\": 1250, \\\"y\\\": 4000000}, {\\\"x\\\": 2134, \\\"y\\\": 13871000}, {\\\"x\\\": 1889, \\\"y\\\": 12278500}, {\\\"x\\\": 1400, \\\"y\\\": 14700000}, {\\\"x\\\": 819, \\\"y\\\": 3500000}, {\\\"x\\\": 1550, \\\"y\\\": 9067500}, {\\\"x\\\": 4500, \\\"y\\\": 90000000}, {\\\"x\\\": 2300, \\\"y\\\": 280000000}, {\\\"x\\\": 1299, \\\"y\\\": 8500000}, {\\\"x\\\": 1170, \\\"y\\\": 8190000}, {\\\"x\\\": 1213, \\\"y\\\": 8248400}, {\\\"x\\\": 1476, \\\"y\\\": 7000000}, {\\\"x\\\": 1284, \\\"y\\\": 4494000}, {\\\"x\\\": 1600, \\\"y\\\": 11520000}, {\\\"x\\\": 3600, \\\"y\\\": 50000000}, {\\\"x\\\": 1050, \\\"y\\\": 5145000}, {\\\"x\\\": 2557, \\\"y\\\": 22245900}, {\\\"x\\\": 1090, \\\"y\\\": 4905000}, {\\\"x\\\": 2200, \\\"y\\\": 20000000}, {\\\"x\\\": 1205, \\\"y\\\": 4217500}, {\\\"x\\\": 1222, \\\"y\\\": 4277000}, {\\\"x\\\": 2200, \\\"y\\\": 19000000}, {\\\"x\\\": 1750, \\\"y\\\": 15500000}, {\\\"x\\\": 2430, \\\"y\\\": 29160000}, {\\\"x\\\": 1183, \\\"y\\\": 10055500}, {\\\"x\\\": 2564, \\\"y\\\": 22281160}, {\\\"x\\\": 1600, \\\"y\\\": 9600000}, {\\\"x\\\": 2563, \\\"y\\\": 22298100}, {\\\"x\\\": 1490, \\\"y\\\": 7152000}, {\\\"x\\\": 2700, \\\"y\\\": 32000000}, {\\\"x\\\": 1610, \\\"y\\\": 12500000}, {\\\"x\\\": 1405, \\\"y\\\": 6500000}, {\\\"x\\\": 1400, \\\"y\\\": 11500000}, {\\\"x\\\": 1626, \\\"y\\\": 9500000}, {\\\"x\\\": 1376, \\\"y\\\": 11500000}, {\\\"x\\\": 1990, \\\"y\\\": 15500000}, {\\\"x\\\": 1910, \\\"y\\\": 13000000}, {\\\"x\\\": 1210, \\\"y\\\": 8228000}, {\\\"x\\\": 1150, \\\"y\\\": 3200000}, {\\\"x\\\": 2377, \\\"y\\\": 13073500}, {\\\"x\\\": 5250, \\\"y\\\": 91875000}, {\\\"x\\\": 1880, \\\"y\\\": 12220000}, {\\\"x\\\": 3950, \\\"y\\\": 77025000}, {\\\"x\\\": 1331, \\\"y\\\": 7500000}, {\\\"x\\\": 1600, \\\"y\\\": 12000000}, {\\\"x\\\": 2305, \\\"y\\\": 29500000}, {\\\"x\\\": 4500, \\\"y\\\": 80000000}, {\\\"x\\\": 2636, \\\"y\\\": 30000000}, {\\\"x\\\": 2090, \\\"y\\\": 19332500}, {\\\"x\\\": 2550, \\\"y\\\": 22185000}, {\\\"x\\\": 1800, \\\"y\\\": 6480000}, {\\\"x\\\": 2135, \\\"y\\\": 13877500}, {\\\"x\\\": 2000, \\\"y\\\": 18000000}, {\\\"x\\\": 1760, \\\"y\\\": 10560000}, {\\\"x\\\": 1664, \\\"y\\\": 9000000}, {\\\"x\\\": 1860, \\\"y\\\": 16740000}, {\\\"x\\\": 2135, \\\"y\\\": 13877500}, {\\\"x\\\": 1255, \\\"y\\\": 8534000}, {\\\"x\\\": 2075, \\\"y\\\": 17637500}, {\\\"x\\\": 2000, \\\"y\\\": 17000000}, {\\\"x\\\": 1450, \\\"y\\\": 10657500}, {\\\"x\\\": 1010, \\\"y\\\": 5555000}, {\\\"x\\\": 1250, \\\"y\\\": 4500000}, {\\\"x\\\": 1550, \\\"y\\\": 9300000}, {\\\"x\\\": 2500, \\\"y\\\": 16250000}, {\\\"x\\\": 1250, \\\"y\\\": 7000000}, {\\\"x\\\": 1888, \\\"y\\\": 12272000}, {\\\"x\\\": 1883, \\\"y\\\": 12239500}, {\\\"x\\\": 2200, \\\"y\\\": 24000000}, {\\\"x\\\": 1401, \\\"y\\\": 9106500}, {\\\"x\\\": 4450, \\\"y\\\": 84550000}, {\\\"x\\\": 1400, \\\"y\\\": 11499996}, {\\\"x\\\": 1230, \\\"y\\\": 6642000}, {\\\"x\\\": 1925, \\\"y\\\": 9625000}, {\\\"x\\\": 3850, \\\"y\\\": 80850000}, {\\\"x\\\": 1100, \\\"y\\\": 8250000}, {\\\"x\\\": 1662, \\\"y\\\": 11000000}, {\\\"x\\\": 1131, \\\"y\\\": 5600000}, {\\\"x\\\": 2550, \\\"y\\\": 13000000}, {\\\"x\\\": 1900, \\\"y\\\": 11780000}, {\\\"x\\\": 2300, \\\"y\\\": 18400000}, {\\\"x\\\": 1050, \\\"y\\\": 5145000}, {\\\"x\\\": 1045, \\\"y\\\": 3657500}, {\\\"x\\\": 1495, \\\"y\\\": 7176000}, {\\\"x\\\": 2350, \\\"y\\\": 117500000}, {\\\"x\\\": 4700, \\\"y\\\": 89300000}, {\\\"x\\\": 2580, \\\"y\\\": 54180000}, {\\\"x\\\": 2200, \\\"y\\\": 20000000}, {\\\"x\\\": 1050, \\\"y\\\": 8500000}, {\\\"x\\\": 1565, \\\"y\\\": 7355500}, {\\\"x\\\": 3650, \\\"y\\\": 76650000}, {\\\"x\\\": 2087, \\\"y\\\": 12522000}, {\\\"x\\\": 1200, \\\"y\\\": 9500000}, {\\\"x\\\": 3620, \\\"y\\\": 60000000}, {\\\"x\\\": 1550, \\\"y\\\": 4800000}, {\\\"x\\\": 2250, \\\"y\\\": 27000000}, {\\\"x\\\": 1890, \\\"y\\\": 18900000}, {\\\"x\\\": 3500, \\\"y\\\": 73500000}, {\\\"x\\\": 1550, \\\"y\\\": 7285000}, {\\\"x\\\": 2200, \\\"y\\\": 16000000}, {\\\"x\\\": 1686, \\\"y\\\": 15000000}, {\\\"x\\\": 2200, \\\"y\\\": 23000000}, {\\\"x\\\": 2557, \\\"y\\\": 22245900}, {\\\"x\\\": 1225, \\\"y\\\": 4287500}, {\\\"x\\\": 1060, \\\"y\\\": 3710000}, {\\\"x\\\": 2450, \\\"y\\\": 16660000}, {\\\"x\\\": 1400, \\\"y\\\": 11500000}, {\\\"x\\\": 1435, \\\"y\\\": 5094250}, {\\\"x\\\": 1155, \\\"y\\\": 4400000}, {\\\"x\\\": 440, \\\"y\\\": 1275000}, {\\\"x\\\": 1363, \\\"y\\\": 7496500}, {\\\"x\\\": 1550, \\\"y\\\": 8990000}, {\\\"x\\\": 2549, \\\"y\\\": 22173751}, {\\\"x\\\": 1041, \\\"y\\\": 6700000}, {\\\"x\\\": 1050, \\\"y\\\": 5145000}, {\\\"x\\\": 2300, \\\"y\\\": 18400000}, {\\\"x\\\": 2135, \\\"y\\\": 13877500}, {\\\"x\\\": 2200, \\\"y\\\": 19800000}, {\\\"x\\\": 1180, \\\"y\\\": 5900000}, {\\\"x\\\": 1545, \\\"y\\\": 10000000}, {\\\"x\\\": 2550, \\\"y\\\": 22182450}, {\\\"x\\\": 1450, \\\"y\\\": 5510000}, {\\\"x\\\": 1850, \\\"y\\\": 20000000}, {\\\"x\\\": 3200, \\\"y\\\": 60800000}, {\\\"x\\\": 2563, \\\"y\\\": 22298100}, {\\\"x\\\": 2550, \\\"y\\\": 22185000}, {\\\"x\\\": 2300, \\\"y\\\": 34500000}, {\\\"x\\\": 749, \\\"y\\\": 3520300}, {\\\"x\\\": 2200, \\\"y\\\": 22000000}, {\\\"x\\\": 1210, \\\"y\\\": 8228000}, {\\\"x\\\": 1810, \\\"y\\\": 12500000}, {\\\"x\\\": 1235, \\\"y\\\": 4322500}, {\\\"x\\\": 1830, \\\"y\\\": 12810000}, {\\\"x\\\": 1000, \\\"y\\\": 4000000}, {\\\"x\\\": 852, \\\"y\\\": 2500000}, {\\\"x\\\": 2200, \\\"y\\\": 20000000}, {\\\"x\\\": 1700, \\\"y\\\": 7990000}, {\\\"x\\\": 2450, \\\"y\\\": 40425000}, {\\\"x\\\": 1735, \\\"y\\\": 8328000}, {\\\"x\\\": 1550, \\\"y\\\": 9455000}, {\\\"x\\\": 2800, \\\"y\\\": 25000000}, {\\\"x\\\": 2200, \\\"y\\\": 18000000}, {\\\"x\\\": 3200, \\\"y\\\": 56000000}, {\\\"x\\\": 1545, \\\"y\\\": 13500000}, {\\\"x\\\": 2200, \\\"y\\\": 16000000}, {\\\"x\\\": 2556, \\\"y\\\": 22237200}, {\\\"x\\\": 1125, \\\"y\\\": 5625000}, {\\\"x\\\": 3008, \\\"y\\\": 21356800}, {\\\"x\\\": 1880, \\\"y\\\": 12220000}, {\\\"x\\\": 1762, \\\"y\\\": 11000000}, {\\\"x\\\": 1200, \\\"y\\\": 8000000}, {\\\"x\\\": 2566, \\\"y\\\": 22298540}, {\\\"x\\\": 1000, \\\"y\\\": 6500000}, {\\\"x\\\": 1810, \\\"y\\\": 13000000}, {\\\"x\\\": 2200, \\\"y\\\": 24000000}, {\\\"x\\\": 1600, \\\"y\\\": 11000000}, {\\\"x\\\": 2558, \\\"y\\\": 22254600}, {\\\"x\\\": 1212, \\\"y\\\": 8241600}, {\\\"x\\\": 2835, \\\"y\\\": 28000000}, {\\\"x\\\": 1420, \\\"y\\\": 6816000}, {\\\"x\\\": 1300, \\\"y\\\": 8450000}, {\\\"x\\\": 1510, \\\"y\\\": 9815000}, {\\\"x\\\": 3100, \\\"y\\\": 30000000}, {\\\"x\\\": 2562, \\\"y\\\": 22900000}, {\\\"x\\\": 2135, \\\"y\\\": 13877500}, {\\\"x\\\": 1210, \\\"y\\\": 8294550}, {\\\"x\\\": 1100, \\\"y\\\": 4620000}, {\\\"x\\\": 2400, \\\"y\\\": 19200000}, {\\\"x\\\": 1800, \\\"y\\\": 28500000}, {\\\"x\\\": 1210, \\\"y\\\": 8228000}, {\\\"x\\\": 3000, \\\"y\\\": 48000000}, {\\\"x\\\": 1443, \\\"y\\\": 8297250}, {\\\"x\\\": 650, \\\"y\\\": 2470000}, {\\\"x\\\": 2500, \\\"y\\\": 50000000}, {\\\"x\\\": 3850, \\\"y\\\": 55000000}, {\\\"x\\\": 3000, \\\"y\\\": 31000000}, {\\\"x\\\": 2000, \\\"y\\\": 19000000}, {\\\"x\\\": 1028, \\\"y\\\": 3598000}, {\\\"x\\\": 2560, \\\"y\\\": 23900000}, {\\\"x\\\": 2660, \\\"y\\\": 14000000}, {\\\"x\\\": 1584, \\\"y\\\": 7444800}, {\\\"x\\\": 1650, \\\"y\\\": 10725000}, {\\\"x\\\": 2200, \\\"y\\\": 22000000}, {\\\"x\\\": 4000, \\\"y\\\": 72000000}, {\\\"x\\\": 1600, \\\"y\\\": 9600000}, {\\\"x\\\": 1200, \\\"y\\\": 4200000}, {\\\"x\\\": 2140, \\\"y\\\": 13910000}, {\\\"x\\\": 1890, \\\"y\\\": 25000000}, {\\\"x\\\": 1100, \\\"y\\\": 4500000}, {\\\"x\\\": 2200, \\\"y\\\": 22000000}, {\\\"x\\\": 1450, \\\"y\\\": 4500000}, {\\\"x\\\": 2555, \\\"y\\\": 22228500}, {\\\"x\\\": 1650, \\\"y\\\": 11500000}, {\\\"x\\\": 2150, \\\"y\\\": 18000000}, {\\\"x\\\": 3950, \\\"y\\\": 79000000}, {\\\"x\\\": 1400, \\\"y\\\": 9100000}, {\\\"x\\\": 2300, \\\"y\\\": 16100000}, {\\\"x\\\": 1950, \\\"y\\\": 23000000}, {\\\"x\\\": 2400, \\\"y\\\": 45600000}, {\\\"x\\\": 1210, \\\"y\\\": 8228000}, {\\\"x\\\": 1250, \\\"y\\\": 6500000}, {\\\"x\\\": 1200, \\\"y\\\": 8160000}, {\\\"x\\\": 1650, \\\"y\\\": 7425000}, {\\\"x\\\": 1257, \\\"y\\\": 12000000}, {\\\"x\\\": 1300, \\\"y\\\": 4500000}, {\\\"x\\\": 1550, \\\"y\\\": 9300000}, {\\\"x\\\": 2200, \\\"y\\\": 18000000}, {\\\"x\\\": 2500, \\\"y\\\": 8500000}, {\\\"x\\\": 1060, \\\"y\\\": 5500000}, {\\\"x\\\": 1650, \\\"y\\\": 10725000}, {\\\"x\\\": 1890, \\\"y\\\": 12285000}, {\\\"x\\\": 1376, \\\"y\\\": 11500000}, {\\\"x\\\": 1640, \\\"y\\\": 10000000}, {\\\"x\\\": 2305, \\\"y\\\": 29500000}, {\\\"x\\\": 1550, \\\"y\\\": 10075000}, {\\\"x\\\": 1895, \\\"y\\\": 13500000}, {\\\"x\\\": 1475, \\\"y\\\": 17700000}, {\\\"x\\\": 1210, \\\"y\\\": 8228000}, {\\\"x\\\": 1335, \\\"y\\\": 8010000}, {\\\"x\\\": 2556, \\\"y\\\": 22237200}, {\\\"x\\\": 1850, \\\"y\\\": 20000000}, {\\\"x\\\": 2550, \\\"y\\\": 22159500}, {\\\"x\\\": 1900, \\\"y\\\": 17100000}, {\\\"x\\\": 650, \\\"y\\\": 2925000}, {\\\"x\\\": 1565, \\\"y\\\": 10000000}, {\\\"x\\\": 1050, \\\"y\\\": 5145000}, {\\\"x\\\": 1892, \\\"y\\\": 12298000}, {\\\"x\\\": 2650, \\\"y\\\": 22525000}, {\\\"x\\\": 3550, \\\"y\\\": 55025000}, {\\\"x\\\": 2000, \\\"y\\\": 19000000}, {\\\"x\\\": 1140, \\\"y\\\": 4400000}, {\\\"x\\\": 1652, \\\"y\\\": 8342600}, {\\\"x\\\": 1620, \\\"y\\\": 11664000}, {\\\"x\\\": 1600, \\\"y\\\": 11680000}, {\\\"x\\\": 2254, \\\"y\\\": 21000000}, {\\\"x\\\": 1880, \\\"y\\\": 12220000}, {\\\"x\\\": 1882, \\\"y\\\": 12233000}, {\\\"x\\\": 1054, \\\"y\\\": 4321400}, {\\\"x\\\": 894, \\\"y\\\": 3129000}, {\\\"x\\\": 2950, \\\"y\\\": 57525000}, {\\\"x\\\": 1350, \\\"y\\\": 9000000}, {\\\"x\\\": 1210, \\\"y\\\": 6413000}, {\\\"x\\\": 1710, \\\"y\\\": 12000000}, {\\\"x\\\": 2500, \\\"y\\\": 47000000}, {\\\"x\\\": 2550, \\\"y\\\": 47175000}, {\\\"x\\\": 1500, \\\"y\\\": 5000000}, {\\\"x\\\": 2200, \\\"y\\\": 28600000}, {\\\"x\\\": 1150, \\\"y\\\": 4830000}, {\\\"x\\\": 1686, \\\"y\\\": 15000000}, {\\\"x\\\": 4600, \\\"y\\\": 50000000}, {\\\"x\\\": 1450, \\\"y\\\": 8000000}, {\\\"x\\\": 1035, \\\"y\\\": 4500000}, {\\\"x\\\": 1000, \\\"y\\\": 6500000}, {\\\"x\\\": 1400, \\\"y\\\": 8500000}, {\\\"x\\\": 1200, \\\"y\\\": 4200000}, {\\\"x\\\": 1910, \\\"y\\\": 14038500}, {\\\"x\\\": 1375, \\\"y\\\": 17000000}, {\\\"x\\\": 2500, \\\"y\\\": 21000000}, {\\\"x\\\": 1410, \\\"y\\\": 7500000}, {\\\"x\\\": 1250, \\\"y\\\": 7500000}, {\\\"x\\\": 2080, \\\"y\\\": 16500000}, {\\\"x\\\": 1550, \\\"y\\\": 10500000}, {\\\"x\\\": 2180, \\\"y\\\": 29430000}, {\\\"x\\\": 1781, \\\"y\\\": 16900000}, {\\\"x\\\": 4050, \\\"y\\\": 83025000}, {\\\"x\\\": 1530, \\\"y\\\": 11475000}, {\\\"x\\\": 1550, \\\"y\\\": 8525000}, {\\\"x\\\": 2550, \\\"y\\\": 23900000}, {\\\"x\\\": 2300, \\\"y\\\": 28000000}, {\\\"x\\\": 1346, \\\"y\\\": 7000000}, {\\\"x\\\": 1166, \\\"y\\\": 4081000}, {\\\"x\\\": 1600, \\\"y\\\": 8960000}, {\\\"x\\\": 1350, \\\"y\\\": 8500000}, {\\\"x\\\": 2133, \\\"y\\\": 13864500}, {\\\"x\\\": 1600, \\\"y\\\": 11200000}, {\\\"x\\\": 2136, \\\"y\\\": 13884000}, {\\\"x\\\": 2200, \\\"y\\\": 16500000}, {\\\"x\\\": 2150, \\\"y\\\": 27950000}, {\\\"x\\\": 1590, \\\"y\\\": 15105000}, {\\\"x\\\": 1135, \\\"y\\\": 4600000}, {\\\"x\\\": 2050, \\\"y\\\": 17500000}, {\\\"x\\\": 4250, \\\"y\\\": 91375000}, {\\\"x\\\": 940, \\\"y\\\": 5499000}, {\\\"x\\\": 2950, \\\"y\\\": 60000000}, {\\\"x\\\": 1050, \\\"y\\\": 3600000}, {\\\"x\\\": 1175, \\\"y\\\": 5875000}, {\\\"x\\\": 2200, \\\"y\\\": 24000000}, {\\\"x\\\": 1420, \\\"y\\\": 5680000}, {\\\"x\\\": 2510, \\\"y\\\": 25000000}, {\\\"x\\\": 3700, \\\"y\\\": 70300000}, {\\\"x\\\": 2300, \\\"y\\\": 23000000}, {\\\"x\\\": 2568, \\\"y\\\": 22341600}, {\\\"x\\\": 2300, \\\"y\\\": 16330000}, {\\\"x\\\": 1210, \\\"y\\\": 8228000}, {\\\"x\\\": 1514, \\\"y\\\": 9000000}, {\\\"x\\\": 3950, \\\"y\\\": 82950000}, {\\\"x\\\": 4700, \\\"y\\\": 89300000}, {\\\"x\\\": 4200, \\\"y\\\": 79800000}, {\\\"x\\\": 2100, \\\"y\\\": 15000000}, {\\\"x\\\": 1250, \\\"y\\\": 4375000}, {\\\"x\\\": 1248, \\\"y\\\": 8486400}, {\\\"x\\\": 750, \\\"y\\\": 2800000}, {\\\"x\\\": 2470, \\\"y\\\": 29640000}, {\\\"x\\\": 2550, \\\"y\\\": 22185000}, {\\\"x\\\": 2142, \\\"y\\\": 13923000}, {\\\"x\\\": 2700, \\\"y\\\": 41850000}, {\\\"x\\\": 1728, \\\"y\\\": 15500000}, {\\\"x\\\": 1550, \\\"y\\\": 8757500}, {\\\"x\\\": 1060, \\\"y\\\": 3710000}, {\\\"x\\\": 1020, \\\"y\\\": 4800000}, {\\\"x\\\": 3500, \\\"y\\\": 68250000}, {\\\"x\\\": 2000, \\\"y\\\": 18000000}, {\\\"x\\\": 1196, \\\"y\\\": 4186000}, {\\\"x\\\": 1530, \\\"y\\\": 9500000}, {\\\"x\\\": 960, \\\"y\\\": 5000000}, {\\\"x\\\": 4250, \\\"y\\\": 91375000}, {\\\"x\\\": 1120, \\\"y\\\": 6552000}, {\\\"x\\\": 1560, \\\"y\\\": 10140000}, {\\\"x\\\": 2550, \\\"y\\\": 22185000}, {\\\"x\\\": 2200, \\\"y\\\": 37400000}, {\\\"x\\\": 650, \\\"y\\\": 2300000}, {\\\"x\\\": 6550, \\\"y\\\": 111350000}, {\\\"x\\\": 1850, \\\"y\\\": 12025000}, {\\\"x\\\": 880, \\\"y\\\": 4000000}, {\\\"x\\\": 1310, \\\"y\\\": 7467000}, {\\\"x\\\": 2010, \\\"y\\\": 22000000}, {\\\"x\\\": 1060, \\\"y\\\": 3710000}, {\\\"x\\\": 2552, \\\"y\\\": 22176880}, {\\\"x\\\": 2184, \\\"y\\\": 20500000}, {\\\"x\\\": 1500, \\\"y\\\": 9000000}, {\\\"x\\\": 2360, \\\"y\\\": 28320000}, {\\\"x\\\": 3800, \\\"y\\\": 68400000}, {\\\"x\\\": 1000, \\\"y\\\": 3500000}, {\\\"x\\\": 1200, \\\"y\\\": 8000000}, {\\\"x\\\": 1550, \\\"y\\\": 11000000}, {\\\"x\\\": 815, \\\"y\\\": 4000000}, {\\\"x\\\": 1400, \\\"y\\\": 16000000}, {\\\"x\\\": 775, \\\"y\\\": 4500000}, {\\\"x\\\": 1391, \\\"y\\\": 6259500}, {\\\"x\\\": 1060, \\\"y\\\": 3710000}, {\\\"x\\\": 1507, \\\"y\\\": 11000000}, {\\\"x\\\": 2557, \\\"y\\\": 22220330}, {\\\"x\\\": 2200, \\\"y\\\": 20000000}, {\\\"x\\\": 2200, \\\"y\\\": 16500000}, {\\\"x\\\": 3370, \\\"y\\\": 55605000}, {\\\"x\\\": 1050, \\\"y\\\": 3675000}, {\\\"x\\\": 2550, \\\"y\\\": 22159500}, {\\\"x\\\": 1450, \\\"y\\\": 10000000}, {\\\"x\\\": 1131, \\\"y\\\": 5600000}, {\\\"x\\\": 1285, \\\"y\\\": 7388750}, {\\\"x\\\": 1875, \\\"y\\\": 18000000}, {\\\"x\\\": 1650, \\\"y\\\": 11220000}, {\\\"x\\\": 3475, \\\"y\\\": 76450000}, {\\\"x\\\": 1253, \\\"y\\\": 6014400}, {\\\"x\\\": 1490, \\\"y\\\": 7003000}, {\\\"x\\\": 1498, \\\"y\\\": 10186400}, {\\\"x\\\": 2000, \\\"y\\\": 18000000}, {\\\"x\\\": 2548, \\\"y\\\": 22900000}, {\\\"x\\\": 1510, \\\"y\\\": 9815000}, {\\\"x\\\": 3750, \\\"y\\\": 75000000}, {\\\"x\\\": 1280, \\\"y\\\": 8960000}, {\\\"x\\\": 2560, \\\"y\\\": 23900000}, {\\\"x\\\": 1800, \\\"y\\\": 10800000}, {\\\"x\\\": 1136, \\\"y\\\": 5339200}, {\\\"x\\\": 1550, \\\"y\\\": 9842500}, {\\\"x\\\": 1550, \\\"y\\\": 9067500}, {\\\"x\\\": 1368, \\\"y\\\": 10000000}, {\\\"x\\\": 142, \\\"y\\\": 1086300}, {\\\"x\\\": 1550, \\\"y\\\": 11500000}, {\\\"x\\\": 2550, \\\"y\\\": 22185000}, {\\\"x\\\": 1500, \\\"y\\\": 12750000}, {\\\"x\\\": 3680, \\\"y\\\": 79120000}, {\\\"x\\\": 4500, \\\"y\\\": 90000000}, {\\\"x\\\": 1210, \\\"y\\\": 8228000}, {\\\"x\\\": 2070, \\\"y\\\": 19147500}, {\\\"x\\\": 1425, \\\"y\\\": 18525000}, {\\\"x\\\": 2400, \\\"y\\\": 19200000}, {\\\"x\\\": 2200, \\\"y\\\": 18000000}, {\\\"x\\\": 912, \\\"y\\\": 3100000}, {\\\"x\\\": 1410, \\\"y\\\": 19740000}, {\\\"x\\\": 1050, \\\"y\\\": 5600000}, {\\\"x\\\": 1225, \\\"y\\\": 7962500}, {\\\"x\\\": 1010, \\\"y\\\": 5858000}, {\\\"x\\\": 2200, \\\"y\\\": 18700000}, {\\\"x\\\": 2000, \\\"y\\\": 20500000}, {\\\"x\\\": 2600, \\\"y\\\": 31000000}, {\\\"x\\\": 2400, \\\"y\\\": 19200000}, {\\\"x\\\": 2200, \\\"y\\\": 18000000}, {\\\"x\\\": 1350, \\\"y\\\": 9450000}, {\\\"x\\\": 2558, \\\"y\\\": 22229020}, {\\\"x\\\": 1331, \\\"y\\\": 7500000}, {\\\"x\\\": 2800, \\\"y\\\": 39200000}, {\\\"x\\\": 2000, \\\"y\\\": 25000000}, {\\\"x\\\": 1125, \\\"y\\\": 4500000}, {\\\"x\\\": 2558, \\\"y\\\": 22229020}, {\\\"x\\\": 2200, \\\"y\\\": 22000000}, {\\\"x\\\": 1800, \\\"y\\\": 12000000}, {\\\"x\\\": 1240, \\\"y\\\": 4100000}, {\\\"x\\\": 2136, \\\"y\\\": 17000000}, {\\\"x\\\": 4450, \\\"y\\\": 86775000}, {\\\"x\\\": 1233, \\\"y\\\": 8384400}, {\\\"x\\\": 1495, \\\"y\\\": 7176000}, {\\\"x\\\": 3200, \\\"y\\\": 43200000}, {\\\"x\\\": 1560, \\\"y\\\": 11076000}, {\\\"x\\\": 1423, \\\"y\\\": 10672500}, {\\\"x\\\": 1100, \\\"y\\\": 4500000}, {\\\"x\\\": 1770, \\\"y\\\": 11000000}, {\\\"x\\\": 1564, \\\"y\\\": 11182600}, {\\\"x\\\": 2140, \\\"y\\\": 13910000}, {\\\"x\\\": 1834, \\\"y\\\": 9500000}, {\\\"x\\\": 1130, \\\"y\\\": 4520000}, {\\\"x\\\": 4000, \\\"y\\\": 76800000}, {\\\"x\\\": 1150, \\\"y\\\": 4300000}, {\\\"x\\\": 1700, \\\"y\\\": 10500000}, {\\\"x\\\": 4250, \\\"y\\\": 82875000}, {\\\"x\\\": 1050, \\\"y\\\": 4410000}, {\\\"x\\\": 2563, \\\"y\\\": 22298100}, {\\\"x\\\": 3060, \\\"y\\\": 45900000}, {\\\"x\\\": 1120, \\\"y\\\": 7500000}, {\\\"x\\\": 1450, \\\"y\\\": 10875000}, {\\\"x\\\": 2200, \\\"y\\\": 17500000}, {\\\"x\\\": 1510, \\\"y\\\": 9815000}, {\\\"x\\\": 1120, \\\"y\\\": 7500000}, {\\\"x\\\": 1565, \\\"y\\\": 11737500}, {\\\"x\\\": 3300, \\\"y\\\": 38500000}, {\\\"x\\\": 1556, \\\"y\\\": 9354672}, {\\\"x\\\": 2562, \\\"y\\\": 22289400}, {\\\"x\\\": 1595, \\\"y\\\": 15152500}, {\\\"x\\\": 2600, \\\"y\\\": 30000000}]}], \\\"marks\\\": [{\\\"name\\\": \\\"marks\\\", \\\"type\\\": \\\"symbol\\\", \\\"style\\\": [\\\"circle\\\"], \\\"from\\\": {\\\"data\\\": \\\"source_2\\\"}, \\\"encode\\\": {\\\"hover\\\": {\\\"fill\\\": {\\\"value\\\": \\\"#7EC2F3\\\"}}, \\\"update\\\": {\\\"x\\\": {\\\"scale\\\": \\\"x\\\", \\\"field\\\": \\\"x\\\"}, \\\"y\\\": {\\\"scale\\\": \\\"y\\\", \\\"field\\\": \\\"y\\\", \\\"title\\\": \\\"Miles per Gallon\\\"}, \\\"fill\\\": {\\\"value\\\": \\\"#108EE9\\\"}, \\\"shape\\\": {\\\"value\\\": \\\"circle\\\"}, \\\"opacity\\\": {\\\"value\\\": 0.7}}}}], \\\"scales\\\": [{\\\"name\\\": \\\"x\\\", \\\"type\\\": \\\"linear\\\", \\\"domain\\\": {\\\"data\\\": \\\"source_2\\\", \\\"field\\\": \\\"x\\\"}, \\\"range\\\": [0, {\\\"signal\\\": \\\"width\\\"}], \\\"nice\\\": true, \\\"zero\\\": false, \\\"padding\\\": 5}, {\\\"name\\\": \\\"y\\\", \\\"type\\\": \\\"linear\\\", \\\"domain\\\": {\\\"data\\\": \\\"source_2\\\", \\\"field\\\": \\\"y\\\"}, \\\"range\\\": [{\\\"signal\\\": \\\"height\\\"}, 0], \\\"nice\\\": true, \\\"zero\\\": false, \\\"padding\\\": 5}], \\\"axes\\\": [{\\\"scale\\\": \\\"x\\\", \\\"labelOverlap\\\": true, \\\"orient\\\": \\\"bottom\\\", \\\"tickCount\\\": {\\\"signal\\\": \\\"ceil(width/40)\\\"}, \\\"title\\\": \\\"Square Feet Living\\\", \\\"zindex\\\": 1}, {\\\"scale\\\": \\\"x\\\", \\\"domain\\\": false, \\\"grid\\\": true, \\\"labels\\\": false, \\\"maxExtent\\\": 0, \\\"minExtent\\\": 0, \\\"orient\\\": \\\"bottom\\\", \\\"tickCount\\\": {\\\"signal\\\": \\\"ceil(width/40)\\\"}, \\\"ticks\\\": false, \\\"zindex\\\": 0, \\\"gridScale\\\": \\\"y\\\"}, {\\\"scale\\\": \\\"y\\\", \\\"labelOverlap\\\": true, \\\"orient\\\": \\\"left\\\", \\\"tickCount\\\": {\\\"signal\\\": \\\"ceil(height/40)\\\"}, \\\"title\\\": \\\"Price\\\", \\\"zindex\\\": 1}, {\\\"scale\\\": \\\"y\\\", \\\"domain\\\": false, \\\"grid\\\": true, \\\"labels\\\": false, \\\"maxExtent\\\": 0, \\\"minExtent\\\": 0, \\\"orient\\\": \\\"left\\\", \\\"tickCount\\\": {\\\"signal\\\": \\\"ceil(height/40)\\\"}, \\\"ticks\\\": false, \\\"zindex\\\": 0, \\\"gridScale\\\": \\\"x\\\"}], \\\"config\\\": {\\\"axis\\\": {\\\"gridColor\\\": \\\"rgba(204,204,204,1.0)\\\", \\\"labelFont\\\": \\\"\\\\\\\"San Francisco\\\\\\\", HelveticaNeue, Arial\\\", \\\"labelFontSize\\\": 12, \\\"labelPadding\\\": 10, \\\"labelColor\\\": \\\"rgba(0,0,0,0.847)\\\", \\\"tickColor\\\": \\\"rgb(136,136,136)\\\", \\\"titleFont\\\": \\\"\\\\\\\"San Francisco\\\\\\\", HelveticaNeue, Arial\\\", \\\"titleFontWeight\\\": \\\"normal\\\", \\\"titlePadding\\\": 20, \\\"titleFontSize\\\": 14, \\\"titleColor\\\": \\\"rgba(0,0,0,0.847)\\\"}, \\\"axisY\\\": {\\\"minExtent\\\": 30}, \\\"legend\\\": {\\\"labelFont\\\": \\\"\\\\\\\"San Francisco\\\\\\\", HelveticaNeue, Arial\\\", \\\"labelColor\\\": \\\"rgba(0,0,0,0.847)\\\", \\\"titleFont\\\": \\\"\\\\\\\"San Francisco\\\\\\\", HelveticaNeue, Arial\\\", \\\"cornerRadius\\\": 30, \\\"gradientLength\\\": 608, \\\"titleColor\\\": \\\"rgba(0,0,0,0.847)\\\"}, \\\"range\\\": {\\\"heatmap\\\": {\\\"scheme\\\": \\\"greenblue\\\"}}, \\\"style\\\": {\\\"rect\\\": {\\\"stroke\\\": \\\"rgba(200, 200, 200, 0.5)\\\"}, \\\"cell\\\": {\\\"stroke\\\": \\\"transparent\\\"}, \\\"group-title\\\": {\\\"fontSize\\\": 29, \\\"font\\\": \\\"HelveticaNeue, Arial\\\", \\\"fontWeight\\\": \\\"normal\\\", \\\"fill\\\": \\\"rgba(0,0,0,0.65)\\\"}}, \\\"title\\\": {\\\"color\\\": \\\"rgba(0,0,0,0.847)\\\", \\\"font\\\": \\\"\\\\\\\"San Francisco\\\\\\\", HelveticaNeue, Arial\\\", \\\"fontSize\\\": 18, \\\"fontWeight\\\": \\\"normal\\\", \\\"offset\\\": 30}}}\";                                 var vega_json_parsed = JSON.parse(vega_json);                                 var toolTipOpts = {                                     showAllFields: true                                 };                                 if(vega_json_parsed[\"metadata\"] != null){                                     if(vega_json_parsed[\"metadata\"][\"bubbleOpts\"] != null){                                         toolTipOpts = vega_json_parsed[\"metadata\"][\"bubbleOpts\"];                                     };                                 };                                 vegaEmbed(\"#vis\", vega_json_parsed).then(function (result) {                                     vegaTooltip.vega(result.view, toolTipOpts);                                  });                             </script>                         </body>                     </html>' src=\"demo_iframe_srcdoc.htm\">                         <p>Your browser does not support iframes.</p>                     </iframe>                 </body>             </html>"
            ],
            "text/plain": [
              "<IPython.core.display.HTML object>"
            ]
          },
          "metadata": {
            "tags": []
          }
        },
        {
          "output_type": "execute_result",
          "data": {
            "text/plain": [
              "<turicreate.visualization._plot.Plot at 0x7f7702570e10>"
            ]
          },
          "metadata": {
            "tags": []
          },
          "execution_count": 32
        }
      ]
    },
    {
      "cell_type": "code",
      "metadata": {
        "id": "FqwopoiOU45O",
        "colab": {
          "base_uri": "https://localhost:8080/"
        },
        "outputId": "5573acd3-0789-4444-bfea-721edec78ffa"
      },
      "source": [
        "data[data['Size']==2300].sort('TotalPrice',False)"
      ],
      "execution_count": null,
      "outputs": [
        {
          "output_type": "execute_result",
          "data": {
            "text/html": [
              "<div style=\"max-height:1000px;max-width:1500px;overflow:auto;\"><table frame=\"box\" rules=\"cols\">\n",
              "    <tr>\n",
              "        <th style=\"padding-left: 1em; padding-right: 1em; text-align: center\">X1</th>\n",
              "        <th style=\"padding-left: 1em; padding-right: 1em; text-align: center\">Address</th>\n",
              "        <th style=\"padding-left: 1em; padding-right: 1em; text-align: center\">Baths</th>\n",
              "        <th style=\"padding-left: 1em; padding-right: 1em; text-align: center\">Beds</th>\n",
              "        <th style=\"padding-left: 1em; padding-right: 1em; text-align: center\">Price</th>\n",
              "        <th style=\"padding-left: 1em; padding-right: 1em; text-align: center\">Suffix</th>\n",
              "        <th style=\"padding-left: 1em; padding-right: 1em; text-align: center\">Size</th>\n",
              "        <th style=\"padding-left: 1em; padding-right: 1em; text-align: center\">TotalPrice</th>\n",
              "        <th style=\"padding-left: 1em; padding-right: 1em; text-align: center\">Location</th>\n",
              "        <th style=\"padding-left: 1em; padding-right: 1em; text-align: center\">ZipCode</th>\n",
              "    </tr>\n",
              "    <tr>\n",
              "        <td style=\"padding-left: 1em; padding-right: 1em; text-align: center; vertical-align: top\">263</td>\n",
              "        <td style=\"padding-left: 1em; padding-right: 1em; text-align: center; vertical-align: top\">Banani</td>\n",
              "        <td style=\"padding-left: 1em; padding-right: 1em; text-align: center; vertical-align: top\">3</td>\n",
              "        <td style=\"padding-left: 1em; padding-right: 1em; text-align: center; vertical-align: top\">4</td>\n",
              "        <td style=\"padding-left: 1em; padding-right: 1em; text-align: center; vertical-align: top\">280000000</td>\n",
              "        <td style=\"padding-left: 1em; padding-right: 1em; text-align: center; vertical-align: top\">total price</td>\n",
              "        <td style=\"padding-left: 1em; padding-right: 1em; text-align: center; vertical-align: top\">2300</td>\n",
              "        <td style=\"padding-left: 1em; padding-right: 1em; text-align: center; vertical-align: top\">280000000</td>\n",
              "        <td style=\"padding-left: 1em; padding-right: 1em; text-align: center; vertical-align: top\">Banani</td>\n",
              "        <td style=\"padding-left: 1em; padding-right: 1em; text-align: center; vertical-align: top\">1213</td>\n",
              "    </tr>\n",
              "    <tr>\n",
              "        <td style=\"padding-left: 1em; padding-right: 1em; text-align: center; vertical-align: top\">382</td>\n",
              "        <td style=\"padding-left: 1em; padding-right: 1em; text-align: center; vertical-align: top\">GULSHAN 2</td>\n",
              "        <td style=\"padding-left: 1em; padding-right: 1em; text-align: center; vertical-align: top\">4</td>\n",
              "        <td style=\"padding-left: 1em; padding-right: 1em; text-align: center; vertical-align: top\">3</td>\n",
              "        <td style=\"padding-left: 1em; padding-right: 1em; text-align: center; vertical-align: top\">34500000</td>\n",
              "        <td style=\"padding-left: 1em; padding-right: 1em; text-align: center; vertical-align: top\">total price</td>\n",
              "        <td style=\"padding-left: 1em; padding-right: 1em; text-align: center; vertical-align: top\">2300</td>\n",
              "        <td style=\"padding-left: 1em; padding-right: 1em; text-align: center; vertical-align: top\">34500000</td>\n",
              "        <td style=\"padding-left: 1em; padding-right: 1em; text-align: center; vertical-align: top\">Gulshan</td>\n",
              "        <td style=\"padding-left: 1em; padding-right: 1em; text-align: center; vertical-align: top\">1212</td>\n",
              "    </tr>\n",
              "    <tr>\n",
              "        <td style=\"padding-left: 1em; padding-right: 1em; text-align: center; vertical-align: top\">120</td>\n",
              "        <td style=\"padding-left: 1em; padding-right: 1em; text-align: center; vertical-align: top\">Banani</td>\n",
              "        <td style=\"padding-left: 1em; padding-right: 1em; text-align: center; vertical-align: top\">3</td>\n",
              "        <td style=\"padding-left: 1em; padding-right: 1em; text-align: center; vertical-align: top\">4</td>\n",
              "        <td style=\"padding-left: 1em; padding-right: 1em; text-align: center; vertical-align: top\">28000000</td>\n",
              "        <td style=\"padding-left: 1em; padding-right: 1em; text-align: center; vertical-align: top\">total price</td>\n",
              "        <td style=\"padding-left: 1em; padding-right: 1em; text-align: center; vertical-align: top\">2300</td>\n",
              "        <td style=\"padding-left: 1em; padding-right: 1em; text-align: center; vertical-align: top\">28000000</td>\n",
              "        <td style=\"padding-left: 1em; padding-right: 1em; text-align: center; vertical-align: top\">Banani</td>\n",
              "        <td style=\"padding-left: 1em; padding-right: 1em; text-align: center; vertical-align: top\">1213</td>\n",
              "    </tr>\n",
              "    <tr>\n",
              "        <td style=\"padding-left: 1em; padding-right: 1em; text-align: center; vertical-align: top\">524</td>\n",
              "        <td style=\"padding-left: 1em; padding-right: 1em; text-align: center; vertical-align: top\">Banani</td>\n",
              "        <td style=\"padding-left: 1em; padding-right: 1em; text-align: center; vertical-align: top\">3</td>\n",
              "        <td style=\"padding-left: 1em; padding-right: 1em; text-align: center; vertical-align: top\">3</td>\n",
              "        <td style=\"padding-left: 1em; padding-right: 1em; text-align: center; vertical-align: top\">28000000</td>\n",
              "        <td style=\"padding-left: 1em; padding-right: 1em; text-align: center; vertical-align: top\">total price</td>\n",
              "        <td style=\"padding-left: 1em; padding-right: 1em; text-align: center; vertical-align: top\">2300</td>\n",
              "        <td style=\"padding-left: 1em; padding-right: 1em; text-align: center; vertical-align: top\">28000000</td>\n",
              "        <td style=\"padding-left: 1em; padding-right: 1em; text-align: center; vertical-align: top\">Banani</td>\n",
              "        <td style=\"padding-left: 1em; padding-right: 1em; text-align: center; vertical-align: top\">1213</td>\n",
              "    </tr>\n",
              "    <tr>\n",
              "        <td style=\"padding-left: 1em; padding-right: 1em; text-align: center; vertical-align: top\">546</td>\n",
              "        <td style=\"padding-left: 1em; padding-right: 1em; text-align: center; vertical-align: top\">Flat#B2, Rangs Falgooni,<br>9/2 Sir Sayed Road, ...</td>\n",
              "        <td style=\"padding-left: 1em; padding-right: 1em; text-align: center; vertical-align: top\">3</td>\n",
              "        <td style=\"padding-left: 1em; padding-right: 1em; text-align: center; vertical-align: top\">4</td>\n",
              "        <td style=\"padding-left: 1em; padding-right: 1em; text-align: center; vertical-align: top\">10000</td>\n",
              "        <td style=\"padding-left: 1em; padding-right: 1em; text-align: center; vertical-align: top\">per sqft</td>\n",
              "        <td style=\"padding-left: 1em; padding-right: 1em; text-align: center; vertical-align: top\">2300</td>\n",
              "        <td style=\"padding-left: 1em; padding-right: 1em; text-align: center; vertical-align: top\">23000000</td>\n",
              "        <td style=\"padding-left: 1em; padding-right: 1em; text-align: center; vertical-align: top\">Mohammadpur</td>\n",
              "        <td style=\"padding-left: 1em; padding-right: 1em; text-align: center; vertical-align: top\">1207</td>\n",
              "    </tr>\n",
              "    <tr>\n",
              "        <td style=\"padding-left: 1em; padding-right: 1em; text-align: center; vertical-align: top\">39</td>\n",
              "        <td style=\"padding-left: 1em; padding-right: 1em; text-align: center; vertical-align: top\">Bashundhara B block</td>\n",
              "        <td style=\"padding-left: 1em; padding-right: 1em; text-align: center; vertical-align: top\">3</td>\n",
              "        <td style=\"padding-left: 1em; padding-right: 1em; text-align: center; vertical-align: top\">3</td>\n",
              "        <td style=\"padding-left: 1em; padding-right: 1em; text-align: center; vertical-align: top\">8500</td>\n",
              "        <td style=\"padding-left: 1em; padding-right: 1em; text-align: center; vertical-align: top\">per sqft</td>\n",
              "        <td style=\"padding-left: 1em; padding-right: 1em; text-align: center; vertical-align: top\">2300</td>\n",
              "        <td style=\"padding-left: 1em; padding-right: 1em; text-align: center; vertical-align: top\">19550000</td>\n",
              "        <td style=\"padding-left: 1em; padding-right: 1em; text-align: center; vertical-align: top\">Bashundhara</td>\n",
              "        <td style=\"padding-left: 1em; padding-right: 1em; text-align: center; vertical-align: top\">1229</td>\n",
              "    </tr>\n",
              "    <tr>\n",
              "        <td style=\"padding-left: 1em; padding-right: 1em; text-align: center; vertical-align: top\">336</td>\n",
              "        <td style=\"padding-left: 1em; padding-right: 1em; text-align: center; vertical-align: top\">Bashundhara</td>\n",
              "        <td style=\"padding-left: 1em; padding-right: 1em; text-align: center; vertical-align: top\">5</td>\n",
              "        <td style=\"padding-left: 1em; padding-right: 1em; text-align: center; vertical-align: top\">4</td>\n",
              "        <td style=\"padding-left: 1em; padding-right: 1em; text-align: center; vertical-align: top\">8000</td>\n",
              "        <td style=\"padding-left: 1em; padding-right: 1em; text-align: center; vertical-align: top\">per sqft</td>\n",
              "        <td style=\"padding-left: 1em; padding-right: 1em; text-align: center; vertical-align: top\">2300</td>\n",
              "        <td style=\"padding-left: 1em; padding-right: 1em; text-align: center; vertical-align: top\">18400000</td>\n",
              "        <td style=\"padding-left: 1em; padding-right: 1em; text-align: center; vertical-align: top\">Bashundhara</td>\n",
              "        <td style=\"padding-left: 1em; padding-right: 1em; text-align: center; vertical-align: top\">1229</td>\n",
              "    </tr>\n",
              "    <tr>\n",
              "        <td style=\"padding-left: 1em; padding-right: 1em; text-align: center; vertical-align: top\">371</td>\n",
              "        <td style=\"padding-left: 1em; padding-right: 1em; text-align: center; vertical-align: top\">Bashundhara</td>\n",
              "        <td style=\"padding-left: 1em; padding-right: 1em; text-align: center; vertical-align: top\">5</td>\n",
              "        <td style=\"padding-left: 1em; padding-right: 1em; text-align: center; vertical-align: top\">4</td>\n",
              "        <td style=\"padding-left: 1em; padding-right: 1em; text-align: center; vertical-align: top\">8000</td>\n",
              "        <td style=\"padding-left: 1em; padding-right: 1em; text-align: center; vertical-align: top\">per sqft</td>\n",
              "        <td style=\"padding-left: 1em; padding-right: 1em; text-align: center; vertical-align: top\">2300</td>\n",
              "        <td style=\"padding-left: 1em; padding-right: 1em; text-align: center; vertical-align: top\">18400000</td>\n",
              "        <td style=\"padding-left: 1em; padding-right: 1em; text-align: center; vertical-align: top\">Bashundhara</td>\n",
              "        <td style=\"padding-left: 1em; padding-right: 1em; text-align: center; vertical-align: top\">1229</td>\n",
              "    </tr>\n",
              "    <tr>\n",
              "        <td style=\"padding-left: 1em; padding-right: 1em; text-align: center; vertical-align: top\">19</td>\n",
              "        <td style=\"padding-left: 1em; padding-right: 1em; text-align: center; vertical-align: top\">Badda Link Road</td>\n",
              "        <td style=\"padding-left: 1em; padding-right: 1em; text-align: center; vertical-align: top\">5</td>\n",
              "        <td style=\"padding-left: 1em; padding-right: 1em; text-align: center; vertical-align: top\">4</td>\n",
              "        <td style=\"padding-left: 1em; padding-right: 1em; text-align: center; vertical-align: top\">17000000</td>\n",
              "        <td style=\"padding-left: 1em; padding-right: 1em; text-align: center; vertical-align: top\">total price</td>\n",
              "        <td style=\"padding-left: 1em; padding-right: 1em; text-align: center; vertical-align: top\">2300</td>\n",
              "        <td style=\"padding-left: 1em; padding-right: 1em; text-align: center; vertical-align: top\">17000000</td>\n",
              "        <td style=\"padding-left: 1em; padding-right: 1em; text-align: center; vertical-align: top\">Badda</td>\n",
              "        <td style=\"padding-left: 1em; padding-right: 1em; text-align: center; vertical-align: top\">1212</td>\n",
              "    </tr>\n",
              "    <tr>\n",
              "        <td style=\"padding-left: 1em; padding-right: 1em; text-align: center; vertical-align: top\">548</td>\n",
              "        <td style=\"padding-left: 1em; padding-right: 1em; text-align: center; vertical-align: top\">Plot# 24, Road# 10,<br>Sector # 04, Uttara m ...</td>\n",
              "        <td style=\"padding-left: 1em; padding-right: 1em; text-align: center; vertical-align: top\">5</td>\n",
              "        <td style=\"padding-left: 1em; padding-right: 1em; text-align: center; vertical-align: top\">4</td>\n",
              "        <td style=\"padding-left: 1em; padding-right: 1em; text-align: center; vertical-align: top\">7100</td>\n",
              "        <td style=\"padding-left: 1em; padding-right: 1em; text-align: center; vertical-align: top\">per sqft</td>\n",
              "        <td style=\"padding-left: 1em; padding-right: 1em; text-align: center; vertical-align: top\">2300</td>\n",
              "        <td style=\"padding-left: 1em; padding-right: 1em; text-align: center; vertical-align: top\">16330000</td>\n",
              "        <td style=\"padding-left: 1em; padding-right: 1em; text-align: center; vertical-align: top\">Uttara</td>\n",
              "        <td style=\"padding-left: 1em; padding-right: 1em; text-align: center; vertical-align: top\">1230</td>\n",
              "    </tr>\n",
              "</table>\n",
              "[11 rows x 10 columns]<br/>Note: Only the head of the SFrame is printed.<br/>You can use print_rows(num_rows=m, num_columns=n) to print more rows and columns.\n",
              "</div>"
            ],
            "text/plain": [
              "Columns:\n",
              "\tX1\tint\n",
              "\tAddress\tstr\n",
              "\tBaths\tint\n",
              "\tBeds\tint\n",
              "\tPrice\tint\n",
              "\tSuffix\tstr\n",
              "\tSize\tint\n",
              "\tTotalPrice\tint\n",
              "\tLocation\tstr\n",
              "\tZipCode\tint\n",
              "\n",
              "Rows: 11\n",
              "\n",
              "Data:\n",
              "+-----+-------------------------------+-------+------+-----------+-------------+\n",
              "|  X1 |            Address            | Baths | Beds |   Price   |    Suffix   |\n",
              "+-----+-------------------------------+-------+------+-----------+-------------+\n",
              "| 263 |             Banani            |   3   |  4   | 280000000 | total price |\n",
              "| 382 |           GULSHAN 2           |   4   |  3   |  34500000 | total price |\n",
              "| 120 |             Banani            |   3   |  4   |  28000000 | total price |\n",
              "| 524 |             Banani            |   3   |  3   |  28000000 | total price |\n",
              "| 546 | Flat#B2, Rangs Falgooni, 9... |   3   |  4   |   10000   |   per sqft  |\n",
              "|  39 |      Bashundhara B block      |   3   |  3   |    8500   |   per sqft  |\n",
              "| 336 |          Bashundhara          |   5   |  4   |    8000   |   per sqft  |\n",
              "| 371 |          Bashundhara          |   5   |  4   |    8000   |   per sqft  |\n",
              "|  19 |        Badda Link Road        |   5   |  4   |  17000000 | total price |\n",
              "| 548 | Plot# 24, Road# 10, Sector... |   5   |  4   |    7100   |   per sqft  |\n",
              "+-----+-------------------------------+-------+------+-----------+-------------+\n",
              "+------+------------+-------------+---------+\n",
              "| Size | TotalPrice |   Location  | ZipCode |\n",
              "+------+------------+-------------+---------+\n",
              "| 2300 | 280000000  |    Banani   |   1213  |\n",
              "| 2300 |  34500000  |   Gulshan   |   1212  |\n",
              "| 2300 |  28000000  |    Banani   |   1213  |\n",
              "| 2300 |  28000000  |    Banani   |   1213  |\n",
              "| 2300 |  23000000  | Mohammadpur |   1207  |\n",
              "| 2300 |  19550000  | Bashundhara |   1229  |\n",
              "| 2300 |  18400000  | Bashundhara |   1229  |\n",
              "| 2300 |  18400000  | Bashundhara |   1229  |\n",
              "| 2300 |  17000000  |    Badda    |   1212  |\n",
              "| 2300 |  16330000  |    Uttara   |   1230  |\n",
              "+------+------------+-------------+---------+\n",
              "[11 rows x 10 columns]\n",
              "Note: Only the head of the SFrame is printed.\n",
              "You can use print_rows(num_rows=m, num_columns=n) to print more rows and columns."
            ]
          },
          "metadata": {
            "tags": []
          },
          "execution_count": 33
        }
      ]
    },
    {
      "cell_type": "markdown",
      "metadata": {
        "id": "uL8SjecHZPYH"
      },
      "source": [
        "#Creating a Simple Regression Model Size to Total Price\n"
      ]
    },
    {
      "cell_type": "code",
      "metadata": {
        "id": "bQdw5r0tXy0e"
      },
      "source": [
        "train_data,test_data = data.random_split(0.8,seed=42)"
      ],
      "execution_count": null,
      "outputs": []
    },
    {
      "cell_type": "code",
      "metadata": {
        "id": "cHL6AMokZVqo"
      },
      "source": [
        ""
      ],
      "execution_count": null,
      "outputs": []
    },
    {
      "cell_type": "markdown",
      "metadata": {
        "id": "x6AKzCfmkz3b"
      },
      "source": [
        "##Linear Regression Model with sqft feature only"
      ]
    },
    {
      "cell_type": "code",
      "metadata": {
        "id": "QrC3cZMik214",
        "colab": {
          "base_uri": "https://localhost:8080/"
        },
        "outputId": "e3ea0203-7e49-4876-a963-10a67ed5f093"
      },
      "source": [
        "sqft_model = tc.linear_regression.create(train_data, features=['Size'],target='TotalPrice')"
      ],
      "execution_count": null,
      "outputs": [
        {
          "output_type": "stream",
          "text": [
            "PROGRESS: Creating a validation set from 5 percent of training data. This may take a while.\n",
            "          You can set ``validation_set=None`` to disable validation tracking.\n",
            "\n"
          ],
          "name": "stdout"
        },
        {
          "output_type": "display_data",
          "data": {
            "text/html": [
              "<pre>Linear regression:</pre>"
            ],
            "text/plain": [
              "Linear regression:"
            ]
          },
          "metadata": {
            "tags": []
          }
        },
        {
          "output_type": "display_data",
          "data": {
            "text/html": [
              "<pre>--------------------------------------------------------</pre>"
            ],
            "text/plain": [
              "--------------------------------------------------------"
            ]
          },
          "metadata": {
            "tags": []
          }
        },
        {
          "output_type": "display_data",
          "data": {
            "text/html": [
              "<pre>Number of examples          : 515</pre>"
            ],
            "text/plain": [
              "Number of examples          : 515"
            ]
          },
          "metadata": {
            "tags": []
          }
        },
        {
          "output_type": "display_data",
          "data": {
            "text/html": [
              "<pre>Number of features          : 1</pre>"
            ],
            "text/plain": [
              "Number of features          : 1"
            ]
          },
          "metadata": {
            "tags": []
          }
        },
        {
          "output_type": "display_data",
          "data": {
            "text/html": [
              "<pre>Number of unpacked features : 1</pre>"
            ],
            "text/plain": [
              "Number of unpacked features : 1"
            ]
          },
          "metadata": {
            "tags": []
          }
        },
        {
          "output_type": "display_data",
          "data": {
            "text/html": [
              "<pre>Number of coefficients    : 2</pre>"
            ],
            "text/plain": [
              "Number of coefficients    : 2"
            ]
          },
          "metadata": {
            "tags": []
          }
        },
        {
          "output_type": "display_data",
          "data": {
            "text/html": [
              "<pre>Starting Newton Method</pre>"
            ],
            "text/plain": [
              "Starting Newton Method"
            ]
          },
          "metadata": {
            "tags": []
          }
        },
        {
          "output_type": "display_data",
          "data": {
            "text/html": [
              "<pre>--------------------------------------------------------</pre>"
            ],
            "text/plain": [
              "--------------------------------------------------------"
            ]
          },
          "metadata": {
            "tags": []
          }
        },
        {
          "output_type": "display_data",
          "data": {
            "text/html": [
              "<pre>+-----------+----------+--------------+--------------------+----------------------+---------------------------------+-----------------------------------+</pre>"
            ],
            "text/plain": [
              "+-----------+----------+--------------+--------------------+----------------------+---------------------------------+-----------------------------------+"
            ]
          },
          "metadata": {
            "tags": []
          }
        },
        {
          "output_type": "display_data",
          "data": {
            "text/html": [
              "<pre>| Iteration | Passes   | Elapsed Time | Training Max Error | Validation Max Error | Training Root-Mean-Square Error | Validation Root-Mean-Square Error |</pre>"
            ],
            "text/plain": [
              "| Iteration | Passes   | Elapsed Time | Training Max Error | Validation Max Error | Training Root-Mean-Square Error | Validation Root-Mean-Square Error |"
            ]
          },
          "metadata": {
            "tags": []
          }
        },
        {
          "output_type": "display_data",
          "data": {
            "text/html": [
              "<pre>+-----------+----------+--------------+--------------------+----------------------+---------------------------------+-----------------------------------+</pre>"
            ],
            "text/plain": [
              "+-----------+----------+--------------+--------------------+----------------------+---------------------------------+-----------------------------------+"
            ]
          },
          "metadata": {
            "tags": []
          }
        },
        {
          "output_type": "display_data",
          "data": {
            "text/html": [
              "<pre>| 1         | 2        | 1.001386     | 252200045.369842   | 16272698.792357      | 15087317.719383                 | 8087202.784847                    |</pre>"
            ],
            "text/plain": [
              "| 1         | 2        | 1.001386     | 252200045.369842   | 16272698.792357      | 15087317.719383                 | 8087202.784847                    |"
            ]
          },
          "metadata": {
            "tags": []
          }
        },
        {
          "output_type": "display_data",
          "data": {
            "text/html": [
              "<pre>+-----------+----------+--------------+--------------------+----------------------+---------------------------------+-----------------------------------+</pre>"
            ],
            "text/plain": [
              "+-----------+----------+--------------+--------------------+----------------------+---------------------------------+-----------------------------------+"
            ]
          },
          "metadata": {
            "tags": []
          }
        }
      ]
    },
    {
      "cell_type": "code",
      "metadata": {
        "id": "IITLoYn7lO9d",
        "colab": {
          "base_uri": "https://localhost:8080/"
        },
        "outputId": "0b482571-81c7-41d1-812c-af77a7e9069e"
      },
      "source": [
        ""
      ],
      "execution_count": null,
      "outputs": [
        {
          "output_type": "display_data",
          "data": {
            "text/html": [
              "<pre>SUCCESS: Optimal solution found.</pre>"
            ],
            "text/plain": [
              "SUCCESS: Optimal solution found."
            ]
          },
          "metadata": {
            "tags": []
          }
        },
        {
          "output_type": "display_data",
          "data": {
            "text/html": [
              "<pre></pre>"
            ],
            "text/plain": [
              ""
            ]
          },
          "metadata": {
            "tags": []
          }
        }
      ]
    },
    {
      "cell_type": "markdown",
      "metadata": {
        "id": "vKoXOQgelend"
      },
      "source": [
        "###Evaluating the Model"
      ]
    },
    {
      "cell_type": "code",
      "metadata": {
        "id": "35TegEQplhxH",
        "colab": {
          "base_uri": "https://localhost:8080/"
        },
        "outputId": "6e6a8b69-3025-40b6-8656-09228322ac34"
      },
      "source": [
        "print (test_data['TotalPrice'].mean)"
      ],
      "execution_count": null,
      "outputs": [
        {
          "output_type": "stream",
          "text": [
            "<bound method SArray.mean of dtype: int\n",
            "Rows: ?\n",
            "[37820000, 10747000, 7000000, 18000000, 5503700, 8320000, 4000000, 19550000, 10075000, 70500000, 11713500, 17000000, 18000000, 6205000, 51200000, 18000000, 4186000, 7475000, 14000000, 58140000, 13877500, 3500000, 8288500, 17500000, 16660000, 7875000, 10800000, 6176500, 22339032, 3500000, 13500000, 5145000, 78925000, 60000000, 10807250, 12220000, 30000000, 3605000, 4500000, 12000000, 15835500, 90000000, 22000000, 5145000, 5215500, 11000000, 19289600, 8500000, 55800000, 62050000, 5000000, 12500000, 4494000, 29160000, 22281160, 11500000, 9500000, 11500000, 91875000, 12220000, 7500000, 12000000, 29500000, 30000000, 16740000, 7000000, 12239500, 9106500, 11499996, 80850000, 5145000, 54180000, 8500000, 7355500, 16000000, 7496500, 8990000, 13877500, 19800000, 5900000, 22182450, 60800000, 22000000, 4322500, 4000000, 40425000, 13500000, 22237200, 11000000, 8000000, 6500000, 13000000, 24000000, 28000000, 6816000, 22000000, 4200000, 22000000, 9100000, 12000000, ... ]>\n"
          ],
          "name": "stdout"
        }
      ]
    },
    {
      "cell_type": "code",
      "metadata": {
        "id": "RVcWozKSlmG6",
        "colab": {
          "base_uri": "https://localhost:8080/"
        },
        "outputId": "38775716-616b-40e5-81aa-6462e3ebeca1"
      },
      "source": [
        "print (sqft_model.evaluate(test_data))"
      ],
      "execution_count": null,
      "outputs": [
        {
          "output_type": "stream",
          "text": [
            "{'max_error': 26710732.105421856, 'rmse': 8034614.8879156}\n"
          ],
          "name": "stdout"
        }
      ]
    },
    {
      "cell_type": "code",
      "metadata": {
        "id": "EQ5CmO19lufj"
      },
      "source": [
        "import matplotlib.pyplot as plt"
      ],
      "execution_count": null,
      "outputs": []
    },
    {
      "cell_type": "code",
      "metadata": {
        "id": "zL2UjXjTlzWj",
        "colab": {
          "base_uri": "https://localhost:8080/"
        },
        "outputId": "e5c43f68-5bfb-40fc-f6f3-985ccb2ffacc"
      },
      "source": [
        "plt.plot(test_data['Size'],test_data['TotalPrice'],'*',\n",
        "         test_data['Size'],sqft_model.predict(test_data),'-')"
      ],
      "execution_count": null,
      "outputs": [
        {
          "output_type": "execute_result",
          "data": {
            "text/plain": [
              "[<matplotlib.lines.Line2D at 0x7f76fa556690>,\n",
              " <matplotlib.lines.Line2D at 0x7f76fa556950>]"
            ]
          },
          "metadata": {
            "tags": []
          },
          "execution_count": 39
        },
        {
          "output_type": "display_data",
          "data": {
            "image/png": "[encoded data removed]",
            "text/plain": [
              "<Figure size 1080x864 with 1 Axes>"
            ]
          },
          "metadata": {
            "tags": [],
            "needs_background": "light"
          }
        }
      ]
    },
    {
      "cell_type": "code",
      "metadata": {
        "id": "FkJBFSfumBH-",
        "colab": {
          "base_uri": "https://localhost:8080/"
        },
        "outputId": "35ec09cf-3e7d-4b44-d085-52c166923de1"
      },
      "source": [
        "sqft_model.coefficients"
      ],
      "execution_count": null,
      "outputs": [
        {
          "output_type": "execute_result",
          "data": {
            "text/html": [
              "<div style=\"max-height:1000px;max-width:1500px;overflow:auto;\"><table frame=\"box\" rules=\"cols\">\n",
              "    <tr>\n",
              "        <th style=\"padding-left: 1em; padding-right: 1em; text-align: center\">name</th>\n",
              "        <th style=\"padding-left: 1em; padding-right: 1em; text-align: center\">index</th>\n",
              "        <th style=\"padding-left: 1em; padding-right: 1em; text-align: center\">value</th>\n",
              "        <th style=\"padding-left: 1em; padding-right: 1em; text-align: center\">stderr</th>\n",
              "    </tr>\n",
              "    <tr>\n",
              "        <td style=\"padding-left: 1em; padding-right: 1em; text-align: center; vertical-align: top\">(intercept)</td>\n",
              "        <td style=\"padding-left: 1em; padding-right: 1em; text-align: center; vertical-align: top\">None</td>\n",
              "        <td style=\"padding-left: 1em; padding-right: 1em; text-align: center; vertical-align: top\">-20214998.609940603</td>\n",
              "        <td style=\"padding-left: 1em; padding-right: 1em; text-align: center; vertical-align: top\">1507996.408226508</td>\n",
              "    </tr>\n",
              "    <tr>\n",
              "        <td style=\"padding-left: 1em; padding-right: 1em; text-align: center; vertical-align: top\">Size</td>\n",
              "        <td style=\"padding-left: 1em; padding-right: 1em; text-align: center; vertical-align: top\">None</td>\n",
              "        <td style=\"padding-left: 1em; padding-right: 1em; text-align: center; vertical-align: top\">20876.066626129686</td>\n",
              "        <td style=\"padding-left: 1em; padding-right: 1em; text-align: center; vertical-align: top\">719.0285187604368</td>\n",
              "    </tr>\n",
              "</table>\n",
              "[2 rows x 4 columns]<br/>\n",
              "</div>"
            ],
            "text/plain": [
              "Columns:\n",
              "\tname\tstr\n",
              "\tindex\tstr\n",
              "\tvalue\tfloat\n",
              "\tstderr\tfloat\n",
              "\n",
              "Rows: 2\n",
              "\n",
              "Data:\n",
              "+-------------+-------+---------------------+-------------------+\n",
              "|     name    | index |        value        |       stderr      |\n",
              "+-------------+-------+---------------------+-------------------+\n",
              "| (intercept) |  None | -20214998.609940603 | 1507996.408226508 |\n",
              "|     Size    |  None |  20876.066626129686 | 719.0285187604368 |\n",
              "+-------------+-------+---------------------+-------------------+\n",
              "[2 rows x 4 columns]"
            ]
          },
          "metadata": {
            "tags": []
          },
          "execution_count": 40
        }
      ]
    },
    {
      "cell_type": "code",
      "metadata": {
        "id": "FA4fW40YmTW5"
      },
      "source": [
        ""
      ],
      "execution_count": null,
      "outputs": []
    },
    {
      "cell_type": "markdown",
      "metadata": {
        "id": "AndA23CbmZrs"
      },
      "source": [
        "###Exploring Other Features"
      ]
    },
    {
      "cell_type": "code",
      "metadata": {
        "id": "45IpR9nFmczS"
      },
      "source": [
        "my_features = ['Baths','Beds','Size','ZipCode']"
      ],
      "execution_count": null,
      "outputs": []
    },
    {
      "cell_type": "code",
      "metadata": {
        "id": "PJo8pMq7m9N7",
        "colab": {
          "base_uri": "https://localhost:8080/"
        },
        "outputId": "cdc20ad3-2c89-4d42-8d6f-8ef40a645bc0"
      },
      "source": [
        "tc.visualization.set_target(target='auto')\n",
        "data[my_features].show()"
      ],
      "execution_count": null,
      "outputs": [
        {
          "output_type": "display_data",
          "data": {
            "text/html": [
              "<pre>Materializing SFrame</pre>"
            ],
            "text/plain": [
              "Materializing SFrame"
            ]
          },
          "metadata": {
            "tags": []
          }
        },
        {
          "output_type": "display_data",
          "data": {
            "text/html": [
              "<html>                 <body>                     <iframe style=\"border:0;margin:0\" width=\"1000\" height=\"1500\" srcdoc='<html lang=\"en\">                         <head>                             <script src=\"https://cdnjs.cloudflare.com/ajax/libs/vega/5.4.0/vega.js\"></script>                             <script src=\"https://cdnjs.cloudflare.com/ajax/libs/vega-embed/4.0.0/vega-embed.js\"></script>                             <script src=\"https://cdnjs.cloudflare.com/ajax/libs/vega-tooltip/0.5.1/vega-tooltip.min.js\"></script>                             <link rel=\"stylesheet\" type=\"text/css\" href=\"https://cdnjs.cloudflare.com/ajax/libs/vega-tooltip/0.5.1/vega-tooltip.min.css\">                             <style>                             .vega-actions > a{                                 color:white;                                 text-decoration: none;                                 font-family: \"Arial\";                                 cursor:pointer;                                 padding:5px;                                 background:#AAAAAA;                                 border-radius:4px;                                 padding-left:10px;                                 padding-right:10px;                                 margin-right:5px;                             }                             .vega-actions{                                 margin-top:20px;                                 text-align:center                             }                            .vega-actions > a{                                 background:#999999;                            }                             </style>                         </head>                         <body>                             <div id=\"vis\">                             </div>                             <script>                                 var vega_json = \"{\\\"$schema\\\": \\\"https://vega.github.io/schema/vega/v4.json\\\", \\\"metadata\\\": {\\\"bubbleOpts\\\": {\\\"showAllFields\\\": false, \\\"fields\\\": [{\\\"field\\\": \\\"left\\\"}, {\\\"field\\\": \\\"right\\\"}, {\\\"field\\\": \\\"count\\\"}, {\\\"field\\\": \\\"label\\\"}]}}, \\\"width\\\": 800, \\\"height\\\": 1280, \\\"padding\\\": 8, \\\"data\\\": [{\\\"name\\\": \\\"pts_store\\\"}, {\\\"name\\\": \\\"source_2\\\", \\\"values\\\": [{\\\"a\\\": 0, \\\"title\\\": \\\"Baths\\\", \\\"num_row\\\": 684, \\\"type\\\": \\\"integer\\\", \\\"num_unique\\\": 6, \\\"num_missing\\\": 0, \\\"mean\\\": 3.388889, \\\"min\\\": 1.0, \\\"max\\\": 6.0, \\\"median\\\": 3.0, \\\"stdev\\\": 0.937019, \\\"numeric\\\": [{\\\"left\\\": -6, \\\"right\\\": -5, \\\"count\\\": 0}, {\\\"left\\\": -5, \\\"right\\\": -4, \\\"count\\\": 0}, {\\\"left\\\": -4, \\\"right\\\": -3, \\\"count\\\": 0}, {\\\"left\\\": -3, \\\"right\\\": -2, \\\"count\\\": 0}, {\\\"left\\\": -2, \\\"right\\\": -1, \\\"count\\\": 0}, {\\\"left\\\": -1, \\\"right\\\": 0, \\\"count\\\": 0}, {\\\"left\\\": 0, \\\"right\\\": 1, \\\"count\\\": 0}, {\\\"left\\\": 1, \\\"right\\\": 2, \\\"count\\\": 2}, {\\\"left\\\": 2, \\\"right\\\": 3, \\\"count\\\": 117}, {\\\"left\\\": 3, \\\"right\\\": 4, \\\"count\\\": 269}, {\\\"left\\\": 4, \\\"right\\\": 5, \\\"count\\\": 210}, {\\\"left\\\": 5, \\\"right\\\": 6, \\\"count\\\": 81}, {\\\"left\\\": 6, \\\"right\\\": 7, \\\"count\\\": 5}, {\\\"left\\\": 7, \\\"right\\\": 8, \\\"count\\\": 0}, {\\\"left\\\": 8, \\\"right\\\": 9, \\\"count\\\": 0}, {\\\"left\\\": 9, \\\"right\\\": 10, \\\"count\\\": 0}, {\\\"left\\\": 10, \\\"right\\\": 11, \\\"count\\\": 0}, {\\\"left\\\": 11, \\\"right\\\": 12, \\\"count\\\": 0}, {\\\"left\\\": 12, \\\"right\\\": 13, \\\"count\\\": 0}, {\\\"left\\\": 13, \\\"right\\\": 14, \\\"count\\\": 0}, {\\\"start\\\": -6, \\\"stop\\\": 14, \\\"step\\\": 1}], \\\"categorical\\\": []}, {\\\"a\\\": 1, \\\"title\\\": \\\"Beds\\\", \\\"num_row\\\": 684, \\\"type\\\": \\\"integer\\\", \\\"num_unique\\\": 7, \\\"num_missing\\\": 0, \\\"mean\\\": 3.248538, \\\"min\\\": 1.0, \\\"max\\\": 7.0, \\\"median\\\": 3.0, \\\"stdev\\\": 0.594503, \\\"numeric\\\": [{\\\"left\\\": -5, \\\"right\\\": -4, \\\"count\\\": 0}, {\\\"left\\\": -4, \\\"right\\\": -3, \\\"count\\\": 0}, {\\\"left\\\": -3, \\\"right\\\": -2, \\\"count\\\": 0}, {\\\"left\\\": -2, \\\"right\\\": -1, \\\"count\\\": 0}, {\\\"left\\\": -1, \\\"right\\\": 0, \\\"count\\\": 0}, {\\\"left\\\": 0, \\\"right\\\": 1, \\\"count\\\": 0}, {\\\"left\\\": 1, \\\"right\\\": 2, \\\"count\\\": 1}, {\\\"left\\\": 2, \\\"right\\\": 3, \\\"count\\\": 34}, {\\\"left\\\": 3, \\\"right\\\": 4, \\\"count\\\": 457}, {\\\"left\\\": 4, \\\"right\\\": 5, \\\"count\\\": 183}, {\\\"left\\\": 5, \\\"right\\\": 6, \\\"count\\\": 5}, {\\\"left\\\": 6, \\\"right\\\": 7, \\\"count\\\": 3}, {\\\"left\\\": 7, \\\"right\\\": 8, \\\"count\\\": 1}, {\\\"left\\\": 8, \\\"right\\\": 9, \\\"count\\\": 0}, {\\\"left\\\": 9, \\\"right\\\": 10, \\\"count\\\": 0}, {\\\"left\\\": 10, \\\"right\\\": 11, \\\"count\\\": 0}, {\\\"left\\\": 11, \\\"right\\\": 12, \\\"count\\\": 0}, {\\\"left\\\": 12, \\\"right\\\": 13, \\\"count\\\": 0}, {\\\"left\\\": 13, \\\"right\\\": 14, \\\"count\\\": 0}, {\\\"left\\\": 14, \\\"right\\\": 15, \\\"count\\\": 0}, {\\\"start\\\": -5, \\\"stop\\\": 15, \\\"step\\\": 1}], \\\"categorical\\\": []}, {\\\"a\\\": 2, \\\"title\\\": \\\"Size\\\", \\\"num_row\\\": 684, \\\"type\\\": \\\"integer\\\", \\\"num_unique\\\": 291, \\\"num_missing\\\": 0, \\\"mean\\\": 1910.707602, \\\"min\\\": 142.0, \\\"max\\\": 12000.0, \\\"median\\\": 1650.0, \\\"stdev\\\": 922.245045, \\\"numeric\\\": [{\\\"left\\\": -5, \\\"right\\\": 603, \\\"count\\\": 2}, {\\\"left\\\": 603, \\\"right\\\": 1211, \\\"count\\\": 134}, {\\\"left\\\": 1211, \\\"right\\\": 1819, \\\"count\\\": 246}, {\\\"left\\\": 1819, \\\"right\\\": 2427, \\\"count\\\": 150}, {\\\"left\\\": 2427, \\\"right\\\": 3035, \\\"count\\\": 92}, {\\\"left\\\": 3035, \\\"right\\\": 3643, \\\"count\\\": 20}, {\\\"left\\\": 3643, \\\"right\\\": 4251, \\\"count\\\": 26}, {\\\"left\\\": 4251, \\\"right\\\": 4859, \\\"count\\\": 10}, {\\\"left\\\": 4859, \\\"right\\\": 5467, \\\"count\\\": 2}, {\\\"left\\\": 5467, \\\"right\\\": 6075, \\\"count\\\": 0}, {\\\"left\\\": 6075, \\\"right\\\": 6683, \\\"count\\\": 1}, {\\\"left\\\": 6683, \\\"right\\\": 7291, \\\"count\\\": 0}, {\\\"left\\\": 7291, \\\"right\\\": 7899, \\\"count\\\": 0}, {\\\"left\\\": 7899, \\\"right\\\": 8507, \\\"count\\\": 0}, {\\\"left\\\": 8507, \\\"right\\\": 9115, \\\"count\\\": 0}, {\\\"left\\\": 9115, \\\"right\\\": 9723, \\\"count\\\": 0}, {\\\"left\\\": 9723, \\\"right\\\": 10331, \\\"count\\\": 0}, {\\\"left\\\": 10331, \\\"right\\\": 10939, \\\"count\\\": 0}, {\\\"left\\\": 10939, \\\"right\\\": 11547, \\\"count\\\": 0}, {\\\"left\\\": 11547, \\\"right\\\": 12155, \\\"count\\\": 1}, {\\\"start\\\": -5, \\\"stop\\\": 12155, \\\"step\\\": 608}], \\\"categorical\\\": []}, {\\\"a\\\": 3, \\\"title\\\": \\\"ZipCode\\\", \\\"num_row\\\": 684, \\\"type\\\": \\\"integer\\\", \\\"num_unique\\\": 20, \\\"num_missing\\\": 0, \\\"mean\\\": 3286.29386, \\\"min\\\": 1203.0, \\\"max\\\": 700097.0, \\\"median\\\": 1217.0, \\\"stdev\\\": 37735.284456, \\\"numeric\\\": [{\\\"left\\\": -18662, \\\"right\\\": 18202, \\\"count\\\": 682}, {\\\"left\\\": 18202, \\\"right\\\": 55066, \\\"count\\\": 0}, {\\\"left\\\": 55066, \\\"right\\\": 91930, \\\"count\\\": 0}, {\\\"left\\\": 91930, \\\"right\\\": 128794, \\\"count\\\": 0}, {\\\"left\\\": 128794, \\\"right\\\": 165658, \\\"count\\\": 0}, {\\\"left\\\": 165658, \\\"right\\\": 202522, \\\"count\\\": 0}, {\\\"left\\\": 202522, \\\"right\\\": 239386, \\\"count\\\": 0}, {\\\"left\\\": 239386, \\\"right\\\": 276250, \\\"count\\\": 0}, {\\\"left\\\": 276250, \\\"right\\\": 313114, \\\"count\\\": 0}, {\\\"left\\\": 313114, \\\"right\\\": 349978, \\\"count\\\": 0}, {\\\"left\\\": 349978, \\\"right\\\": 386842, \\\"count\\\": 0}, {\\\"left\\\": 386842, \\\"right\\\": 423706, \\\"count\\\": 0}, {\\\"left\\\": 423706, \\\"right\\\": 460570, \\\"count\\\": 0}, {\\\"left\\\": 460570, \\\"right\\\": 497434, \\\"count\\\": 0}, {\\\"left\\\": 497434, \\\"right\\\": 534298, \\\"count\\\": 0}, {\\\"left\\\": 534298, \\\"right\\\": 571162, \\\"count\\\": 0}, {\\\"left\\\": 571162, \\\"right\\\": 608026, \\\"count\\\": 0}, {\\\"left\\\": 608026, \\\"right\\\": 644890, \\\"count\\\": 0}, {\\\"left\\\": 644890, \\\"right\\\": 681754, \\\"count\\\": 0}, {\\\"left\\\": 681754, \\\"right\\\": 718618, \\\"count\\\": 2}, {\\\"start\\\": -18662, \\\"stop\\\": 718618, \\\"step\\\": 36864}], \\\"categorical\\\": []}]}, {\\\"name\\\": \\\"data_2\\\", \\\"source\\\": \\\"source_2\\\", \\\"transform\\\": [{\\\"type\\\": \\\"formula\\\", \\\"expr\\\": \\\"20\\\", \\\"as\\\": \\\"c_x_axis_back\\\"}, {\\\"type\\\": \\\"formula\\\", \\\"expr\\\": \\\"toNumber(datum[\\\\\\\"a\\\\\\\"])*300+66\\\", \\\"as\\\": \\\"c_main_background\\\"}, {\\\"type\\\": \\\"formula\\\", \\\"expr\\\": \\\"toNumber(datum[\\\\\\\"a\\\\\\\"])*300+43\\\", \\\"as\\\": \\\"c_top_bar\\\"}, {\\\"type\\\": \\\"formula\\\", \\\"expr\\\": \\\"toNumber(datum[\\\\\\\"a\\\\\\\"])*300+59\\\", \\\"as\\\": \\\"c_top_title\\\"}, {\\\"type\\\": \\\"formula\\\", \\\"expr\\\": \\\"toNumber(datum[\\\\\\\"a\\\\\\\"])*300+58\\\", \\\"as\\\": \\\"c_top_type\\\"}, {\\\"type\\\": \\\"formula\\\", \\\"expr\\\": \\\"toNumber(datum[\\\\\\\"a\\\\\\\"])*300+178\\\", \\\"as\\\": \\\"c_rule\\\"}, {\\\"type\\\": \\\"formula\\\", \\\"expr\\\": \\\"toNumber(datum[\\\\\\\"a\\\\\\\"])*300+106\\\", \\\"as\\\": \\\"c_num_rows\\\"}, {\\\"type\\\": \\\"formula\\\", \\\"expr\\\": \\\"toNumber(datum[\\\\\\\"a\\\\\\\"])*300+130\\\", \\\"as\\\": \\\"c_num_unique\\\"}, {\\\"type\\\": \\\"formula\\\", \\\"expr\\\": \\\"toNumber(datum[\\\\\\\"a\\\\\\\"])*300+154\\\", \\\"as\\\": \\\"c_missing\\\"}, {\\\"type\\\": \\\"formula\\\", \\\"expr\\\": \\\"toNumber(datum[\\\\\\\"a\\\\\\\"])*300+105\\\", \\\"as\\\": \\\"c_num_rows_val\\\"}, {\\\"type\\\": \\\"formula\\\", \\\"expr\\\": \\\"toNumber(datum[\\\\\\\"a\\\\\\\"])*300+130\\\", \\\"as\\\": \\\"c_num_unique_val\\\"}, {\\\"type\\\": \\\"formula\\\", \\\"expr\\\": \\\"toNumber(datum[\\\\\\\"a\\\\\\\"])*300+154\\\", \\\"as\\\": \\\"c_missing_val\\\"}, {\\\"type\\\": \\\"formula\\\", \\\"expr\\\": \\\"toNumber(datum[\\\\\\\"a\\\\\\\"])*300+195\\\", \\\"as\\\": \\\"c_frequent_items\\\"}, {\\\"type\\\": \\\"formula\\\", \\\"expr\\\": \\\"toNumber(datum[\\\\\\\"a\\\\\\\"])*300+218\\\", \\\"as\\\": \\\"c_first_item\\\"}, {\\\"type\\\": \\\"formula\\\", \\\"expr\\\": \\\"toNumber(datum[\\\\\\\"a\\\\\\\"])*300+235\\\", \\\"as\\\": \\\"c_second_item\\\"}, {\\\"type\\\": \\\"formula\\\", \\\"expr\\\": \\\"toNumber(datum[\\\\\\\"a\\\\\\\"])*300+252\\\", \\\"as\\\": \\\"c_third_item\\\"}, {\\\"type\\\": \\\"formula\\\", \\\"expr\\\": \\\"toNumber(datum[\\\\\\\"a\\\\\\\"])*300+269\\\", \\\"as\\\": \\\"c_fourth_item\\\"}, {\\\"type\\\": \\\"formula\\\", \\\"expr\\\": \\\"toNumber(datum[\\\\\\\"a\\\\\\\"])*300+286\\\", \\\"as\\\": \\\"c_fifth_item\\\"}, {\\\"type\\\": \\\"formula\\\", \\\"expr\\\": \\\"toNumber(datum[\\\\\\\"a\\\\\\\"])*300+200\\\", \\\"as\\\": \\\"c_mean\\\"}, {\\\"type\\\": \\\"formula\\\", \\\"expr\\\": \\\"toNumber(datum[\\\\\\\"a\\\\\\\"])*300+220\\\", \\\"as\\\": \\\"c_min\\\"}, {\\\"type\\\": \\\"formula\\\", \\\"expr\\\": \\\"toNumber(datum[\\\\\\\"a\\\\\\\"])*300+240\\\", \\\"as\\\": \\\"c_max\\\"}, {\\\"type\\\": \\\"formula\\\", \\\"expr\\\": \\\"toNumber(datum[\\\\\\\"a\\\\\\\"])*300+260\\\", \\\"as\\\": \\\"c_median\\\"}, {\\\"type\\\": \\\"formula\\\", \\\"expr\\\": \\\"toNumber(datum[\\\\\\\"a\\\\\\\"])*300+280\\\", \\\"as\\\": \\\"c_stdev\\\"}, {\\\"type\\\": \\\"formula\\\", \\\"expr\\\": \\\"toNumber(datum[\\\\\\\"a\\\\\\\"])*300+198\\\", \\\"as\\\": \\\"c_mean_val\\\"}, {\\\"type\\\": \\\"formula\\\", \\\"expr\\\": \\\"toNumber(datum[\\\\\\\"a\\\\\\\"])*300+218\\\", \\\"as\\\": \\\"c_min_val\\\"}, {\\\"type\\\": \\\"formula\\\", \\\"expr\\\": \\\"toNumber(datum[\\\\\\\"a\\\\\\\"])*300+238\\\", \\\"as\\\": \\\"c_max_val\\\"}, {\\\"type\\\": \\\"formula\\\", \\\"expr\\\": \\\"toNumber(datum[\\\\\\\"a\\\\\\\"])*300+258\\\", \\\"as\\\": \\\"c_median_val\\\"}, {\\\"type\\\": \\\"formula\\\", \\\"expr\\\": \\\"toNumber(datum[\\\\\\\"a\\\\\\\"])*300+278\\\", \\\"as\\\": \\\"c_stdev_val\\\"}, {\\\"type\\\": \\\"formula\\\", \\\"expr\\\": \\\"toNumber(datum[\\\\\\\"a\\\\\\\"])*300+106\\\", \\\"as\\\": \\\"graph_offset\\\"}, {\\\"type\\\": \\\"formula\\\", \\\"expr\\\": \\\"toNumber(datum[\\\\\\\"a\\\\\\\"])*300+132\\\", \\\"as\\\": \\\"graph_offset_categorical\\\"}, {\\\"type\\\": \\\"formula\\\", \\\"expr\\\": \\\"(toString(datum[\\\\\\\"type\\\\\\\"]) == \\\\\\\"integer\\\\\\\" || toString(datum[\\\\\\\"type\\\\\\\"]) == \\\\\\\"float\\\\\\\")?false:true\\\", \\\"as\\\": \\\"c_clip_val\\\"}, {\\\"type\\\": \\\"formula\\\", \\\"expr\\\": \\\"(toString(datum[\\\\\\\"type\\\\\\\"]) == \\\\\\\"integer\\\\\\\" || toString(datum[\\\\\\\"type\\\\\\\"]) == \\\\\\\"float\\\\\\\")?250:0\\\", \\\"as\\\": \\\"c_width_numeric_val\\\"}, {\\\"type\\\": \\\"formula\\\", \\\"expr\\\": \\\"(toString(datum[\\\\\\\"type\\\\\\\"]) == \\\\\\\"str\\\\\\\")?false:true\\\", \\\"as\\\": \\\"c_clip_val_cat\\\"}, {\\\"type\\\": \\\"formula\\\", \\\"expr\\\": \\\"(toString(datum[\\\\\\\"type\\\\\\\"]) == \\\\\\\"str\\\\\\\")?250:0\\\", \\\"as\\\": \\\"c_width_numeric_val_cat\\\"}]}], \\\"marks\\\": [{\\\"encode\\\": {\\\"enter\\\": {\\\"x\\\": {\\\"value\\\": 0}, \\\"width\\\": {\\\"value\\\": 734}, \\\"y\\\": {\\\"value\\\": 0}, \\\"height\\\": {\\\"value\\\": 366}, \\\"clip\\\": {\\\"value\\\": 0}, \\\"fill\\\": {\\\"value\\\": \\\"#ffffff\\\"}, \\\"fillOpacity\\\": {\\\"value\\\": 0}, \\\"stroke\\\": {\\\"value\\\": \\\"#000000\\\"}, \\\"strokeWidth\\\": {\\\"value\\\": 0}}}, \\\"marks\\\": [{\\\"encode\\\": {\\\"enter\\\": {\\\"x\\\": {\\\"value\\\": 0}, \\\"width\\\": {\\\"value\\\": 734}, \\\"y\\\": {\\\"value\\\": 0}, \\\"height\\\": {\\\"value\\\": 366}, \\\"clip\\\": {\\\"value\\\": 0}, \\\"fill\\\": {\\\"value\\\": \\\"#ffffff\\\"}, \\\"fillOpacity\\\": {\\\"value\\\": 0}, \\\"stroke\\\": {\\\"value\\\": \\\"#000000\\\"}, \\\"strokeWidth\\\": {\\\"value\\\": 0}}}, \\\"scales\\\": [], \\\"axes\\\": [], \\\"marks\\\": [{\\\"from\\\": {\\\"data\\\": \\\"data_2\\\"}, \\\"encode\\\": {\\\"enter\\\": {\\\"x\\\": {\\\"value\\\": 33}, \\\"width\\\": {\\\"value\\\": 700}, \\\"y\\\": {\\\"value\\\": 66}, \\\"height\\\": {\\\"value\\\": 250}, \\\"fill\\\": {\\\"value\\\": \\\"#FEFEFE\\\"}, \\\"fillOpacity\\\": {\\\"value\\\": 1}, \\\"stroke\\\": {\\\"value\\\": \\\"#DEDEDE\\\"}, \\\"strokeWidth\\\": {\\\"value\\\": 0.5}}, \\\"update\\\": {\\\"x\\\": {\\\"signal\\\": \\\"datum[\\\\\\\"c_x_axis_back\\\\\\\"]\\\"}, \\\"y\\\": {\\\"field\\\": \\\"c_main_background\\\"}}}, \\\"type\\\": \\\"rect\\\"}, {\\\"from\\\": {\\\"data\\\": \\\"data_2\\\"}, \\\"encode\\\": {\\\"enter\\\": {\\\"x\\\": {\\\"value\\\": 33}, \\\"width\\\": {\\\"value\\\": 700}, \\\"y\\\": {\\\"value\\\": 43}, \\\"height\\\": {\\\"value\\\": 30}, \\\"fill\\\": {\\\"value\\\": \\\"#F5F5F5\\\"}, \\\"fillOpacity\\\": {\\\"value\\\": 1}, \\\"stroke\\\": {\\\"value\\\": \\\"#DEDEDE\\\"}, \\\"strokeWidth\\\": {\\\"value\\\": 0.5}}, \\\"update\\\": {\\\"x\\\": {\\\"signal\\\": \\\"datum[\\\\\\\"c_x_axis_back\\\\\\\"]\\\"}, \\\"y\\\": {\\\"field\\\": \\\"c_top_bar\\\"}}}, \\\"type\\\": \\\"rect\\\"}, {\\\"from\\\": {\\\"data\\\": \\\"data_2\\\"}, \\\"encode\\\": {\\\"enter\\\": {\\\"x\\\": {\\\"value\\\": 720}, \\\"y\\\": {\\\"value\\\": 58}, \\\"text\\\": {\\\"signal\\\": \\\"&apos;&apos;+datum[\\\\\\\"type\\\\\\\"]\\\"}, \\\"align\\\": {\\\"value\\\": \\\"right\\\"}, \\\"baseline\\\": {\\\"value\\\": \\\"middle\\\"}, \\\"dx\\\": {\\\"value\\\": 0, \\\"offset\\\": 0}, \\\"dy\\\": {\\\"value\\\": 0, \\\"offset\\\": 0}, \\\"angle\\\": {\\\"value\\\": 0}, \\\"font\\\": {\\\"value\\\": \\\"AvenirNext-Medium\\\"}, \\\"fontSize\\\": {\\\"value\\\": 12}, \\\"fontWeight\\\": {\\\"value\\\": \\\"normal\\\"}, \\\"fontStyle\\\": {\\\"value\\\": \\\"normal\\\"}, \\\"fill\\\": {\\\"value\\\": \\\"#595859\\\"}}, \\\"update\\\": {\\\"x\\\": {\\\"signal\\\": \\\"datum[\\\\\\\"c_x_axis_back\\\\\\\"]+687\\\"}, \\\"y\\\": {\\\"field\\\": \\\"c_top_type\\\"}}}, \\\"type\\\": \\\"text\\\"}, {\\\"from\\\": {\\\"data\\\": \\\"data_2\\\"}, \\\"encode\\\": {\\\"enter\\\": {\\\"x\\\": {\\\"value\\\": 44}, \\\"y\\\": {\\\"value\\\": 59}, \\\"text\\\": {\\\"signal\\\": \\\"&apos;&apos;+datum[\\\\\\\"title\\\\\\\"]\\\"}, \\\"align\\\": {\\\"value\\\": \\\"left\\\"}, \\\"baseline\\\": {\\\"value\\\": \\\"middle\\\"}, \\\"dx\\\": {\\\"value\\\": 0, \\\"offset\\\": 0}, \\\"dy\\\": {\\\"value\\\": 0, \\\"offset\\\": 0}, \\\"angle\\\": {\\\"value\\\": 0}, \\\"font\\\": {\\\"value\\\": \\\"AvenirNext-Medium\\\"}, \\\"fontSize\\\": {\\\"value\\\": 15}, \\\"fontWeight\\\": {\\\"value\\\": \\\"normal\\\"}, \\\"fontStyle\\\": {\\\"value\\\": \\\"normal\\\"}, \\\"fill\\\": {\\\"value\\\": \\\"#9B9B9B\\\"}}, \\\"update\\\": {\\\"x\\\": {\\\"signal\\\": \\\"datum[\\\\\\\"c_x_axis_back\\\\\\\"]+11\\\"}, \\\"y\\\": {\\\"field\\\": \\\"c_top_title\\\"}}}, \\\"type\\\": \\\"text\\\"}, {\\\"from\\\": {\\\"data\\\": \\\"data_2\\\"}, \\\"encode\\\": {\\\"enter\\\": {\\\"x\\\": {\\\"value\\\": 500}, \\\"y\\\": {\\\"value\\\": 178}, \\\"stroke\\\": {\\\"value\\\": \\\"#EDEDEB\\\"}, \\\"strokeWidth\\\": {\\\"value\\\": 1}, \\\"strokeCap\\\": {\\\"value\\\": \\\"butt\\\"}, \\\"x2\\\": {\\\"value\\\": 720}, \\\"y2\\\": {\\\"value\\\": 178}}, \\\"update\\\": {\\\"x\\\": {\\\"signal\\\": \\\"datum[\\\\\\\"c_x_axis_back\\\\\\\"]+467\\\"}, \\\"x2\\\": {\\\"signal\\\": \\\"datum[\\\\\\\"c_x_axis_back\\\\\\\"]+687\\\"}, \\\"y\\\": {\\\"field\\\": \\\"c_rule\\\"}, \\\"y2\\\": {\\\"field\\\": \\\"c_rule\\\"}}}, \\\"type\\\": \\\"rule\\\"}, {\\\"from\\\": {\\\"data\\\": \\\"data_2\\\"}, \\\"encode\\\": {\\\"enter\\\": {\\\"x\\\": {\\\"value\\\": 500}, \\\"y\\\": {\\\"value\\\": 106}, \\\"text\\\": {\\\"value\\\": \\\"Num. Rows:\\\"}, \\\"align\\\": {\\\"value\\\": \\\"left\\\"}, \\\"baseline\\\": {\\\"value\\\": \\\"middle\\\"}, \\\"dx\\\": {\\\"value\\\": 0, \\\"offset\\\": 0}, \\\"dy\\\": {\\\"value\\\": 0, \\\"offset\\\": 0}, \\\"angle\\\": {\\\"value\\\": 0}, \\\"font\\\": {\\\"value\\\": \\\"AvenirNext-Medium\\\"}, \\\"fontSize\\\": {\\\"value\\\": 12}, \\\"fontWeight\\\": {\\\"value\\\": \\\"normal\\\"}, \\\"fontStyle\\\": {\\\"value\\\": \\\"normal\\\"}, \\\"fill\\\": {\\\"value\\\": \\\"#4A4A4A\\\"}}, \\\"update\\\": {\\\"x\\\": {\\\"signal\\\": \\\"datum[\\\\\\\"c_x_axis_back\\\\\\\"]+467\\\"}, \\\"y\\\": {\\\"field\\\": \\\"c_num_rows\\\"}}}, \\\"type\\\": \\\"text\\\"}, {\\\"from\\\": {\\\"data\\\": \\\"data_2\\\"}, \\\"encode\\\": {\\\"enter\\\": {\\\"x\\\": {\\\"value\\\": 500}, \\\"y\\\": {\\\"value\\\": 130}, \\\"text\\\": {\\\"value\\\": \\\"Num. Unique:\\\"}, \\\"align\\\": {\\\"value\\\": \\\"left\\\"}, \\\"baseline\\\": {\\\"value\\\": \\\"middle\\\"}, \\\"dx\\\": {\\\"value\\\": 0, \\\"offset\\\": 0}, \\\"dy\\\": {\\\"value\\\": 0, \\\"offset\\\": 0}, \\\"angle\\\": {\\\"value\\\": 0}, \\\"font\\\": {\\\"value\\\": \\\"AvenirNext-Medium\\\"}, \\\"fontSize\\\": {\\\"value\\\": 12}, \\\"fontWeight\\\": {\\\"value\\\": \\\"normal\\\"}, \\\"fontStyle\\\": {\\\"value\\\": \\\"normal\\\"}, \\\"fill\\\": {\\\"value\\\": \\\"#4A4A4A\\\"}}, \\\"update\\\": {\\\"x\\\": {\\\"signal\\\": \\\"datum[\\\\\\\"c_x_axis_back\\\\\\\"]+467\\\"}, \\\"y\\\": {\\\"field\\\": \\\"c_num_unique\\\"}}}, \\\"type\\\": \\\"text\\\"}, {\\\"from\\\": {\\\"data\\\": \\\"data_2\\\"}, \\\"encode\\\": {\\\"enter\\\": {\\\"x\\\": {\\\"value\\\": 500}, \\\"y\\\": {\\\"value\\\": 154}, \\\"text\\\": {\\\"value\\\": \\\"Missing:\\\"}, \\\"align\\\": {\\\"value\\\": \\\"left\\\"}, \\\"baseline\\\": {\\\"value\\\": \\\"middle\\\"}, \\\"dx\\\": {\\\"value\\\": 0, \\\"offset\\\": 0}, \\\"dy\\\": {\\\"value\\\": 0, \\\"offset\\\": 0}, \\\"angle\\\": {\\\"value\\\": 0}, \\\"font\\\": {\\\"value\\\": \\\"AvenirNext-Medium\\\"}, \\\"fontSize\\\": {\\\"value\\\": 12}, \\\"fontWeight\\\": {\\\"value\\\": \\\"normal\\\"}, \\\"fontStyle\\\": {\\\"value\\\": \\\"normal\\\"}, \\\"fill\\\": {\\\"value\\\": \\\"#4A4A4A\\\"}}, \\\"update\\\": {\\\"x\\\": {\\\"signal\\\": \\\"datum[\\\\\\\"c_x_axis_back\\\\\\\"]+467\\\"}, \\\"y\\\": {\\\"field\\\": \\\"c_missing\\\"}}}, \\\"type\\\": \\\"text\\\"}, {\\\"from\\\": {\\\"data\\\": \\\"data_2\\\"}, \\\"encode\\\": {\\\"enter\\\": {\\\"x\\\": {\\\"value\\\": 700}, \\\"y\\\": {\\\"value\\\": 105}, \\\"text\\\": {\\\"signal\\\": \\\"toString(format(datum[\\\\\\\"num_row\\\\\\\"], \\\\\\\",\\\\\\\"))\\\"}, \\\"align\\\": {\\\"value\\\": \\\"right\\\"}, \\\"baseline\\\": {\\\"value\\\": \\\"middle\\\"}, \\\"dx\\\": {\\\"value\\\": 0, \\\"offset\\\": 0}, \\\"dy\\\": {\\\"value\\\": 0, \\\"offset\\\": 0}, \\\"angle\\\": {\\\"value\\\": 0}, \\\"font\\\": {\\\"value\\\": \\\"AvenirNext-Medium\\\"}, \\\"fontSize\\\": {\\\"value\\\": 12}, \\\"fontWeight\\\": {\\\"value\\\": \\\"normal\\\"}, \\\"fontStyle\\\": {\\\"value\\\": \\\"normal\\\"}, \\\"fill\\\": {\\\"value\\\": \\\"#5A5A5A\\\"}}, \\\"update\\\": {\\\"x\\\": {\\\"signal\\\": \\\"datum[\\\\\\\"c_x_axis_back\\\\\\\"]+667\\\"}, \\\"y\\\": {\\\"field\\\": \\\"c_num_rows_val\\\"}}}, \\\"type\\\": \\\"text\\\"}, {\\\"from\\\": {\\\"data\\\": \\\"data_2\\\"}, \\\"encode\\\": {\\\"enter\\\": {\\\"x\\\": {\\\"value\\\": 700}, \\\"y\\\": {\\\"value\\\": 130}, \\\"text\\\": {\\\"signal\\\": \\\"toString(format(datum[\\\\\\\"num_unique\\\\\\\"], \\\\\\\",\\\\\\\"))\\\"}, \\\"align\\\": {\\\"value\\\": \\\"right\\\"}, \\\"baseline\\\": {\\\"value\\\": \\\"middle\\\"}, \\\"dx\\\": {\\\"value\\\": 0, \\\"offset\\\": 0}, \\\"dy\\\": {\\\"value\\\": 0, \\\"offset\\\": 0}, \\\"angle\\\": {\\\"value\\\": 0}, \\\"font\\\": {\\\"value\\\": \\\"AvenirNext-Medium\\\"}, \\\"fontSize\\\": {\\\"value\\\": 12}, \\\"fontWeight\\\": {\\\"value\\\": \\\"normal\\\"}, \\\"fontStyle\\\": {\\\"value\\\": \\\"normal\\\"}, \\\"fill\\\": {\\\"value\\\": \\\"#5A5A5A\\\"}}, \\\"update\\\": {\\\"x\\\": {\\\"signal\\\": \\\"datum[\\\\\\\"c_x_axis_back\\\\\\\"]+667\\\"}, \\\"y\\\": {\\\"field\\\": \\\"c_num_unique_val\\\"}}}, \\\"type\\\": \\\"text\\\"}, {\\\"from\\\": {\\\"data\\\": \\\"data_2\\\"}, \\\"encode\\\": {\\\"enter\\\": {\\\"x\\\": {\\\"value\\\": 700}, \\\"y\\\": {\\\"value\\\": 154}, \\\"text\\\": {\\\"signal\\\": \\\"toString(format(datum[\\\\\\\"num_missing\\\\\\\"], \\\\\\\",\\\\\\\"))\\\"}, \\\"align\\\": {\\\"value\\\": \\\"right\\\"}, \\\"baseline\\\": {\\\"value\\\": \\\"middle\\\"}, \\\"dx\\\": {\\\"value\\\": 0, \\\"offset\\\": 0}, \\\"dy\\\": {\\\"value\\\": 0, \\\"offset\\\": 0}, \\\"angle\\\": {\\\"value\\\": 0}, \\\"font\\\": {\\\"value\\\": \\\"AvenirNext-Medium\\\"}, \\\"fontSize\\\": {\\\"value\\\": 12}, \\\"fontWeight\\\": {\\\"value\\\": \\\"normal\\\"}, \\\"fontStyle\\\": {\\\"value\\\": \\\"normal\\\"}, \\\"fill\\\": {\\\"value\\\": \\\"#5A5A5A\\\"}}, \\\"update\\\": {\\\"x\\\": {\\\"signal\\\": \\\"datum[\\\\\\\"c_x_axis_back\\\\\\\"]+667\\\"}, \\\"y\\\": {\\\"field\\\": \\\"c_missing_val\\\"}}}, \\\"type\\\": \\\"text\\\"}, {\\\"from\\\": {\\\"data\\\": \\\"data_2\\\"}, \\\"encode\\\": {\\\"enter\\\": {\\\"x\\\": {\\\"value\\\": 500}, \\\"y\\\": {\\\"value\\\": 200}, \\\"text\\\": {\\\"signal\\\": \\\"(toString(datum[\\\\\\\"type\\\\\\\"]) == \\\\\\\"str\\\\\\\")? \\\\\\\"Frequent Items\\\\\\\":\\\\\\\"\\\\\\\"\\\"}, \\\"align\\\": {\\\"value\\\": \\\"left\\\"}, \\\"baseline\\\": {\\\"value\\\": \\\"middle\\\"}, \\\"dx\\\": {\\\"value\\\": 0, \\\"offset\\\": 0}, \\\"dy\\\": {\\\"value\\\": 0, \\\"offset\\\": 0}, \\\"angle\\\": {\\\"value\\\": 0}, \\\"clip\\\": {\\\"value\\\": true}, \\\"font\\\": {\\\"value\\\": \\\"AvenirNext-Medium\\\"}, \\\"fontSize\\\": {\\\"value\\\": 11}, \\\"fontWeight\\\": {\\\"value\\\": \\\"bold\\\"}, \\\"fontStyle\\\": {\\\"value\\\": \\\"normal\\\"}, \\\"fill\\\": {\\\"value\\\": \\\"#4A4A4A\\\"}}, \\\"update\\\": {\\\"x\\\": {\\\"signal\\\": \\\"datum[\\\\\\\"c_x_axis_back\\\\\\\"]+467\\\"}, \\\"y\\\": {\\\"field\\\": \\\"c_frequent_items\\\"}}}, \\\"type\\\": \\\"text\\\"}, {\\\"from\\\": {\\\"data\\\": \\\"data_2\\\"}, \\\"encode\\\": {\\\"enter\\\": {\\\"x\\\": {\\\"value\\\": 520}, \\\"y\\\": {\\\"value\\\": 200}, \\\"text\\\": {\\\"signal\\\": \\\"((datum[\\\\\\\"categorical\\\\\\\"].length >= 1) &amp;&amp; (toString(datum[\\\\\\\"type\\\\\\\"]) == \\\\\\\"str\\\\\\\"))? toString(datum[\\\\\\\"categorical\\\\\\\"][0][\\\\\\\"label\\\\\\\"]):\\\\\\\"\\\\\\\"\\\"}, \\\"align\\\": {\\\"value\\\": \\\"left\\\"}, \\\"baseline\\\": {\\\"value\\\": \\\"middle\\\"}, \\\"dx\\\": {\\\"value\\\": 0, \\\"offset\\\": 0}, \\\"dy\\\": {\\\"value\\\": 0, \\\"offset\\\": 0}, \\\"angle\\\": {\\\"value\\\": 0}, \\\"clip\\\": {\\\"value\\\": true}, \\\"font\\\": {\\\"value\\\": \\\"AvenirNext-Medium\\\"}, \\\"fontSize\\\": {\\\"value\\\": 11}, \\\"fontWeight\\\": {\\\"value\\\": \\\"normal\\\"}, \\\"fontStyle\\\": {\\\"value\\\": \\\"normal\\\"}, \\\"fill\\\": {\\\"value\\\": \\\"#4A4A4A\\\"}}, \\\"update\\\": {\\\"x\\\": {\\\"signal\\\": \\\"datum[\\\\\\\"c_x_axis_back\\\\\\\"]+487\\\"}, \\\"y\\\": {\\\"field\\\": \\\"c_first_item\\\"}}}, \\\"type\\\": \\\"text\\\"}, {\\\"from\\\": {\\\"data\\\": \\\"data_2\\\"}, \\\"encode\\\": {\\\"enter\\\": {\\\"x\\\": {\\\"value\\\": 520}, \\\"y\\\": {\\\"value\\\": 200}, \\\"text\\\": {\\\"signal\\\": \\\"((datum[\\\\\\\"categorical\\\\\\\"].length >= 2) &amp;&amp; (toString(datum[\\\\\\\"type\\\\\\\"]) == \\\\\\\"str\\\\\\\"))? toString(datum[\\\\\\\"categorical\\\\\\\"][1][\\\\\\\"label\\\\\\\"]):\\\\\\\"\\\\\\\"\\\"}, \\\"align\\\": {\\\"value\\\": \\\"left\\\"}, \\\"baseline\\\": {\\\"value\\\": \\\"middle\\\"}, \\\"dx\\\": {\\\"value\\\": 0, \\\"offset\\\": 0}, \\\"dy\\\": {\\\"value\\\": 0, \\\"offset\\\": 0}, \\\"angle\\\": {\\\"value\\\": 0}, \\\"clip\\\": {\\\"value\\\": true}, \\\"font\\\": {\\\"value\\\": \\\"AvenirNext-Medium\\\"}, \\\"fontSize\\\": {\\\"value\\\": 11}, \\\"fontWeight\\\": {\\\"value\\\": \\\"normal\\\"}, \\\"fontStyle\\\": {\\\"value\\\": \\\"normal\\\"}, \\\"fill\\\": {\\\"value\\\": \\\"#4A4A4A\\\"}}, \\\"update\\\": {\\\"x\\\": {\\\"signal\\\": \\\"datum[\\\\\\\"c_x_axis_back\\\\\\\"]+487\\\"}, \\\"y\\\": {\\\"field\\\": \\\"c_second_item\\\"}}}, \\\"type\\\": \\\"text\\\"}, {\\\"from\\\": {\\\"data\\\": \\\"data_2\\\"}, \\\"encode\\\": {\\\"enter\\\": {\\\"x\\\": {\\\"value\\\": 520}, \\\"y\\\": {\\\"value\\\": 200}, \\\"text\\\": {\\\"signal\\\": \\\"((datum[\\\\\\\"categorical\\\\\\\"].length >= 3) &amp;&amp; (toString(datum[\\\\\\\"type\\\\\\\"]) == \\\\\\\"str\\\\\\\"))? toString(datum[\\\\\\\"categorical\\\\\\\"][2][\\\\\\\"label\\\\\\\"]):\\\\\\\"\\\\\\\"\\\"}, \\\"align\\\": {\\\"value\\\": \\\"left\\\"}, \\\"baseline\\\": {\\\"value\\\": \\\"middle\\\"}, \\\"dx\\\": {\\\"value\\\": 0, \\\"offset\\\": 0}, \\\"dy\\\": {\\\"value\\\": 0, \\\"offset\\\": 0}, \\\"angle\\\": {\\\"value\\\": 0}, \\\"clip\\\": {\\\"value\\\": true}, \\\"font\\\": {\\\"value\\\": \\\"AvenirNext-Medium\\\"}, \\\"fontSize\\\": {\\\"value\\\": 11}, \\\"fontWeight\\\": {\\\"value\\\": \\\"normal\\\"}, \\\"fontStyle\\\": {\\\"value\\\": \\\"normal\\\"}, \\\"fill\\\": {\\\"value\\\": \\\"#4A4A4A\\\"}}, \\\"update\\\": {\\\"x\\\": {\\\"signal\\\": \\\"datum[\\\\\\\"c_x_axis_back\\\\\\\"]+487\\\"}, \\\"y\\\": {\\\"field\\\": \\\"c_third_item\\\"}}}, \\\"type\\\": \\\"text\\\"}, {\\\"from\\\": {\\\"data\\\": \\\"data_2\\\"}, \\\"encode\\\": {\\\"enter\\\": {\\\"x\\\": {\\\"value\\\": 520}, \\\"y\\\": {\\\"value\\\": 200}, \\\"text\\\": {\\\"signal\\\": \\\"((datum[\\\\\\\"categorical\\\\\\\"].length >= 4) &amp;&amp; (toString(datum[\\\\\\\"type\\\\\\\"]) == \\\\\\\"str\\\\\\\"))? toString(datum[\\\\\\\"categorical\\\\\\\"][3][\\\\\\\"label\\\\\\\"]):\\\\\\\"\\\\\\\"\\\"}, \\\"align\\\": {\\\"value\\\": \\\"left\\\"}, \\\"baseline\\\": {\\\"value\\\": \\\"middle\\\"}, \\\"dx\\\": {\\\"value\\\": 0, \\\"offset\\\": 0}, \\\"dy\\\": {\\\"value\\\": 0, \\\"offset\\\": 0}, \\\"angle\\\": {\\\"value\\\": 0}, \\\"clip\\\": {\\\"value\\\": true}, \\\"font\\\": {\\\"value\\\": \\\"AvenirNext-Medium\\\"}, \\\"fontSize\\\": {\\\"value\\\": 11}, \\\"fontWeight\\\": {\\\"value\\\": \\\"normal\\\"}, \\\"fontStyle\\\": {\\\"value\\\": \\\"normal\\\"}, \\\"fill\\\": {\\\"value\\\": \\\"#4A4A4A\\\"}}, \\\"update\\\": {\\\"x\\\": {\\\"signal\\\": \\\"datum[\\\\\\\"c_x_axis_back\\\\\\\"]+487\\\"}, \\\"y\\\": {\\\"field\\\": \\\"c_fourth_item\\\"}}}, \\\"type\\\": \\\"text\\\"}, {\\\"from\\\": {\\\"data\\\": \\\"data_2\\\"}, \\\"encode\\\": {\\\"enter\\\": {\\\"x\\\": {\\\"value\\\": 520}, \\\"y\\\": {\\\"value\\\": 200}, \\\"text\\\": {\\\"signal\\\": \\\"((datum[\\\\\\\"categorical\\\\\\\"].length >= 5) &amp;&amp; (toString(datum[\\\\\\\"type\\\\\\\"]) == \\\\\\\"str\\\\\\\"))? toString(datum[\\\\\\\"categorical\\\\\\\"][4][\\\\\\\"label\\\\\\\"]):\\\\\\\"\\\\\\\"\\\"}, \\\"align\\\": {\\\"value\\\": \\\"left\\\"}, \\\"baseline\\\": {\\\"value\\\": \\\"middle\\\"}, \\\"dx\\\": {\\\"value\\\": 0, \\\"offset\\\": 0}, \\\"dy\\\": {\\\"value\\\": 0, \\\"offset\\\": 0}, \\\"angle\\\": {\\\"value\\\": 0}, \\\"clip\\\": {\\\"value\\\": true}, \\\"font\\\": {\\\"value\\\": \\\"AvenirNext-Medium\\\"}, \\\"fontSize\\\": {\\\"value\\\": 11}, \\\"fontWeight\\\": {\\\"value\\\": \\\"normal\\\"}, \\\"fontStyle\\\": {\\\"value\\\": \\\"normal\\\"}, \\\"fill\\\": {\\\"value\\\": \\\"#4A4A4A\\\"}}, \\\"update\\\": {\\\"x\\\": {\\\"signal\\\": \\\"datum[\\\\\\\"c_x_axis_back\\\\\\\"]+487\\\"}, \\\"y\\\": {\\\"field\\\": \\\"c_fifth_item\\\"}}}, \\\"type\\\": \\\"text\\\"}, {\\\"from\\\": {\\\"data\\\": \\\"data_2\\\"}, \\\"encode\\\": {\\\"enter\\\": {\\\"x\\\": {\\\"value\\\": 700}, \\\"y\\\": {\\\"value\\\": 200}, \\\"text\\\": {\\\"signal\\\": \\\"((datum[\\\\\\\"categorical\\\\\\\"].length >= 1) &amp;&amp; (toString(datum[\\\\\\\"type\\\\\\\"]) == \\\\\\\"str\\\\\\\"))? toString(datum[\\\\\\\"categorical\\\\\\\"][0][\\\\\\\"count\\\\\\\"]):\\\\\\\"\\\\\\\"\\\"}, \\\"align\\\": {\\\"value\\\": \\\"right\\\"}, \\\"baseline\\\": {\\\"value\\\": \\\"middle\\\"}, \\\"dx\\\": {\\\"value\\\": 0, \\\"offset\\\": 0}, \\\"dy\\\": {\\\"value\\\": 0, \\\"offset\\\": 0}, \\\"angle\\\": {\\\"value\\\": 0}, \\\"clip\\\": {\\\"value\\\": true}, \\\"font\\\": {\\\"value\\\": \\\"AvenirNext-Medium\\\"}, \\\"fontSize\\\": {\\\"value\\\": 11}, \\\"fontWeight\\\": {\\\"value\\\": \\\"normal\\\"}, \\\"fontStyle\\\": {\\\"value\\\": \\\"normal\\\"}, \\\"fill\\\": {\\\"value\\\": \\\"#7A7A7A\\\"}}, \\\"update\\\": {\\\"x\\\": {\\\"signal\\\": \\\"datum[\\\\\\\"c_x_axis_back\\\\\\\"]+667\\\"}, \\\"y\\\": {\\\"field\\\": \\\"c_first_item\\\"}}}, \\\"type\\\": \\\"text\\\"}, {\\\"from\\\": {\\\"data\\\": \\\"data_2\\\"}, \\\"encode\\\": {\\\"enter\\\": {\\\"x\\\": {\\\"value\\\": 700}, \\\"y\\\": {\\\"value\\\": 200}, \\\"text\\\": {\\\"signal\\\": \\\"((datum[\\\\\\\"categorical\\\\\\\"].length >= 2) &amp;&amp; (toString(datum[\\\\\\\"type\\\\\\\"]) == \\\\\\\"str\\\\\\\"))? toString(datum[\\\\\\\"categorical\\\\\\\"][1][\\\\\\\"count\\\\\\\"]):\\\\\\\"\\\\\\\"\\\"}, \\\"align\\\": {\\\"value\\\": \\\"right\\\"}, \\\"baseline\\\": {\\\"value\\\": \\\"middle\\\"}, \\\"dx\\\": {\\\"value\\\": 0, \\\"offset\\\": 0}, \\\"dy\\\": {\\\"value\\\": 0, \\\"offset\\\": 0}, \\\"angle\\\": {\\\"value\\\": 0}, \\\"clip\\\": {\\\"value\\\": true}, \\\"font\\\": {\\\"value\\\": \\\"AvenirNext-Medium\\\"}, \\\"fontSize\\\": {\\\"value\\\": 10}, \\\"fontWeight\\\": {\\\"value\\\": \\\"normal\\\"}, \\\"fontStyle\\\": {\\\"value\\\": \\\"normal\\\"}, \\\"fill\\\": {\\\"value\\\": \\\"#7A7A7A\\\"}}, \\\"update\\\": {\\\"x\\\": {\\\"signal\\\": \\\"datum[\\\\\\\"c_x_axis_back\\\\\\\"]+667\\\"}, \\\"y\\\": {\\\"field\\\": \\\"c_second_item\\\"}}}, \\\"type\\\": \\\"text\\\"}, {\\\"from\\\": {\\\"data\\\": \\\"data_2\\\"}, \\\"encode\\\": {\\\"enter\\\": {\\\"x\\\": {\\\"value\\\": 700}, \\\"y\\\": {\\\"value\\\": 200}, \\\"text\\\": {\\\"signal\\\": \\\"((datum[\\\\\\\"categorical\\\\\\\"].length >= 3) &amp;&amp; (toString(datum[\\\\\\\"type\\\\\\\"]) == \\\\\\\"str\\\\\\\"))? toString(datum[\\\\\\\"categorical\\\\\\\"][2][\\\\\\\"count\\\\\\\"]):\\\\\\\"\\\\\\\"\\\"}, \\\"align\\\": {\\\"value\\\": \\\"right\\\"}, \\\"baseline\\\": {\\\"value\\\": \\\"middle\\\"}, \\\"dx\\\": {\\\"value\\\": 0, \\\"offset\\\": 0}, \\\"dy\\\": {\\\"value\\\": 0, \\\"offset\\\": 0}, \\\"angle\\\": {\\\"value\\\": 0}, \\\"clip\\\": {\\\"value\\\": true}, \\\"font\\\": {\\\"value\\\": \\\"AvenirNext-Medium\\\"}, \\\"fontSize\\\": {\\\"value\\\": 10}, \\\"fontWeight\\\": {\\\"value\\\": \\\"normal\\\"}, \\\"fontStyle\\\": {\\\"value\\\": \\\"normal\\\"}, \\\"fill\\\": {\\\"value\\\": \\\"#7A7A7A\\\"}}, \\\"update\\\": {\\\"x\\\": {\\\"signal\\\": \\\"datum[\\\\\\\"c_x_axis_back\\\\\\\"]+667\\\"}, \\\"y\\\": {\\\"field\\\": \\\"c_third_item\\\"}}}, \\\"type\\\": \\\"text\\\"}, {\\\"from\\\": {\\\"data\\\": \\\"data_2\\\"}, \\\"encode\\\": {\\\"enter\\\": {\\\"x\\\": {\\\"value\\\": 700}, \\\"y\\\": {\\\"value\\\": 200}, \\\"text\\\": {\\\"signal\\\": \\\"((datum[\\\\\\\"categorical\\\\\\\"].length >= 4) &amp;&amp; (toString(datum[\\\\\\\"type\\\\\\\"]) == \\\\\\\"str\\\\\\\"))? toString(datum[\\\\\\\"categorical\\\\\\\"][3][\\\\\\\"count\\\\\\\"]):\\\\\\\"\\\\\\\"\\\"}, \\\"align\\\": {\\\"value\\\": \\\"right\\\"}, \\\"baseline\\\": {\\\"value\\\": \\\"middle\\\"}, \\\"dx\\\": {\\\"value\\\": 0, \\\"offset\\\": 0}, \\\"dy\\\": {\\\"value\\\": 0, \\\"offset\\\": 0}, \\\"angle\\\": {\\\"value\\\": 0}, \\\"clip\\\": {\\\"value\\\": true}, \\\"font\\\": {\\\"value\\\": \\\"AvenirNext-Medium\\\"}, \\\"fontSize\\\": {\\\"value\\\": 10}, \\\"fontWeight\\\": {\\\"value\\\": \\\"normal\\\"}, \\\"fontStyle\\\": {\\\"value\\\": \\\"normal\\\"}, \\\"fill\\\": {\\\"value\\\": \\\"#7A7A7A\\\"}}, \\\"update\\\": {\\\"x\\\": {\\\"signal\\\": \\\"datum[\\\\\\\"c_x_axis_back\\\\\\\"]+667\\\"}, \\\"y\\\": {\\\"field\\\": \\\"c_fourth_item\\\"}}}, \\\"type\\\": \\\"text\\\"}, {\\\"from\\\": {\\\"data\\\": \\\"data_2\\\"}, \\\"encode\\\": {\\\"enter\\\": {\\\"x\\\": {\\\"value\\\": 700}, \\\"y\\\": {\\\"value\\\": 200}, \\\"text\\\": {\\\"signal\\\": \\\"((datum[\\\\\\\"categorical\\\\\\\"].length >= 5) &amp;&amp; (toString(datum[\\\\\\\"type\\\\\\\"]) == \\\\\\\"str\\\\\\\"))? toString(datum[\\\\\\\"categorical\\\\\\\"][4][\\\\\\\"count\\\\\\\"]):\\\\\\\"\\\\\\\"\\\"}, \\\"align\\\": {\\\"value\\\": \\\"right\\\"}, \\\"baseline\\\": {\\\"value\\\": \\\"middle\\\"}, \\\"dx\\\": {\\\"value\\\": 0, \\\"offset\\\": 0}, \\\"dy\\\": {\\\"value\\\": 0, \\\"offset\\\": 0}, \\\"angle\\\": {\\\"value\\\": 0}, \\\"clip\\\": {\\\"value\\\": true}, \\\"font\\\": {\\\"value\\\": \\\"AvenirNext-Medium\\\"}, \\\"fontSize\\\": {\\\"value\\\": 10}, \\\"fontWeight\\\": {\\\"value\\\": \\\"normal\\\"}, \\\"fontStyle\\\": {\\\"value\\\": \\\"normal\\\"}, \\\"fill\\\": {\\\"value\\\": \\\"#7A7A7A\\\"}}, \\\"update\\\": {\\\"x\\\": {\\\"signal\\\": \\\"datum[\\\\\\\"c_x_axis_back\\\\\\\"]+667\\\"}, \\\"y\\\": {\\\"field\\\": \\\"c_fifth_item\\\"}}}, \\\"type\\\": \\\"text\\\"}, {\\\"from\\\": {\\\"data\\\": \\\"data_2\\\"}, \\\"encode\\\": {\\\"enter\\\": {\\\"x\\\": {\\\"value\\\": 500}, \\\"y\\\": {\\\"value\\\": 200}, \\\"text\\\": {\\\"signal\\\": \\\"(toString(datum[\\\\\\\"type\\\\\\\"]) == \\\\\\\"integer\\\\\\\" || toString(datum[\\\\\\\"type\\\\\\\"]) == \\\\\\\"float\\\\\\\")? \\\\\\\"Mean:\\\\\\\":\\\\\\\"\\\\\\\"\\\"}, \\\"align\\\": {\\\"value\\\": \\\"left\\\"}, \\\"baseline\\\": {\\\"value\\\": \\\"middle\\\"}, \\\"dx\\\": {\\\"value\\\": 0, \\\"offset\\\": 0}, \\\"dy\\\": {\\\"value\\\": 0, \\\"offset\\\": 0}, \\\"angle\\\": {\\\"value\\\": 0}, \\\"clip\\\": {\\\"value\\\": true}, \\\"font\\\": {\\\"value\\\": \\\"AvenirNext-Medium\\\"}, \\\"fontSize\\\": {\\\"value\\\": 11}, \\\"fontWeight\\\": {\\\"value\\\": \\\"bold\\\"}, \\\"fontStyle\\\": {\\\"value\\\": \\\"normal\\\"}, \\\"fill\\\": {\\\"value\\\": \\\"#4A4A4A\\\"}}, \\\"update\\\": {\\\"x\\\": {\\\"signal\\\": \\\"datum[\\\\\\\"c_x_axis_back\\\\\\\"]+467\\\"}, \\\"y\\\": {\\\"field\\\": \\\"c_mean\\\"}}}, \\\"type\\\": \\\"text\\\"}, {\\\"from\\\": {\\\"data\\\": \\\"data_2\\\"}, \\\"encode\\\": {\\\"enter\\\": {\\\"x\\\": {\\\"value\\\": 500}, \\\"y\\\": {\\\"value\\\": 220}, \\\"text\\\": {\\\"signal\\\": \\\"(toString(datum[\\\\\\\"type\\\\\\\"]) == \\\\\\\"integer\\\\\\\" || toString(datum[\\\\\\\"type\\\\\\\"]) == \\\\\\\"float\\\\\\\")? \\\\\\\"Min:\\\\\\\":\\\\\\\"\\\\\\\"\\\"}, \\\"align\\\": {\\\"value\\\": \\\"left\\\"}, \\\"baseline\\\": {\\\"value\\\": \\\"middle\\\"}, \\\"dx\\\": {\\\"value\\\": 0, \\\"offset\\\": 0}, \\\"dy\\\": {\\\"value\\\": 0, \\\"offset\\\": 0}, \\\"angle\\\": {\\\"value\\\": 0}, \\\"font\\\": {\\\"value\\\": \\\"AvenirNext-Medium\\\"}, \\\"fontSize\\\": {\\\"value\\\": 11}, \\\"fontWeight\\\": {\\\"value\\\": \\\"bold\\\"}, \\\"fontStyle\\\": {\\\"value\\\": \\\"normal\\\"}, \\\"fill\\\": {\\\"value\\\": \\\"#4A4A4A\\\"}}, \\\"update\\\": {\\\"x\\\": {\\\"signal\\\": \\\"datum[\\\\\\\"c_x_axis_back\\\\\\\"]+467\\\"}, \\\"y\\\": {\\\"field\\\": \\\"c_min\\\"}}}, \\\"type\\\": \\\"text\\\"}, {\\\"from\\\": {\\\"data\\\": \\\"data_2\\\"}, \\\"encode\\\": {\\\"enter\\\": {\\\"x\\\": {\\\"value\\\": 500}, \\\"y\\\": {\\\"value\\\": 240}, \\\"text\\\": {\\\"signal\\\": \\\"(toString(datum[\\\\\\\"type\\\\\\\"]) == \\\\\\\"integer\\\\\\\" || toString(datum[\\\\\\\"type\\\\\\\"]) == \\\\\\\"float\\\\\\\")? \\\\\\\"Max:\\\\\\\":\\\\\\\"\\\\\\\"\\\"}, \\\"align\\\": {\\\"value\\\": \\\"left\\\"}, \\\"baseline\\\": {\\\"value\\\": \\\"middle\\\"}, \\\"dx\\\": {\\\"value\\\": 0, \\\"offset\\\": 0}, \\\"dy\\\": {\\\"value\\\": 0, \\\"offset\\\": 0}, \\\"angle\\\": {\\\"value\\\": 0}, \\\"font\\\": {\\\"value\\\": \\\"AvenirNext-Medium\\\"}, \\\"fontSize\\\": {\\\"value\\\": 11}, \\\"fontWeight\\\": {\\\"value\\\": \\\"bold\\\"}, \\\"fontStyle\\\": {\\\"value\\\": \\\"normal\\\"}, \\\"fill\\\": {\\\"value\\\": \\\"#4A4A4A\\\"}}, \\\"update\\\": {\\\"x\\\": {\\\"signal\\\": \\\"datum[\\\\\\\"c_x_axis_back\\\\\\\"]+467\\\"}, \\\"y\\\": {\\\"field\\\": \\\"c_max\\\"}}}, \\\"type\\\": \\\"text\\\"}, {\\\"from\\\": {\\\"data\\\": \\\"data_2\\\"}, \\\"encode\\\": {\\\"enter\\\": {\\\"x\\\": {\\\"value\\\": 500}, \\\"y\\\": {\\\"value\\\": 260}, \\\"text\\\": {\\\"signal\\\": \\\"(toString(datum[\\\\\\\"type\\\\\\\"]) == \\\\\\\"integer\\\\\\\" || toString(datum[\\\\\\\"type\\\\\\\"]) == \\\\\\\"float\\\\\\\")? \\\\\\\"Median:\\\\\\\":\\\\\\\"\\\\\\\"\\\"}, \\\"align\\\": {\\\"value\\\": \\\"left\\\"}, \\\"baseline\\\": {\\\"value\\\": \\\"middle\\\"}, \\\"dx\\\": {\\\"value\\\": 0, \\\"offset\\\": 0}, \\\"dy\\\": {\\\"value\\\": 0, \\\"offset\\\": 0}, \\\"angle\\\": {\\\"value\\\": 0}, \\\"font\\\": {\\\"value\\\": \\\"AvenirNext-Medium\\\"}, \\\"fontSize\\\": {\\\"value\\\": 11}, \\\"fontWeight\\\": {\\\"value\\\": \\\"bold\\\"}, \\\"fontStyle\\\": {\\\"value\\\": \\\"normal\\\"}, \\\"fill\\\": {\\\"value\\\": \\\"#4A4A4A\\\"}}, \\\"update\\\": {\\\"x\\\": {\\\"signal\\\": \\\"datum[\\\\\\\"c_x_axis_back\\\\\\\"]+467\\\"}, \\\"y\\\": {\\\"field\\\": \\\"c_median\\\"}}}, \\\"type\\\": \\\"text\\\"}, {\\\"from\\\": {\\\"data\\\": \\\"data_2\\\"}, \\\"encode\\\": {\\\"enter\\\": {\\\"x\\\": {\\\"value\\\": 500}, \\\"y\\\": {\\\"value\\\": 280}, \\\"text\\\": {\\\"signal\\\": \\\"(toString(datum[\\\\\\\"type\\\\\\\"]) == \\\\\\\"integer\\\\\\\" || toString(datum[\\\\\\\"type\\\\\\\"]) == \\\\\\\"float\\\\\\\")? \\\\\\\"St. Dev:\\\\\\\":\\\\\\\"\\\\\\\"\\\"}, \\\"align\\\": {\\\"value\\\": \\\"left\\\"}, \\\"baseline\\\": {\\\"value\\\": \\\"middle\\\"}, \\\"dx\\\": {\\\"value\\\": 0, \\\"offset\\\": 0}, \\\"dy\\\": {\\\"value\\\": 0, \\\"offset\\\": 0}, \\\"angle\\\": {\\\"value\\\": 0}, \\\"font\\\": {\\\"value\\\": \\\"AvenirNext-Medium\\\"}, \\\"fontSize\\\": {\\\"value\\\": 11}, \\\"fontWeight\\\": {\\\"value\\\": \\\"bold\\\"}, \\\"fontStyle\\\": {\\\"value\\\": \\\"normal\\\"}, \\\"fill\\\": {\\\"value\\\": \\\"#4A4A4A\\\"}}, \\\"update\\\": {\\\"x\\\": {\\\"signal\\\": \\\"datum[\\\\\\\"c_x_axis_back\\\\\\\"]+467\\\"}, \\\"y\\\": {\\\"field\\\": \\\"c_stdev\\\"}}}, \\\"type\\\": \\\"text\\\"}, {\\\"from\\\": {\\\"data\\\": \\\"data_2\\\"}, \\\"encode\\\": {\\\"enter\\\": {\\\"x\\\": {\\\"value\\\": 700}, \\\"y\\\": {\\\"value\\\": 198}, \\\"text\\\": {\\\"signal\\\": \\\"(toString(datum[\\\\\\\"type\\\\\\\"]) == \\\\\\\"integer\\\\\\\" || toString(datum[\\\\\\\"type\\\\\\\"]) == \\\\\\\"float\\\\\\\")?toString(format(datum[\\\\\\\"mean\\\\\\\"], \\\\\\\",\\\\\\\")):\\\\\\\"\\\\\\\"\\\"}, \\\"align\\\": {\\\"value\\\": \\\"right\\\"}, \\\"baseline\\\": {\\\"value\\\": \\\"middle\\\"}, \\\"dx\\\": {\\\"value\\\": 0, \\\"offset\\\": 0}, \\\"dy\\\": {\\\"value\\\": 0, \\\"offset\\\": 0}, \\\"angle\\\": {\\\"value\\\": 0}, \\\"font\\\": {\\\"value\\\": \\\"AvenirNext-Medium\\\"}, \\\"fontSize\\\": {\\\"value\\\": 10}, \\\"fontWeight\\\": {\\\"value\\\": \\\"normal\\\"}, \\\"fontStyle\\\": {\\\"value\\\": \\\"normal\\\"}, \\\"fill\\\": {\\\"value\\\": \\\"#6A6A6A\\\"}}, \\\"update\\\": {\\\"x\\\": {\\\"signal\\\": \\\"datum[\\\\\\\"c_x_axis_back\\\\\\\"]+667\\\"}, \\\"y\\\": {\\\"field\\\": \\\"c_mean_val\\\"}}}, \\\"type\\\": \\\"text\\\"}, {\\\"from\\\": {\\\"data\\\": \\\"data_2\\\"}, \\\"encode\\\": {\\\"enter\\\": {\\\"x\\\": {\\\"value\\\": 700}, \\\"y\\\": {\\\"value\\\": 218}, \\\"text\\\": {\\\"signal\\\": \\\"(toString(datum[\\\\\\\"type\\\\\\\"]) == \\\\\\\"integer\\\\\\\" || toString(datum[\\\\\\\"type\\\\\\\"]) == \\\\\\\"float\\\\\\\")?toString(format(datum[\\\\\\\"min\\\\\\\"], \\\\\\\",\\\\\\\")):\\\\\\\"\\\\\\\"\\\"}, \\\"align\\\": {\\\"value\\\": \\\"right\\\"}, \\\"baseline\\\": {\\\"value\\\": \\\"middle\\\"}, \\\"dx\\\": {\\\"value\\\": 0, \\\"offset\\\": 0}, \\\"dy\\\": {\\\"value\\\": 0, \\\"offset\\\": 0}, \\\"angle\\\": {\\\"value\\\": 0}, \\\"font\\\": {\\\"value\\\": \\\"AvenirNext-Medium\\\"}, \\\"fontSize\\\": {\\\"value\\\": 10}, \\\"fontWeight\\\": {\\\"value\\\": \\\"normal\\\"}, \\\"fontStyle\\\": {\\\"value\\\": \\\"normal\\\"}, \\\"fill\\\": {\\\"value\\\": \\\"#6A6A6A\\\"}}, \\\"update\\\": {\\\"x\\\": {\\\"signal\\\": \\\"datum[\\\\\\\"c_x_axis_back\\\\\\\"]+667\\\"}, \\\"y\\\": {\\\"field\\\": \\\"c_min_val\\\"}}}, \\\"type\\\": \\\"text\\\"}, {\\\"from\\\": {\\\"data\\\": \\\"data_2\\\"}, \\\"encode\\\": {\\\"enter\\\": {\\\"x\\\": {\\\"value\\\": 700}, \\\"y\\\": {\\\"value\\\": 238}, \\\"text\\\": {\\\"signal\\\": \\\"(toString(datum[\\\\\\\"type\\\\\\\"]) == \\\\\\\"integer\\\\\\\" || toString(datum[\\\\\\\"type\\\\\\\"]) == \\\\\\\"float\\\\\\\")?toString(format(datum[\\\\\\\"max\\\\\\\"], \\\\\\\",\\\\\\\")):\\\\\\\"\\\\\\\"\\\"}, \\\"align\\\": {\\\"value\\\": \\\"right\\\"}, \\\"baseline\\\": {\\\"value\\\": \\\"middle\\\"}, \\\"dx\\\": {\\\"value\\\": 0, \\\"offset\\\": 0}, \\\"dy\\\": {\\\"value\\\": 0, \\\"offset\\\": 0}, \\\"angle\\\": {\\\"value\\\": 0}, \\\"font\\\": {\\\"value\\\": \\\"AvenirNext-Medium\\\"}, \\\"fontSize\\\": {\\\"value\\\": 10}, \\\"fontWeight\\\": {\\\"value\\\": \\\"normal\\\"}, \\\"fontStyle\\\": {\\\"value\\\": \\\"normal\\\"}, \\\"fill\\\": {\\\"value\\\": \\\"#6A6A6A\\\"}}, \\\"update\\\": {\\\"x\\\": {\\\"signal\\\": \\\"datum[\\\\\\\"c_x_axis_back\\\\\\\"]+667\\\"}, \\\"y\\\": {\\\"field\\\": \\\"c_max_val\\\"}}}, \\\"type\\\": \\\"text\\\"}, {\\\"from\\\": {\\\"data\\\": \\\"data_2\\\"}, \\\"encode\\\": {\\\"enter\\\": {\\\"x\\\": {\\\"value\\\": 700}, \\\"y\\\": {\\\"value\\\": 258}, \\\"text\\\": {\\\"signal\\\": \\\"(toString(datum[\\\\\\\"type\\\\\\\"]) == \\\\\\\"integer\\\\\\\" || toString(datum[\\\\\\\"type\\\\\\\"]) == \\\\\\\"float\\\\\\\")?toString(format(datum[\\\\\\\"median\\\\\\\"], \\\\\\\",\\\\\\\")):\\\\\\\"\\\\\\\"\\\"}, \\\"align\\\": {\\\"value\\\": \\\"right\\\"}, \\\"baseline\\\": {\\\"value\\\": \\\"middle\\\"}, \\\"dx\\\": {\\\"value\\\": 0, \\\"offset\\\": 0}, \\\"dy\\\": {\\\"value\\\": 0, \\\"offset\\\": 0}, \\\"angle\\\": {\\\"value\\\": 0}, \\\"font\\\": {\\\"value\\\": \\\"AvenirNext-Medium\\\"}, \\\"fontSize\\\": {\\\"value\\\": 10}, \\\"fontWeight\\\": {\\\"value\\\": \\\"normal\\\"}, \\\"fontStyle\\\": {\\\"value\\\": \\\"normal\\\"}, \\\"fill\\\": {\\\"value\\\": \\\"#6A6A6A\\\"}}, \\\"update\\\": {\\\"x\\\": {\\\"signal\\\": \\\"datum[\\\\\\\"c_x_axis_back\\\\\\\"]+667\\\"}, \\\"y\\\": {\\\"field\\\": \\\"c_median_val\\\"}}}, \\\"type\\\": \\\"text\\\"}, {\\\"from\\\": {\\\"data\\\": \\\"data_2\\\"}, \\\"encode\\\": {\\\"enter\\\": {\\\"x\\\": {\\\"value\\\": 700}, \\\"y\\\": {\\\"value\\\": 278}, \\\"text\\\": {\\\"signal\\\": \\\"(toString(datum[\\\\\\\"type\\\\\\\"]) == \\\\\\\"integer\\\\\\\" || toString(datum[\\\\\\\"type\\\\\\\"]) == \\\\\\\"float\\\\\\\")?toString(format(datum[\\\\\\\"stdev\\\\\\\"], \\\\\\\",\\\\\\\")):\\\\\\\"\\\\\\\"\\\"}, \\\"align\\\": {\\\"value\\\": \\\"right\\\"}, \\\"baseline\\\": {\\\"value\\\": \\\"middle\\\"}, \\\"dx\\\": {\\\"value\\\": 0, \\\"offset\\\": 0}, \\\"dy\\\": {\\\"value\\\": 0, \\\"offset\\\": 0}, \\\"angle\\\": {\\\"value\\\": 0}, \\\"font\\\": {\\\"value\\\": \\\"AvenirNext-Medium\\\"}, \\\"fontSize\\\": {\\\"value\\\": 10}, \\\"fontWeight\\\": {\\\"value\\\": \\\"normal\\\"}, \\\"fontStyle\\\": {\\\"value\\\": \\\"normal\\\"}, \\\"fill\\\": {\\\"value\\\": \\\"#6A6A6A\\\"}}, \\\"update\\\": {\\\"x\\\": {\\\"signal\\\": \\\"datum[\\\\\\\"c_x_axis_back\\\\\\\"]+667\\\"}, \\\"y\\\": {\\\"field\\\": \\\"c_stdev_val\\\"}}}, \\\"type\\\": \\\"text\\\"}, {\\\"from\\\": {\\\"facet\\\": {\\\"name\\\": \\\"new_data\\\", \\\"data\\\": \\\"data_2\\\", \\\"field\\\": \\\"numeric\\\"}}, \\\"encode\\\": {\\\"enter\\\": {\\\"x\\\": {\\\"value\\\": 120}, \\\"width\\\": {\\\"value\\\": 250}, \\\"y\\\": {\\\"field\\\": \\\"graph_offset\\\"}, \\\"height\\\": {\\\"value\\\": 150}, \\\"fill\\\": {\\\"value\\\": \\\"#ffffff\\\"}, \\\"fillOpacity\\\": {\\\"value\\\": 0}, \\\"stroke\\\": {\\\"value\\\": \\\"#000000\\\"}, \\\"strokeWidth\\\": {\\\"value\\\": 0}}, \\\"update\\\": {\\\"x\\\": {\\\"signal\\\": \\\"datum[\\\\\\\"c_x_axis_back\\\\\\\"]+87\\\"}, \\\"clip\\\": {\\\"field\\\": \\\"c_clip_val\\\"}, \\\"width\\\": {\\\"field\\\": \\\"c_width_numeric_val\\\"}}}, \\\"type\\\": \\\"group\\\", \\\"scales\\\": [{\\\"name\\\": \\\"x\\\", \\\"type\\\": \\\"linear\\\", \\\"domain\\\": {\\\"data\\\": \\\"new_data\\\", \\\"fields\\\": [\\\"left\\\", \\\"right\\\"], \\\"sort\\\": true}, \\\"range\\\": [0, {\\\"signal\\\": \\\"width\\\"}], \\\"nice\\\": true, \\\"zero\\\": true}, {\\\"name\\\": \\\"y\\\", \\\"type\\\": \\\"linear\\\", \\\"domain\\\": {\\\"data\\\": \\\"new_data\\\", \\\"field\\\": \\\"count\\\"}, \\\"range\\\": [{\\\"signal\\\": \\\"height\\\"}, 0], \\\"nice\\\": true, \\\"zero\\\": true}], \\\"axes\\\": [{\\\"title\\\": \\\"Values\\\", \\\"scale\\\": \\\"x\\\", \\\"labelOverlap\\\": true, \\\"orient\\\": \\\"bottom\\\", \\\"tickCount\\\": {\\\"signal\\\": \\\"ceil(width/40)\\\"}, \\\"zindex\\\": 1}, {\\\"scale\\\": \\\"x\\\", \\\"domain\\\": false, \\\"grid\\\": true, \\\"labels\\\": false, \\\"maxExtent\\\": 0, \\\"minExtent\\\": 0, \\\"orient\\\": \\\"bottom\\\", \\\"tickCount\\\": {\\\"signal\\\": \\\"ceil(width/40)\\\"}, \\\"ticks\\\": false, \\\"zindex\\\": 0, \\\"gridScale\\\": \\\"y\\\"}, {\\\"title\\\": \\\"Count\\\", \\\"scale\\\": \\\"y\\\", \\\"labelOverlap\\\": true, \\\"orient\\\": \\\"left\\\", \\\"tickCount\\\": {\\\"signal\\\": \\\"ceil(height/40)\\\"}, \\\"zindex\\\": 1}, {\\\"scale\\\": \\\"y\\\", \\\"domain\\\": false, \\\"grid\\\": true, \\\"labels\\\": false, \\\"maxExtent\\\": 0, \\\"minExtent\\\": 0, \\\"orient\\\": \\\"left\\\", \\\"tickCount\\\": {\\\"signal\\\": \\\"ceil(height/40)\\\"}, \\\"ticks\\\": false, \\\"zindex\\\": 0, \\\"gridScale\\\": \\\"x\\\"}], \\\"style\\\": \\\"cell\\\", \\\"signals\\\": [{\\\"name\\\": \\\"width\\\", \\\"update\\\": \\\"250\\\"}, {\\\"name\\\": \\\"height\\\", \\\"update\\\": \\\"150\\\"}], \\\"marks\\\": [{\\\"name\\\": \\\"marks\\\", \\\"type\\\": \\\"rect\\\", \\\"style\\\": [\\\"rect\\\"], \\\"from\\\": {\\\"data\\\": \\\"new_data\\\"}, \\\"encode\\\": {\\\"hover\\\": {\\\"fill\\\": {\\\"value\\\": \\\"#7EC2F3\\\"}}, \\\"update\\\": {\\\"x\\\": {\\\"scale\\\": \\\"x\\\", \\\"field\\\": \\\"left\\\"}, \\\"x2\\\": {\\\"scale\\\": \\\"x\\\", \\\"field\\\": \\\"right\\\"}, \\\"y\\\": {\\\"scale\\\": \\\"y\\\", \\\"field\\\": \\\"count\\\"}, \\\"y2\\\": {\\\"scale\\\": \\\"y\\\", \\\"value\\\": 0}, \\\"fill\\\": {\\\"value\\\": \\\"#108EE9\\\"}}}}]}, {\\\"from\\\": {\\\"facet\\\": {\\\"name\\\": \\\"data_5\\\", \\\"data\\\": \\\"data_2\\\", \\\"field\\\": \\\"categorical\\\"}}, \\\"encode\\\": {\\\"enter\\\": {\\\"x\\\": {\\\"value\\\": 170}, \\\"width\\\": {\\\"value\\\": 250}, \\\"y\\\": {\\\"field\\\": \\\"graph_offset_categorical\\\"}, \\\"height\\\": {\\\"value\\\": 150}, \\\"fill\\\": {\\\"value\\\": \\\"#ffffff\\\"}, \\\"fillOpacity\\\": {\\\"value\\\": 0}, \\\"stroke\\\": {\\\"value\\\": \\\"#000000\\\"}, \\\"strokeWidth\\\": {\\\"value\\\": 0}}, \\\"update\\\": {\\\"x\\\": {\\\"signal\\\": \\\"datum[\\\\\\\"c_x_axis_back\\\\\\\"]+137\\\"}, \\\"clip\\\": {\\\"field\\\": \\\"c_clip_val_cat\\\"}, \\\"width\\\": {\\\"field\\\": \\\"c_width_numeric_val_cat\\\"}}}, \\\"type\\\": \\\"group\\\", \\\"style\\\": \\\"cell\\\", \\\"signals\\\": [{\\\"name\\\": \\\"unit\\\", \\\"value\\\": {}, \\\"on\\\": [{\\\"events\\\": \\\"mousemove\\\", \\\"update\\\": \\\"isTuple(group()) ? group() : unit\\\"}]}, {\\\"name\\\": \\\"pts\\\", \\\"update\\\": \\\"data(\\\\\\\"pts_store\\\\\\\").length &amp;&amp; {count: data(\\\\\\\"pts_store\\\\\\\")[0].values[0]}\\\"}, {\\\"name\\\": \\\"pts_tuple\\\", \\\"value\\\": {}, \\\"on\\\": [{\\\"events\\\": [{\\\"source\\\": \\\"scope\\\", \\\"type\\\": \\\"click\\\"}], \\\"update\\\": \\\"datum &amp;&amp; item().mark.marktype !== &apos;group&apos; ? {unit: \\\\\\\"\\\\\\\", encodings: [\\\\\\\"x\\\\\\\"], fields: [\\\\\\\"count\\\\\\\"], values: [datum[\\\\\\\"count\\\\\\\"]]} : null\\\", \\\"force\\\": true}]}, {\\\"name\\\": \\\"pts_modify\\\", \\\"on\\\": [{\\\"events\\\": {\\\"signal\\\": \\\"pts_tuple\\\"}, \\\"update\\\": \\\"modify(\\\\\\\"pts_store\\\\\\\", pts_tuple, true)\\\"}]}], \\\"marks\\\": [{\\\"name\\\": \\\"marks\\\", \\\"type\\\": \\\"rect\\\", \\\"style\\\": [\\\"bar\\\"], \\\"from\\\": {\\\"data\\\": \\\"data_5\\\"}, \\\"encode\\\": {\\\"hover\\\": {\\\"fill\\\": {\\\"value\\\": \\\"#7EC2F3\\\"}}, \\\"update\\\": {\\\"x\\\": {\\\"scale\\\": \\\"x\\\", \\\"field\\\": \\\"count\\\"}, \\\"x2\\\": {\\\"scale\\\": \\\"x\\\", \\\"value\\\": 0}, \\\"y\\\": {\\\"scale\\\": \\\"y\\\", \\\"field\\\": \\\"label\\\"}, \\\"height\\\": {\\\"scale\\\": \\\"y\\\", \\\"band\\\": true}, \\\"fill\\\": {\\\"value\\\": \\\"#108EE9\\\"}}}}], \\\"scales\\\": [{\\\"name\\\": \\\"x\\\", \\\"type\\\": \\\"linear\\\", \\\"domain\\\": {\\\"data\\\": \\\"data_5\\\", \\\"field\\\": \\\"count\\\"}, \\\"range\\\": [0, 250], \\\"nice\\\": true, \\\"zero\\\": true}, {\\\"name\\\": \\\"y\\\", \\\"type\\\": \\\"band\\\", \\\"domain\\\": {\\\"data\\\": \\\"data_5\\\", \\\"field\\\": \\\"label\\\", \\\"sort\\\": {\\\"op\\\": \\\"mean\\\", \\\"field\\\": \\\"label_idx\\\", \\\"order\\\": \\\"descending\\\"}}, \\\"range\\\": [150, 0], \\\"paddingInner\\\": 0.1, \\\"paddingOuter\\\": 0.05}], \\\"axes\\\": [{\\\"orient\\\": \\\"top\\\", \\\"scale\\\": \\\"x\\\", \\\"labelOverlap\\\": true, \\\"tickCount\\\": {\\\"signal\\\": \\\"ceil(width/40)\\\"}, \\\"title\\\": \\\"Count\\\", \\\"zindex\\\": 1}, {\\\"orient\\\": \\\"top\\\", \\\"scale\\\": \\\"x\\\", \\\"domain\\\": false, \\\"grid\\\": true, \\\"labels\\\": false, \\\"maxExtent\\\": 0, \\\"minExtent\\\": 0, \\\"tickCount\\\": {\\\"signal\\\": \\\"ceil(width/40)\\\"}, \\\"ticks\\\": false, \\\"zindex\\\": 0, \\\"gridScale\\\": \\\"y\\\"}, {\\\"scale\\\": \\\"y\\\", \\\"labelOverlap\\\": true, \\\"orient\\\": \\\"left\\\", \\\"title\\\": \\\"Label\\\", \\\"zindex\\\": 1}]}], \\\"type\\\": \\\"group\\\"}], \\\"type\\\": \\\"group\\\"}], \\\"config\\\": {\\\"axis\\\": {\\\"labelFont\\\": \\\"HelveticaNeue-Light, Arial\\\", \\\"labelFontSize\\\": 7, \\\"labelPadding\\\": 10, \\\"labelColor\\\": \\\"#595959\\\", \\\"titleFont\\\": \\\"HelveticaNeue-Light, Arial\\\", \\\"titleFontWeight\\\": \\\"normal\\\", \\\"titlePadding\\\": 9, \\\"titleFontSize\\\": 12, \\\"titleColor\\\": \\\"#595959\\\"}, \\\"axisY\\\": {\\\"minExtent\\\": 30}, \\\"style\\\": {\\\"rect\\\": {\\\"stroke\\\": \\\"rgba(200, 200, 200, 0.5)\\\"}, \\\"group-title\\\": {\\\"fontSize\\\": 20, \\\"font\\\": \\\"HelveticaNeue-Light, Arial\\\", \\\"fontWeight\\\": \\\"normal\\\", \\\"fill\\\": \\\"#595959\\\"}}}}\";                                 var vega_json_parsed = JSON.parse(vega_json);                                 var toolTipOpts = {                                     showAllFields: true                                 };                                 if(vega_json_parsed[\"metadata\"] != null){                                     if(vega_json_parsed[\"metadata\"][\"bubbleOpts\"] != null){                                         toolTipOpts = vega_json_parsed[\"metadata\"][\"bubbleOpts\"];                                     };                                 };                                 vegaEmbed(\"#vis\", vega_json_parsed).then(function (result) {                                     vegaTooltip.vega(result.view, toolTipOpts);                                  });                             </script>                         </body>                     </html>' src=\"demo_iframe_srcdoc.htm\">                         <p>Your browser does not support iframes.</p>                     </iframe>                 </body>             </html>"
            ],
            "text/plain": [
              "<IPython.core.display.HTML object>"
            ]
          },
          "metadata": {
            "tags": []
          }
        }
      ]
    },
    {
      "cell_type": "code",
      "metadata": {
        "id": "3yGqixu7ohoL",
        "colab": {
          "base_uri": "https://localhost:8080/"
        },
        "outputId": "6d907b9b-6313-43c8-fcb4-74de7fc28ec3"
      },
      "source": [
        "print(type(data['ZipCode']))"
      ],
      "execution_count": null,
      "outputs": [
        {
          "output_type": "stream",
          "text": [
            "<class 'turicreate.data_structures.sarray.SArray'>\n"
          ],
          "name": "stdout"
        }
      ]
    },
    {
      "cell_type": "code",
      "metadata": {
        "id": "KOp02RngnGke"
      },
      "source": [
        "dt = data\n",
        "\n",
        "dt['Location']= dt[\"Location\"].astype(str)\n",
        "dt['ZipCode']= dt[\"ZipCode\"].astype(str)\n"
      ],
      "execution_count": null,
      "outputs": []
    },
    {
      "cell_type": "code",
      "metadata": {
        "id": "mSKPNSfMA3mT",
        "colab": {
          "base_uri": "https://localhost:8080/"
        },
        "outputId": "8dc717e9-fe8e-41be-bcbb-5c4b15465530"
      },
      "source": [
        "print(type(dt['ZipCode']))"
      ],
      "execution_count": null,
      "outputs": [
        {
          "output_type": "stream",
          "text": [
            "<class 'turicreate.data_structures.sarray.SArray'>\n"
          ],
          "name": "stdout"
        }
      ]
    },
    {
      "cell_type": "code",
      "metadata": {
        "id": "a6sQjwD5n3l2",
        "colab": {
          "base_uri": "https://localhost:8080/"
        },
        "outputId": "4beb13b9-cb72-4358-877c-4e257417b1db"
      },
      "source": [
        "tc.visualization.box_plot(dt[\"ZipCode\"],  \n",
        "                          dt[\"TotalPrice\"],  \n",
        "                          xlabel = \"zipcode\",  \n",
        "                          ylabel = \"price\") "
      ],
      "execution_count": null,
      "outputs": [
        {
          "output_type": "display_data",
          "data": {
            "text/html": [
              "<html>                 <body>                     <iframe style=\"border:0;margin:0\" width=\"800\" height=\"770\" srcdoc='<html lang=\"en\">                         <head>                             <script src=\"https://cdnjs.cloudflare.com/ajax/libs/vega/5.4.0/vega.js\"></script>                             <script src=\"https://cdnjs.cloudflare.com/ajax/libs/vega-embed/4.0.0/vega-embed.js\"></script>                             <script src=\"https://cdnjs.cloudflare.com/ajax/libs/vega-tooltip/0.5.1/vega-tooltip.min.js\"></script>                             <link rel=\"stylesheet\" type=\"text/css\" href=\"https://cdnjs.cloudflare.com/ajax/libs/vega-tooltip/0.5.1/vega-tooltip.min.css\">                             <style>                             .vega-actions > a{                                 color:white;                                 text-decoration: none;                                 font-family: \"Arial\";                                 cursor:pointer;                                 padding:5px;                                 background:#AAAAAA;                                 border-radius:4px;                                 padding-left:10px;                                 padding-right:10px;                                 margin-right:5px;                             }                             .vega-actions{                                 margin-top:20px;                                 text-align:center                             }                            .vega-actions > a{                                 background:#999999;                            }                             </style>                         </head>                         <body>                             <div id=\"vis\">                             </div>                             <script>                                 var vega_json = \"{\\\"$schema\\\": \\\"https://vega.github.io/schema/vega/v4.json\\\", \\\"autosize\\\": {\\\"type\\\": \\\"fit\\\", \\\"resize\\\": false, \\\"contains\\\": \\\"padding\\\"}, \\\"padding\\\": 8, \\\"metadata\\\": {\\\"bubbleOpts\\\": {\\\"showAllFields\\\": false, \\\"fields\\\": [{\\\"field\\\": \\\"x\\\"}, {\\\"field\\\": \\\"min\\\"}, {\\\"field\\\": \\\"lower quartile\\\"}, {\\\"field\\\": \\\"median\\\"}, {\\\"field\\\": \\\"upper quartile\\\"}, {\\\"field\\\": \\\"max\\\"}]}}, \\\"title\\\": \\\"zipcode vs. price\\\", \\\"height\\\": 550, \\\"style\\\": \\\"cell\\\", \\\"data\\\": [{\\\"name\\\": \\\"source_2\\\", \\\"transform\\\": [{\\\"type\\\": \\\"collect\\\", \\\"sort\\\": {\\\"field\\\": \\\"median\\\"}}], \\\"values\\\": [{\\\"x\\\": \\\"1213\\\", \\\"min\\\": 17102000.0, \\\"lower quartile\\\": 22000000.0, \\\"median\\\": 28000000.0, \\\"upper quartile\\\": 30000000.0, \\\"max\\\": 280000000.0}, {\\\"x\\\": \\\"1206\\\", \\\"min\\\": 4081000.0, \\\"lower quartile\\\": 4193000.0, \\\"median\\\": 4287500.0, \\\"upper quartile\\\": 4830000.0, \\\"max\\\": 7625000.0}, {\\\"x\\\": \\\"1204\\\", \\\"min\\\": 6205000.0, \\\"lower quartile\\\": 6205000.0, \\\"median\\\": 6664000.0, \\\"upper quartile\\\": 6664000.0, \\\"max\\\": 6664000.0}, {\\\"x\\\": \\\"4224\\\", \\\"min\\\": 7000000.0, \\\"lower quartile\\\": 7475000.0, \\\"median\\\": 8320000.0, \\\"upper quartile\\\": 8328000.0, \\\"max\\\": 8328000.0}, {\\\"x\\\": \\\"1217\\\", \\\"min\\\": 5900000.0, \\\"lower quartile\\\": 5900000.0, \\\"median\\\": 6642000.0, \\\"upper quartile\\\": 7388750.0, \\\"max\\\": 7388750.0}, {\\\"x\\\": \\\"1211\\\", \\\"min\\\": 1275000.0, \\\"lower quartile\\\": 1275000.0, \\\"median\\\": 1275000.0, \\\"upper quartile\\\": 1275000.0, \\\"max\\\": 1275000.0}, {\\\"x\\\": \\\"1230\\\", \\\"min\\\": 1086300.0, \\\"lower quartile\\\": 6000000.0, \\\"median\\\": 10000000.0, \\\"upper quartile\\\": 13000000.0, \\\"max\\\": 117500000.0}, {\\\"x\\\": \\\"1361\\\", \\\"min\\\": 4300000.0, \\\"lower quartile\\\": 4300000.0, \\\"median\\\": 4300000.0, \\\"upper quartile\\\": 4300000.0, \\\"max\\\": 4300000.0}, {\\\"x\\\": \\\"1214\\\", \\\"min\\\": 4850000.0, \\\"lower quartile\\\": 4850000.0, \\\"median\\\": 4850000.0, \\\"upper quartile\\\": 4850000.0, \\\"max\\\": 4850000.0}, {\\\"x\\\": \\\"700097\\\", \\\"min\\\": 4500000.0, \\\"lower quartile\\\": 4500000.0, \\\"median\\\": 6480000.0, \\\"upper quartile\\\": 6480000.0, \\\"max\\\": 6480000.0}, {\\\"x\\\": \\\"1229\\\", \\\"min\\\": 3500000.0, \\\"lower quartile\\\": 10875000.0, \\\"median\\\": 13000000.0, \\\"upper quartile\\\": 22159500.0, \\\"max\\\": 23900000.0}, {\\\"x\\\": \\\"1216\\\", \\\"min\\\": 2200000.0, \\\"lower quartile\\\": 5000000.0, \\\"median\\\": 7875000.0, \\\"upper quartile\\\": 16500000.0, \\\"max\\\": 28320000.0}, {\\\"x\\\": \\\"1203\\\", \\\"min\\\": 9106500.0, \\\"lower quartile\\\": 9106500.0, \\\"median\\\": 10616500.0, \\\"upper quartile\\\": 10672500.0, \\\"max\\\": 10672500.0}, {\\\"x\\\": \\\"1205\\\", \\\"min\\\": 9970500.0, \\\"lower quartile\\\": 10055500.0, \\\"median\\\": 10480500.0, \\\"upper quartile\\\": 10480500.0, \\\"max\\\": 14700000.0}, {\\\"x\\\": \\\"1219\\\", \\\"min\\\": 5499000.0, \\\"lower quartile\\\": 5875000.0, \\\"median\\\": 8000000.0, \\\"upper quartile\\\": 9625000.0, \\\"max\\\": 12000000.0}, {\\\"x\\\": \\\"1209\\\", \\\"min\\\": 3600000.0, \\\"lower quartile\\\": 8228000.0, \\\"median\\\": 8384400.0, \\\"upper quartile\\\": 19740000.0, \\\"max\\\": 49000000.0}, {\\\"x\\\": \\\"1212\\\", \\\"min\\\": 4410000.0, \\\"lower quartile\\\": 23000000.0, \\\"median\\\": 47500000.0, \\\"upper quartile\\\": 74375000.0, \\\"max\\\": 240000000.0}, {\\\"x\\\": \\\"1207\\\", \\\"min\\\": 2470000.0, \\\"lower quartile\\\": 5000000.0, \\\"median\\\": 6510950.0, \\\"upper quartile\\\": 8297250.0, \\\"max\\\": 23000000.0}, {\\\"x\\\": \\\"1222\\\", \\\"min\\\": 3500000.0, \\\"lower quartile\\\": 3500000.0, \\\"median\\\": 3500000.0, \\\"upper quartile\\\": 3500000.0, \\\"max\\\": 3500000.0}, {\\\"x\\\": \\\"1340\\\", \\\"min\\\": 3200000.0, \\\"lower quartile\\\": 3200000.0, \\\"median\\\": 3200000.0, \\\"upper quartile\\\": 3200000.0, \\\"max\\\": 3200000.0}]}], \\\"signals\\\": [{\\\"name\\\": \\\"x_step\\\", \\\"value\\\": 42}, {\\\"name\\\": \\\"width\\\", \\\"update\\\": \\\"max(720, 100 + bandspace(domain(&apos;x&apos;).length, 0.1, 0.1) * x_step)\\\"}], \\\"marks\\\": [{\\\"name\\\": \\\"layer_0_marks\\\", \\\"type\\\": \\\"rule\\\", \\\"style\\\": [\\\"boxWhisker\\\"], \\\"from\\\": {\\\"data\\\": \\\"source_2\\\"}, \\\"encode\\\": {\\\"update\\\": {\\\"x\\\": {\\\"scale\\\": \\\"x\\\", \\\"field\\\": \\\"x\\\", \\\"band\\\": 0.5}, \\\"y\\\": {\\\"scale\\\": \\\"y\\\", \\\"field\\\": \\\"min\\\"}, \\\"y2\\\": {\\\"scale\\\": \\\"y\\\", \\\"field\\\": \\\"lower quartile\\\"}, \\\"stroke\\\": {\\\"value\\\": \\\"black\\\"}}}}, {\\\"name\\\": \\\"layer_1_marks\\\", \\\"type\\\": \\\"rule\\\", \\\"style\\\": [\\\"boxWhisker\\\"], \\\"from\\\": {\\\"data\\\": \\\"source_2\\\"}, \\\"encode\\\": {\\\"update\\\": {\\\"x\\\": {\\\"scale\\\": \\\"x\\\", \\\"field\\\": \\\"x\\\", \\\"band\\\": 0.5}, \\\"y\\\": {\\\"scale\\\": \\\"y\\\", \\\"field\\\": \\\"upper quartile\\\"}, \\\"y2\\\": {\\\"scale\\\": \\\"y\\\", \\\"field\\\": \\\"max\\\"}, \\\"stroke\\\": {\\\"value\\\": \\\"black\\\"}}}}, {\\\"name\\\": \\\"layer_2_marks\\\", \\\"type\\\": \\\"rect\\\", \\\"style\\\": [\\\"box\\\"], \\\"from\\\": {\\\"data\\\": \\\"source_2\\\"}, \\\"encode\\\": {\\\"hover\\\": {\\\"fill\\\": {\\\"value\\\": \\\"#7EC2F3\\\"}}, \\\"update\\\": {\\\"xc\\\": {\\\"scale\\\": \\\"x\\\", \\\"field\\\": \\\"x\\\", \\\"band\\\": 0.5}, \\\"width\\\": {\\\"value\\\": 20}, \\\"y\\\": {\\\"scale\\\": \\\"y\\\", \\\"field\\\": \\\"lower quartile\\\"}, \\\"y2\\\": {\\\"scale\\\": \\\"y\\\", \\\"field\\\": \\\"upper quartile\\\"}, \\\"fill\\\": {\\\"value\\\": \\\"#108EE9\\\"}}}}, {\\\"name\\\": \\\"layer_3_marks\\\", \\\"type\\\": \\\"rect\\\", \\\"style\\\": [\\\"boxMid\\\"], \\\"from\\\": {\\\"data\\\": \\\"source_2\\\"}, \\\"encode\\\": {\\\"update\\\": {\\\"xc\\\": {\\\"scale\\\": \\\"x\\\", \\\"field\\\": \\\"x\\\", \\\"band\\\": 0.5}, \\\"yc\\\": {\\\"scale\\\": \\\"y\\\", \\\"field\\\": \\\"median\\\"}, \\\"width\\\": {\\\"value\\\": 20}, \\\"height\\\": {\\\"value\\\": 1}, \\\"fill\\\": {\\\"value\\\": \\\"black\\\"}, \\\"opacity\\\": {\\\"value\\\": 0.7}}}}], \\\"scales\\\": [{\\\"name\\\": \\\"x\\\", \\\"type\\\": \\\"band\\\", \\\"domain\\\": {\\\"fields\\\": [{\\\"data\\\": \\\"source_2\\\", \\\"field\\\": \\\"x\\\"}]}, \\\"range\\\": {\\\"step\\\": {\\\"signal\\\": \\\"x_step\\\"}}, \\\"paddingInner\\\": 0.1, \\\"paddingOuter\\\": 0.05}, {\\\"name\\\": \\\"y\\\", \\\"type\\\": \\\"linear\\\", \\\"domain\\\": {\\\"fields\\\": [{\\\"data\\\": \\\"source_2\\\", \\\"field\\\": \\\"min\\\"}, {\\\"data\\\": \\\"source_2\\\", \\\"field\\\": \\\"lower quartile\\\"}, {\\\"data\\\": \\\"source_2\\\", \\\"field\\\": \\\"upper quartile\\\"}, {\\\"data\\\": \\\"source_2\\\", \\\"field\\\": \\\"max\\\"}, {\\\"data\\\": \\\"source_2\\\", \\\"field\\\": \\\"lower quartile\\\"}, {\\\"data\\\": \\\"source_2\\\", \\\"field\\\": \\\"upper quartile\\\"}, {\\\"data\\\": \\\"source_2\\\", \\\"field\\\": \\\"median\\\"}], \\\"sort\\\": true}, \\\"range\\\": [{\\\"signal\\\": \\\"height\\\"}, 0], \\\"nice\\\": true, \\\"zero\\\": true}], \\\"axes\\\": [{\\\"scale\\\": \\\"x\\\", \\\"labelOverlap\\\": true, \\\"orient\\\": \\\"bottom\\\", \\\"title\\\": \\\"zipcode\\\", \\\"zindex\\\": 1, \\\"encode\\\": {\\\"labels\\\": {\\\"update\\\": {\\\"angle\\\": {\\\"value\\\": 270}, \\\"align\\\": {\\\"value\\\": \\\"right\\\"}, \\\"baseline\\\": {\\\"value\\\": \\\"middle\\\"}}}}}, {\\\"title\\\": \\\"price\\\", \\\"scale\\\": \\\"y\\\", \\\"labelOverlap\\\": true, \\\"orient\\\": \\\"left\\\", \\\"tickCount\\\": {\\\"signal\\\": \\\"ceil(height/40)\\\"}, \\\"zindex\\\": 1}, {\\\"scale\\\": \\\"y\\\", \\\"domain\\\": false, \\\"grid\\\": true, \\\"labels\\\": false, \\\"maxExtent\\\": 0, \\\"minExtent\\\": 0, \\\"orient\\\": \\\"left\\\", \\\"tickCount\\\": {\\\"signal\\\": \\\"ceil(height/40)\\\"}, \\\"ticks\\\": false, \\\"zindex\\\": 0, \\\"gridScale\\\": \\\"x\\\"}], \\\"config\\\": {\\\"axis\\\": {\\\"gridColor\\\": \\\"rgba(204,204,204,1.0)\\\", \\\"labelFont\\\": \\\"\\\\\\\"San Francisco\\\\\\\", HelveticaNeue, Arial\\\", \\\"labelFontSize\\\": 12, \\\"labelPadding\\\": 10, \\\"labelColor\\\": \\\"rgba(0,0,0,0.847)\\\", \\\"tickColor\\\": \\\"rgb(136,136,136)\\\", \\\"titleFont\\\": \\\"\\\\\\\"San Francisco\\\\\\\", HelveticaNeue, Arial\\\", \\\"titleFontWeight\\\": \\\"normal\\\", \\\"titlePadding\\\": 20, \\\"titleFontSize\\\": 14, \\\"titleColor\\\": \\\"rgba(0,0,0,0.847)\\\"}, \\\"axisY\\\": {\\\"minExtent\\\": 30}, \\\"legend\\\": {\\\"labelFont\\\": \\\"\\\\\\\"San Francisco\\\\\\\", HelveticaNeue, Arial\\\", \\\"labelColor\\\": \\\"rgba(0,0,0,0.847)\\\", \\\"titleFont\\\": \\\"\\\\\\\"San Francisco\\\\\\\", HelveticaNeue, Arial\\\", \\\"cornerRadius\\\": 30, \\\"gradientLength\\\": 608, \\\"titleColor\\\": \\\"rgba(0,0,0,0.847)\\\"}, \\\"range\\\": {\\\"heatmap\\\": {\\\"scheme\\\": \\\"greenblue\\\"}}, \\\"style\\\": {\\\"rect\\\": {\\\"stroke\\\": \\\"rgba(200, 200, 200, 0.5)\\\"}, \\\"cell\\\": {\\\"stroke\\\": \\\"transparent\\\"}, \\\"group-title\\\": {\\\"fontSize\\\": 29, \\\"font\\\": \\\"HelveticaNeue, Arial\\\", \\\"fontWeight\\\": \\\"normal\\\", \\\"fill\\\": \\\"rgba(0,0,0,0.65)\\\"}}, \\\"title\\\": {\\\"color\\\": \\\"rgba(0,0,0,0.847)\\\", \\\"font\\\": \\\"\\\\\\\"San Francisco\\\\\\\", HelveticaNeue, Arial\\\", \\\"fontSize\\\": 18, \\\"fontWeight\\\": \\\"normal\\\", \\\"offset\\\": 30}}}\";                                 var vega_json_parsed = JSON.parse(vega_json);                                 var toolTipOpts = {                                     showAllFields: true                                 };                                 if(vega_json_parsed[\"metadata\"] != null){                                     if(vega_json_parsed[\"metadata\"][\"bubbleOpts\"] != null){                                         toolTipOpts = vega_json_parsed[\"metadata\"][\"bubbleOpts\"];                                     };                                 };                                 vegaEmbed(\"#vis\", vega_json_parsed).then(function (result) {                                     vegaTooltip.vega(result.view, toolTipOpts);                                  });                             </script>                         </body>                     </html>' src=\"demo_iframe_srcdoc.htm\">                         <p>Your browser does not support iframes.</p>                     </iframe>                 </body>             </html>"
            ],
            "text/plain": [
              "<IPython.core.display.HTML object>"
            ]
          },
          "metadata": {
            "tags": []
          }
        },
        {
          "output_type": "execute_result",
          "data": {
            "text/plain": [
              "<turicreate.visualization._plot.Plot at 0x7f76fa56e810>"
            ]
          },
          "metadata": {
            "tags": []
          },
          "execution_count": 46
        }
      ]
    },
    {
      "cell_type": "code",
      "metadata": {
        "id": "yZfI6atPsZrx",
        "colab": {
          "base_uri": "https://localhost:8080/"
        },
        "outputId": "7c270653-11a4-4d4a-b6b3-3048e1bce6ba"
      },
      "source": [
        "tc.visualization.box_plot(dt[\"Location\"],  \n",
        "                          dt[\"TotalPrice\"],  \n",
        "                          xlabel = \"location\",  \n",
        "                          ylabel = \"price\") "
      ],
      "execution_count": null,
      "outputs": [
        {
          "output_type": "display_data",
          "data": {
            "text/html": [
              "<html>                 <body>                     <iframe style=\"border:0;margin:0\" width=\"800\" height=\"770\" srcdoc='<html lang=\"en\">                         <head>                             <script src=\"https://cdnjs.cloudflare.com/ajax/libs/vega/5.4.0/vega.js\"></script>                             <script src=\"https://cdnjs.cloudflare.com/ajax/libs/vega-embed/4.0.0/vega-embed.js\"></script>                             <script src=\"https://cdnjs.cloudflare.com/ajax/libs/vega-tooltip/0.5.1/vega-tooltip.min.js\"></script>                             <link rel=\"stylesheet\" type=\"text/css\" href=\"https://cdnjs.cloudflare.com/ajax/libs/vega-tooltip/0.5.1/vega-tooltip.min.css\">                             <style>                             .vega-actions > a{                                 color:white;                                 text-decoration: none;                                 font-family: \"Arial\";                                 cursor:pointer;                                 padding:5px;                                 background:#AAAAAA;                                 border-radius:4px;                                 padding-left:10px;                                 padding-right:10px;                                 margin-right:5px;                             }                             .vega-actions{                                 margin-top:20px;                                 text-align:center                             }                            .vega-actions > a{                                 background:#999999;                            }                             </style>                         </head>                         <body>                             <div id=\"vis\">                             </div>                             <script>                                 var vega_json = \"{\\\"$schema\\\": \\\"https://vega.github.io/schema/vega/v4.json\\\", \\\"autosize\\\": {\\\"type\\\": \\\"fit\\\", \\\"resize\\\": false, \\\"contains\\\": \\\"padding\\\"}, \\\"padding\\\": 8, \\\"metadata\\\": {\\\"bubbleOpts\\\": {\\\"showAllFields\\\": false, \\\"fields\\\": [{\\\"field\\\": \\\"x\\\"}, {\\\"field\\\": \\\"min\\\"}, {\\\"field\\\": \\\"lower quartile\\\"}, {\\\"field\\\": \\\"median\\\"}, {\\\"field\\\": \\\"upper quartile\\\"}, {\\\"field\\\": \\\"max\\\"}]}}, \\\"title\\\": \\\"location vs. price\\\", \\\"height\\\": 550, \\\"style\\\": \\\"cell\\\", \\\"data\\\": [{\\\"name\\\": \\\"source_2\\\", \\\"transform\\\": [{\\\"type\\\": \\\"collect\\\", \\\"sort\\\": {\\\"field\\\": \\\"median\\\"}}], \\\"values\\\": [{\\\"x\\\": \\\"kafrul\\\", \\\"min\\\": 4800000.0, \\\"lower quartile\\\": 4882500.0, \\\"median\\\": 5555000.0, \\\"upper quartile\\\": 7625000.0, \\\"max\\\": 7625000.0}, {\\\"x\\\": \\\"Motijheel\\\", \\\"min\\\": 3500000.0, \\\"lower quartile\\\": 3500000.0, \\\"median\\\": 3500000.0, \\\"upper quartile\\\": 3500000.0, \\\"max\\\": 3500000.0}, {\\\"x\\\": \\\"Baridhara\\\", \\\"min\\\": 4500000.0, \\\"lower quartile\\\": 38500000.0, \\\"median\\\": 76650000.0, \\\"upper quartile\\\": 80850000.0, \\\"max\\\": 240000000.0}, {\\\"x\\\": \\\"Demra\\\", \\\"min\\\": 4300000.0, \\\"lower quartile\\\": 4300000.0, \\\"median\\\": 4300000.0, \\\"upper quartile\\\": 4300000.0, \\\"max\\\": 4300000.0}, {\\\"x\\\": \\\"Dhanmondi\\\", \\\"min\\\": 3600000.0, \\\"lower quartile\\\": 8228000.0, \\\"median\\\": 8384400.0, \\\"upper quartile\\\": 19740000.0, \\\"max\\\": 49000000.0}, {\\\"x\\\": \\\"Badda\\\", \\\"min\\\": 4410000.0, \\\"lower quartile\\\": 4620000.0, \\\"median\\\": 8960000.0, \\\"upper quartile\\\": 13073500.0, \\\"max\\\": 17000000.0}, {\\\"x\\\": \\\"Wari\\\", \\\"min\\\": 9106500.0, \\\"lower quartile\\\": 9106500.0, \\\"median\\\": 10616500.0, \\\"upper quartile\\\": 10672500.0, \\\"max\\\": 10672500.0}, {\\\"x\\\": \\\"Bashundhara\\\", \\\"min\\\": 3500000.0, \\\"lower quartile\\\": 10875000.0, \\\"median\\\": 13000000.0, \\\"upper quartile\\\": 22159500.0, \\\"max\\\": 23900000.0}, {\\\"x\\\": \\\"Uttara\\\", \\\"min\\\": 1086300.0, \\\"lower quartile\\\": 7000000.0, \\\"median\\\": 10500000.0, \\\"upper quartile\\\": 13500000.0, \\\"max\\\": 117500000.0}, {\\\"x\\\": \\\"Khilgaon\\\", \\\"min\\\": 5625000.0, \\\"lower quartile\\\": 5875000.0, \\\"median\\\": 8000000.0, \\\"upper quartile\\\": 9625000.0, \\\"max\\\": 12000000.0}, {\\\"x\\\": \\\"Purbachal\\\", \\\"min\\\": 4500000.0, \\\"lower quartile\\\": 4500000.0, \\\"median\\\": 6480000.0, \\\"upper quartile\\\": 6480000.0, \\\"max\\\": 6480000.0}, {\\\"x\\\": \\\"Mogbazar\\\", \\\"min\\\": 5900000.0, \\\"lower quartile\\\": 5900000.0, \\\"median\\\": 6642000.0, \\\"upper quartile\\\": 7388750.0, \\\"max\\\": 7388750.0}, {\\\"x\\\": \\\"Banani\\\", \\\"min\\\": 17102000.0, \\\"lower quartile\\\": 22000000.0, \\\"median\\\": 28000000.0, \\\"upper quartile\\\": 30000000.0, \\\"max\\\": 280000000.0}, {\\\"x\\\": \\\"Basabo\\\", \\\"min\\\": 4850000.0, \\\"lower quartile\\\": 4850000.0, \\\"median\\\": 4850000.0, \\\"upper quartile\\\": 4850000.0, \\\"max\\\": 4850000.0}, {\\\"x\\\": \\\"Elephant Road\\\", \\\"min\\\": 9970500.0, \\\"lower quartile\\\": 10055500.0, \\\"median\\\": 10480500.0, \\\"upper quartile\\\": 10480500.0, \\\"max\\\": 14700000.0}, {\\\"x\\\": \\\"Mohammadpur\\\", \\\"min\\\": 2470000.0, \\\"lower quartile\\\": 4400000.0, \\\"median\\\": 5800000.0, \\\"upper quartile\\\": 7000000.0, \\\"max\\\": 23000000.0}, {\\\"x\\\": \\\"Malibag\\\", \\\"min\\\": 5499000.0, \\\"lower quartile\\\": 6552000.0, \\\"median\\\": 10000000.0, \\\"upper quartile\\\": 10000000.0, \\\"max\\\": 10000000.0}, {\\\"x\\\": \\\"Shaymoli\\\", \\\"min\\\": 7300000.0, \\\"lower quartile\\\": 8190000.0, \\\"median\\\": 8330000.0, \\\"upper quartile\\\": 8960000.0, \\\"max\\\": 8960000.0}, {\\\"x\\\": \\\"Savar\\\", \\\"min\\\": 3200000.0, \\\"lower quartile\\\": 3200000.0, \\\"median\\\": 3200000.0, \\\"upper quartile\\\": 3200000.0, \\\"max\\\": 3200000.0}, {\\\"x\\\": \\\"Gulshan\\\", \\\"min\\\": 6500000.0, \\\"lower quartile\\\": 31000000.0, \\\"median\\\": 50000000.0, \\\"upper quartile\\\": 72000000.0, \\\"max\\\": 140000000.0}, {\\\"x\\\": \\\"Lalbag\\\", \\\"min\\\": 1275000.0, \\\"lower quartile\\\": 1275000.0, \\\"median\\\": 1275000.0, \\\"upper quartile\\\": 1275000.0, \\\"max\\\": 1275000.0}, {\\\"x\\\": \\\"Cantonment\\\", \\\"min\\\": 4081000.0, \\\"lower quartile\\\": 4186000.0, \\\"median\\\": 4217500.0, \\\"upper quartile\\\": 4322500.0, \\\"max\\\": 6413000.0}, {\\\"x\\\": \\\"Tongi\\\", \\\"min\\\": 2500000.0, \\\"lower quartile\\\": 3657500.0, \\\"median\\\": 3710000.0, \\\"upper quartile\\\": 3710000.0, \\\"max\\\": 3710000.0}, {\\\"x\\\": \\\"Khilkhet\\\", \\\"min\\\": 5593000.0, \\\"lower quartile\\\": 5593000.0, \\\"median\\\": 5593000.0, \\\"upper quartile\\\": 5593000.0, \\\"max\\\": 5593000.0}, {\\\"x\\\": \\\"Mohakhali\\\", \\\"min\\\": 5600000.0, \\\"lower quartile\\\": 16000000.0, \\\"median\\\": 17000000.0, \\\"upper quartile\\\": 41850000.0, \\\"max\\\": 58140000.0}, {\\\"x\\\": \\\"Jatrabari\\\", \\\"min\\\": 6205000.0, \\\"lower quartile\\\": 6205000.0, \\\"median\\\": 6664000.0, \\\"upper quartile\\\": 6664000.0, \\\"max\\\": 6664000.0}, {\\\"x\\\": \\\"Mirpur\\\", \\\"min\\\": 2200000.0, \\\"lower quartile\\\": 5000000.0, \\\"median\\\": 7875000.0, \\\"upper quartile\\\": 16500000.0, \\\"max\\\": 28320000.0}, {\\\"x\\\": \\\"Rampura\\\", \\\"min\\\": 7000000.0, \\\"lower quartile\\\": 7475000.0, \\\"median\\\": 8320000.0, \\\"upper quartile\\\": 8328000.0, \\\"max\\\": 8328000.0}]}], \\\"signals\\\": [{\\\"name\\\": \\\"x_step\\\", \\\"value\\\": 42}, {\\\"name\\\": \\\"width\\\", \\\"update\\\": \\\"max(720, 100 + bandspace(domain(&apos;x&apos;).length, 0.1, 0.1) * x_step)\\\"}], \\\"marks\\\": [{\\\"name\\\": \\\"layer_0_marks\\\", \\\"type\\\": \\\"rule\\\", \\\"style\\\": [\\\"boxWhisker\\\"], \\\"from\\\": {\\\"data\\\": \\\"source_2\\\"}, \\\"encode\\\": {\\\"update\\\": {\\\"x\\\": {\\\"scale\\\": \\\"x\\\", \\\"field\\\": \\\"x\\\", \\\"band\\\": 0.5}, \\\"y\\\": {\\\"scale\\\": \\\"y\\\", \\\"field\\\": \\\"min\\\"}, \\\"y2\\\": {\\\"scale\\\": \\\"y\\\", \\\"field\\\": \\\"lower quartile\\\"}, \\\"stroke\\\": {\\\"value\\\": \\\"black\\\"}}}}, {\\\"name\\\": \\\"layer_1_marks\\\", \\\"type\\\": \\\"rule\\\", \\\"style\\\": [\\\"boxWhisker\\\"], \\\"from\\\": {\\\"data\\\": \\\"source_2\\\"}, \\\"encode\\\": {\\\"update\\\": {\\\"x\\\": {\\\"scale\\\": \\\"x\\\", \\\"field\\\": \\\"x\\\", \\\"band\\\": 0.5}, \\\"y\\\": {\\\"scale\\\": \\\"y\\\", \\\"field\\\": \\\"upper quartile\\\"}, \\\"y2\\\": {\\\"scale\\\": \\\"y\\\", \\\"field\\\": \\\"max\\\"}, \\\"stroke\\\": {\\\"value\\\": \\\"black\\\"}}}}, {\\\"name\\\": \\\"layer_2_marks\\\", \\\"type\\\": \\\"rect\\\", \\\"style\\\": [\\\"box\\\"], \\\"from\\\": {\\\"data\\\": \\\"source_2\\\"}, \\\"encode\\\": {\\\"hover\\\": {\\\"fill\\\": {\\\"value\\\": \\\"#7EC2F3\\\"}}, \\\"update\\\": {\\\"xc\\\": {\\\"scale\\\": \\\"x\\\", \\\"field\\\": \\\"x\\\", \\\"band\\\": 0.5}, \\\"width\\\": {\\\"value\\\": 20}, \\\"y\\\": {\\\"scale\\\": \\\"y\\\", \\\"field\\\": \\\"lower quartile\\\"}, \\\"y2\\\": {\\\"scale\\\": \\\"y\\\", \\\"field\\\": \\\"upper quartile\\\"}, \\\"fill\\\": {\\\"value\\\": \\\"#108EE9\\\"}}}}, {\\\"name\\\": \\\"layer_3_marks\\\", \\\"type\\\": \\\"rect\\\", \\\"style\\\": [\\\"boxMid\\\"], \\\"from\\\": {\\\"data\\\": \\\"source_2\\\"}, \\\"encode\\\": {\\\"update\\\": {\\\"xc\\\": {\\\"scale\\\": \\\"x\\\", \\\"field\\\": \\\"x\\\", \\\"band\\\": 0.5}, \\\"yc\\\": {\\\"scale\\\": \\\"y\\\", \\\"field\\\": \\\"median\\\"}, \\\"width\\\": {\\\"value\\\": 20}, \\\"height\\\": {\\\"value\\\": 1}, \\\"fill\\\": {\\\"value\\\": \\\"black\\\"}, \\\"opacity\\\": {\\\"value\\\": 0.7}}}}], \\\"scales\\\": [{\\\"name\\\": \\\"x\\\", \\\"type\\\": \\\"band\\\", \\\"domain\\\": {\\\"fields\\\": [{\\\"data\\\": \\\"source_2\\\", \\\"field\\\": \\\"x\\\"}]}, \\\"range\\\": {\\\"step\\\": {\\\"signal\\\": \\\"x_step\\\"}}, \\\"paddingInner\\\": 0.1, \\\"paddingOuter\\\": 0.05}, {\\\"name\\\": \\\"y\\\", \\\"type\\\": \\\"linear\\\", \\\"domain\\\": {\\\"fields\\\": [{\\\"data\\\": \\\"source_2\\\", \\\"field\\\": \\\"min\\\"}, {\\\"data\\\": \\\"source_2\\\", \\\"field\\\": \\\"lower quartile\\\"}, {\\\"data\\\": \\\"source_2\\\", \\\"field\\\": \\\"upper quartile\\\"}, {\\\"data\\\": \\\"source_2\\\", \\\"field\\\": \\\"max\\\"}, {\\\"data\\\": \\\"source_2\\\", \\\"field\\\": \\\"lower quartile\\\"}, {\\\"data\\\": \\\"source_2\\\", \\\"field\\\": \\\"upper quartile\\\"}, {\\\"data\\\": \\\"source_2\\\", \\\"field\\\": \\\"median\\\"}], \\\"sort\\\": true}, \\\"range\\\": [{\\\"signal\\\": \\\"height\\\"}, 0], \\\"nice\\\": true, \\\"zero\\\": true}], \\\"axes\\\": [{\\\"scale\\\": \\\"x\\\", \\\"labelOverlap\\\": true, \\\"orient\\\": \\\"bottom\\\", \\\"title\\\": \\\"location\\\", \\\"zindex\\\": 1, \\\"encode\\\": {\\\"labels\\\": {\\\"update\\\": {\\\"angle\\\": {\\\"value\\\": 270}, \\\"align\\\": {\\\"value\\\": \\\"right\\\"}, \\\"baseline\\\": {\\\"value\\\": \\\"middle\\\"}}}}}, {\\\"title\\\": \\\"price\\\", \\\"scale\\\": \\\"y\\\", \\\"labelOverlap\\\": true, \\\"orient\\\": \\\"left\\\", \\\"tickCount\\\": {\\\"signal\\\": \\\"ceil(height/40)\\\"}, \\\"zindex\\\": 1}, {\\\"scale\\\": \\\"y\\\", \\\"domain\\\": false, \\\"grid\\\": true, \\\"labels\\\": false, \\\"maxExtent\\\": 0, \\\"minExtent\\\": 0, \\\"orient\\\": \\\"left\\\", \\\"tickCount\\\": {\\\"signal\\\": \\\"ceil(height/40)\\\"}, \\\"ticks\\\": false, \\\"zindex\\\": 0, \\\"gridScale\\\": \\\"x\\\"}], \\\"config\\\": {\\\"axis\\\": {\\\"gridColor\\\": \\\"rgba(204,204,204,1.0)\\\", \\\"labelFont\\\": \\\"\\\\\\\"San Francisco\\\\\\\", HelveticaNeue, Arial\\\", \\\"labelFontSize\\\": 12, \\\"labelPadding\\\": 10, \\\"labelColor\\\": \\\"rgba(0,0,0,0.847)\\\", \\\"tickColor\\\": \\\"rgb(136,136,136)\\\", \\\"titleFont\\\": \\\"\\\\\\\"San Francisco\\\\\\\", HelveticaNeue, Arial\\\", \\\"titleFontWeight\\\": \\\"normal\\\", \\\"titlePadding\\\": 20, \\\"titleFontSize\\\": 14, \\\"titleColor\\\": \\\"rgba(0,0,0,0.847)\\\"}, \\\"axisY\\\": {\\\"minExtent\\\": 30}, \\\"legend\\\": {\\\"labelFont\\\": \\\"\\\\\\\"San Francisco\\\\\\\", HelveticaNeue, Arial\\\", \\\"labelColor\\\": \\\"rgba(0,0,0,0.847)\\\", \\\"titleFont\\\": \\\"\\\\\\\"San Francisco\\\\\\\", HelveticaNeue, Arial\\\", \\\"cornerRadius\\\": 30, \\\"gradientLength\\\": 608, \\\"titleColor\\\": \\\"rgba(0,0,0,0.847)\\\"}, \\\"range\\\": {\\\"heatmap\\\": {\\\"scheme\\\": \\\"greenblue\\\"}}, \\\"style\\\": {\\\"rect\\\": {\\\"stroke\\\": \\\"rgba(200, 200, 200, 0.5)\\\"}, \\\"cell\\\": {\\\"stroke\\\": \\\"transparent\\\"}, \\\"group-title\\\": {\\\"fontSize\\\": 29, \\\"font\\\": \\\"HelveticaNeue, Arial\\\", \\\"fontWeight\\\": \\\"normal\\\", \\\"fill\\\": \\\"rgba(0,0,0,0.65)\\\"}}, \\\"title\\\": {\\\"color\\\": \\\"rgba(0,0,0,0.847)\\\", \\\"font\\\": \\\"\\\\\\\"San Francisco\\\\\\\", HelveticaNeue, Arial\\\", \\\"fontSize\\\": 18, \\\"fontWeight\\\": \\\"normal\\\", \\\"offset\\\": 30}}}\";                                 var vega_json_parsed = JSON.parse(vega_json);                                 var toolTipOpts = {                                     showAllFields: true                                 };                                 if(vega_json_parsed[\"metadata\"] != null){                                     if(vega_json_parsed[\"metadata\"][\"bubbleOpts\"] != null){                                         toolTipOpts = vega_json_parsed[\"metadata\"][\"bubbleOpts\"];                                     };                                 };                                 vegaEmbed(\"#vis\", vega_json_parsed).then(function (result) {                                     vegaTooltip.vega(result.view, toolTipOpts);                                  });                             </script>                         </body>                     </html>' src=\"demo_iframe_srcdoc.htm\">                         <p>Your browser does not support iframes.</p>                     </iframe>                 </body>             </html>"
            ],
            "text/plain": [
              "<IPython.core.display.HTML object>"
            ]
          },
          "metadata": {
            "tags": []
          }
        },
        {
          "output_type": "execute_result",
          "data": {
            "text/plain": [
              "<turicreate.visualization._plot.Plot at 0x7f76fa50b410>"
            ]
          },
          "metadata": {
            "tags": []
          },
          "execution_count": 47
        }
      ]
    },
    {
      "cell_type": "code",
      "metadata": {
        "id": "OXedMcrts9gL",
        "colab": {
          "base_uri": "https://localhost:8080/"
        },
        "outputId": "f26705b9-6719-4967-8193-30c10bf3c4a1"
      },
      "source": [
        "data[\"ZipCode\"] = data[\"ZipCode\"].astype(int)\n",
        "train_data,test_data = data.random_split(0.8,seed=42)\n",
        "my_features_model = tc.linear_regression.create(train_data, target='TotalPrice', features=my_features)"
      ],
      "execution_count": null,
      "outputs": [
        {
          "output_type": "stream",
          "text": [
            "PROGRESS: Creating a validation set from 5 percent of training data. This may take a while.\n",
            "          You can set ``validation_set=None`` to disable validation tracking.\n",
            "\n"
          ],
          "name": "stdout"
        },
        {
          "output_type": "display_data",
          "data": {
            "text/html": [
              "<pre>Linear regression:</pre>"
            ],
            "text/plain": [
              "Linear regression:"
            ]
          },
          "metadata": {
            "tags": []
          }
        },
        {
          "output_type": "display_data",
          "data": {
            "text/html": [
              "<pre>--------------------------------------------------------</pre>"
            ],
            "text/plain": [
              "--------------------------------------------------------"
            ]
          },
          "metadata": {
            "tags": []
          }
        },
        {
          "output_type": "display_data",
          "data": {
            "text/html": [
              "<pre>Number of examples          : 515</pre>"
            ],
            "text/plain": [
              "Number of examples          : 515"
            ]
          },
          "metadata": {
            "tags": []
          }
        },
        {
          "output_type": "display_data",
          "data": {
            "text/html": [
              "<pre>Number of features          : 4</pre>"
            ],
            "text/plain": [
              "Number of features          : 4"
            ]
          },
          "metadata": {
            "tags": []
          }
        },
        {
          "output_type": "display_data",
          "data": {
            "text/html": [
              "<pre>Number of unpacked features : 4</pre>"
            ],
            "text/plain": [
              "Number of unpacked features : 4"
            ]
          },
          "metadata": {
            "tags": []
          }
        },
        {
          "output_type": "display_data",
          "data": {
            "text/html": [
              "<pre>Number of coefficients    : 5</pre>"
            ],
            "text/plain": [
              "Number of coefficients    : 5"
            ]
          },
          "metadata": {
            "tags": []
          }
        },
        {
          "output_type": "display_data",
          "data": {
            "text/html": [
              "<pre>Starting Newton Method</pre>"
            ],
            "text/plain": [
              "Starting Newton Method"
            ]
          },
          "metadata": {
            "tags": []
          }
        },
        {
          "output_type": "display_data",
          "data": {
            "text/html": [
              "<pre>--------------------------------------------------------</pre>"
            ],
            "text/plain": [
              "--------------------------------------------------------"
            ]
          },
          "metadata": {
            "tags": []
          }
        },
        {
          "output_type": "display_data",
          "data": {
            "text/html": [
              "<pre>+-----------+----------+--------------+--------------------+----------------------+---------------------------------+-----------------------------------+</pre>"
            ],
            "text/plain": [
              "+-----------+----------+--------------+--------------------+----------------------+---------------------------------+-----------------------------------+"
            ]
          },
          "metadata": {
            "tags": []
          }
        },
        {
          "output_type": "display_data",
          "data": {
            "text/html": [
              "<pre>| Iteration | Passes   | Elapsed Time | Training Max Error | Validation Max Error | Training Root-Mean-Square Error | Validation Root-Mean-Square Error |</pre>"
            ],
            "text/plain": [
              "| Iteration | Passes   | Elapsed Time | Training Max Error | Validation Max Error | Training Root-Mean-Square Error | Validation Root-Mean-Square Error |"
            ]
          },
          "metadata": {
            "tags": []
          }
        }
      ]
    },
    {
      "cell_type": "code",
      "metadata": {
        "id": "o40cy0mruLCN"
      },
      "source": [
        "print(sqft_model.evaluate(test_data))\n",
        "print(my_features_model.evaluate(test_data))"
      ],
      "execution_count": null,
      "outputs": []
    },
    {
      "cell_type": "code",
      "metadata": {
        "id": "V_4U1Zk3bHuW"
      },
      "source": [
        "plt.plot(test_data['Size'],test_data['TotalPrice'],'*',\n",
        "         test_data['Size'],my_features_model.predict(test_data),'-')"
      ],
      "execution_count": null,
      "outputs": []
    },
    {
      "cell_type": "markdown",
      "metadata": {
        "id": "BqQiYWyXuqHu"
      },
      "source": [
        "#Building Random Forest Regression Model"
      ]
    },
    {
      "cell_type": "code",
      "metadata": {
        "id": "D2HJo0xQu5VO",
        "colab": {
          "base_uri": "https://localhost:8080/",
          "height": 319
        },
        "outputId": "8f711b07-6f7e-496f-a527-cfc13c7ddc40"
      },
      "source": [
        "random_forest_model =tc.random_forest_regression.create (train_data,target='TotalPrice',features = my_features,random_seed=42)"
      ],
      "execution_count": null,
      "outputs": [
        {
          "output_type": "stream",
          "text": [
            "PROGRESS: Creating a validation set from 5 percent of training data. This may take a while.\n",
            "          You can set ``validation_set=None`` to disable validation tracking.\n",
            "\n"
          ],
          "name": "stdout"
        },
        {
          "output_type": "display_data",
          "data": {
            "text/html": [
              "<pre>Random forest regression:</pre>"
            ],
            "text/plain": [
              "Random forest regression:"
            ]
          },
          "metadata": {
            "tags": []
          }
        },
        {
          "output_type": "display_data",
          "data": {
            "text/html": [
              "<pre>--------------------------------------------------------</pre>"
            ],
            "text/plain": [
              "--------------------------------------------------------"
            ]
          },
          "metadata": {
            "tags": []
          }
        },
        {
          "output_type": "display_data",
          "data": {
            "text/html": [
              "<pre>Number of examples          : 515</pre>"
            ],
            "text/plain": [
              "Number of examples          : 515"
            ]
          },
          "metadata": {
            "tags": []
          }
        },
        {
          "output_type": "display_data",
          "data": {
            "text/html": [
              "<pre>Number of features          : 4</pre>"
            ],
            "text/plain": [
              "Number of features          : 4"
            ]
          },
          "metadata": {
            "tags": []
          }
        },
        {
          "output_type": "display_data",
          "data": {
            "text/html": [
              "<pre>Number of unpacked features : 4</pre>"
            ],
            "text/plain": [
              "Number of unpacked features : 4"
            ]
          },
          "metadata": {
            "tags": []
          }
        },
        {
          "output_type": "display_data",
          "data": {
            "text/html": [
              "<pre>+-----------+--------------+--------------------+----------------------+---------------------------------+-----------------------------------+</pre>"
            ],
            "text/plain": [
              "+-----------+--------------+--------------------+----------------------+---------------------------------+-----------------------------------+"
            ]
          },
          "metadata": {
            "tags": []
          }
        },
        {
          "output_type": "display_data",
          "data": {
            "text/html": [
              "<pre>| Iteration | Elapsed Time | Training Max Error | Validation Max Error | Training Root-Mean-Square Error | Validation Root-Mean-Square Error |</pre>"
            ],
            "text/plain": [
              "| Iteration | Elapsed Time | Training Max Error | Validation Max Error | Training Root-Mean-Square Error | Validation Root-Mean-Square Error |"
            ]
          },
          "metadata": {
            "tags": []
          }
        },
        {
          "output_type": "display_data",
          "data": {
            "text/html": [
              "<pre>+-----------+--------------+--------------------+----------------------+---------------------------------+-----------------------------------+</pre>"
            ],
            "text/plain": [
              "+-----------+--------------+--------------------+----------------------+---------------------------------+-----------------------------------+"
            ]
          },
          "metadata": {
            "tags": []
          }
        },
        {
          "output_type": "display_data",
          "data": {
            "text/html": [
              "<pre>| 1         | 0.008409     | 164486592.000000   | 63000000.000000      | 12925382.000000                 | 19022108.000000                   |</pre>"
            ],
            "text/plain": [
              "| 1         | 0.008409     | 164486592.000000   | 63000000.000000      | 12925382.000000                 | 19022108.000000                   |"
            ]
          },
          "metadata": {
            "tags": []
          }
        },
        {
          "output_type": "display_data",
          "data": {
            "text/html": [
              "<pre>| 2         | 0.011782     | 176032752.000000   | 35604144.000000      | 13128157.000000                 | 12361190.000000                   |</pre>"
            ],
            "text/plain": [
              "| 2         | 0.011782     | 176032752.000000   | 35604144.000000      | 13128157.000000                 | 12361190.000000                   |"
            ]
          },
          "metadata": {
            "tags": []
          }
        },
        {
          "output_type": "display_data",
          "data": {
            "text/html": [
              "<pre>| 3         | 0.013703     | 176466272.000000   | 23940004.000000      | 13225968.000000                 | 10575698.000000                   |</pre>"
            ],
            "text/plain": [
              "| 3         | 0.013703     | 176466272.000000   | 23940004.000000      | 13225968.000000                 | 10575698.000000                   |"
            ]
          },
          "metadata": {
            "tags": []
          }
        },
        {
          "output_type": "display_data",
          "data": {
            "text/html": [
              "<pre>| 4         | 0.017651     | 181349712.000000   | 21136376.000000      | 13332794.000000                 | 8906365.000000                    |</pre>"
            ],
            "text/plain": [
              "| 4         | 0.017651     | 181349712.000000   | 21136376.000000      | 13332794.000000                 | 8906365.000000                    |"
            ]
          },
          "metadata": {
            "tags": []
          }
        },
        {
          "output_type": "display_data",
          "data": {
            "text/html": [
              "<pre>| 5         | 0.019238     | 180546432.000000   | 27021320.000000      | 13061296.000000                 | 10624033.000000                   |</pre>"
            ],
            "text/plain": [
              "| 5         | 0.019238     | 180546432.000000   | 27021320.000000      | 13061296.000000                 | 10624033.000000                   |"
            ]
          },
          "metadata": {
            "tags": []
          }
        },
        {
          "output_type": "display_data",
          "data": {
            "text/html": [
              "<pre>| 10        | 0.030169     | 171473216.000000   | 38800320.000000      | 12832076.000000                 | 13005075.000000                   |</pre>"
            ],
            "text/plain": [
              "| 10        | 0.030169     | 171473216.000000   | 38800320.000000      | 12832076.000000                 | 13005075.000000                   |"
            ]
          },
          "metadata": {
            "tags": []
          }
        },
        {
          "output_type": "display_data",
          "data": {
            "text/html": [
              "<pre>+-----------+--------------+--------------------+----------------------+---------------------------------+-----------------------------------+</pre>"
            ],
            "text/plain": [
              "+-----------+--------------+--------------------+----------------------+---------------------------------+-----------------------------------+"
            ]
          },
          "metadata": {
            "tags": []
          }
        }
      ]
    },
    {
      "cell_type": "code",
      "metadata": {
        "id": "KYeAbGXFdIwq",
        "colab": {
          "base_uri": "https://localhost:8080/"
        },
        "outputId": "f4f69a9b-0bbf-4fc2-c390-b81c5415eaac"
      },
      "source": [
        "print(sqft_model.evaluate(test_data))\n",
        "print(my_features_model.evaluate(test_data))\n",
        "print(random_forest_model.evaluate(test_data))\n"
      ],
      "execution_count": null,
      "outputs": [
        {
          "output_type": "stream",
          "text": [
            "{'max_error': 26710732.105421856, 'rmse': 8034614.8879156}\n",
            "{'max_error': 23988263.153590478, 'rmse': 6959326.79625265}\n",
            "{'max_error': 19768992.0, 'rmse': 5403820.384989584}\n"
          ],
          "name": "stdout"
        }
      ]
    },
    {
      "cell_type": "code",
      "metadata": {
        "id": "mHdIM4dadjVH",
        "colab": {
          "base_uri": "https://localhost:8080/",
          "height": 745
        },
        "outputId": "3d72d0bf-0ccf-4dc7-d950-9fbf053b9611"
      },
      "source": [
        "plt.plot(test_data['Size'],test_data['TotalPrice'],'*',\n",
        "         test_data['Size'],random_forest_model.predict(test_data),'-')"
      ],
      "execution_count": null,
      "outputs": [
        {
          "output_type": "execute_result",
          "data": {
            "text/plain": [
              "[<matplotlib.lines.Line2D at 0x7f76f8b6b410>,\n",
              " <matplotlib.lines.Line2D at 0x7f76f8b6b250>]"
            ]
          },
          "metadata": {
            "tags": []
          },
          "execution_count": 75
        },
        {
          "output_type": "display_data",
          "data": {
            "image/png": "[encoded data removed]",
            "text/plain": [
              "<Figure size 1080x864 with 1 Axes>"
            ]
          },
          "metadata": {
            "tags": [],
            "needs_background": "light"
          }
        }
      ]
    },
    {
      "cell_type": "markdown",
      "metadata": {
        "id": "htdtNSQah905"
      },
      "source": [
        "#Building an auto generated Regression Model"
      ]
    },
    {
      "cell_type": "code",
      "metadata": {
        "id": "o7WrO_6idxQj"
      },
      "source": [
        "rand_regression_model=tc.regression.create(train_data,target='TotalPrice',features=my_features)"
      ],
      "execution_count": null,
      "outputs": []
    },
    {
      "cell_type": "code",
      "metadata": {
        "id": "t0sRdacpe9mI"
      },
      "source": [
        "print(sqft_model.evaluate(test_data))\n",
        "print(my_features_model.evaluate(test_data))\n",
        "print(random_forest_model.evaluate(test_data))\n",
        "print(rand_regression_model.evaluate(test_data))"
      ],
      "execution_count": null,
      "outputs": []
    },
    {
      "cell_type": "code",
      "metadata": {
        "id": "eFyfYk8cfZVj"
      },
      "source": [
        "plt.plot(test_data['Size'],test_data['TotalPrice'],'.',\n",
        "         test_data['Size'],rand_regression_model.predict(test_data),'-')"
      ],
      "execution_count": null,
      "outputs": []
    },
    {
      "cell_type": "markdown",
      "metadata": {
        "id": "FhJmy1DYimtu"
      },
      "source": [
        "#Building Boosted Tree Regression Model"
      ]
    },
    {
      "cell_type": "code",
      "metadata": {
        "id": "lwFYa-Uzfo4d"
      },
      "source": [
        "boosted_tree_regression_model=tc.boosted_trees_regression.create(train_data,target='TotalPrice',features = my_features,random_seed=42)"
      ],
      "execution_count": null,
      "outputs": []
    },
    {
      "cell_type": "code",
      "metadata": {
        "id": "xV4SaMQsjFSN"
      },
      "source": [
        "print(sqft_model.evaluate(test_data))\n",
        "print(my_features_model.evaluate(test_data))\n",
        "print(random_forest_model.evaluate(test_data))\n",
        "print(rand_regression_model.evaluate(test_data))\n",
        "print(boosted_tree_regression_model.evaluate(test_data))"
      ],
      "execution_count": null,
      "outputs": []
    },
    {
      "cell_type": "code",
      "metadata": {
        "id": "r9KvA5yJu-U_"
      },
      "source": [
        "plt.plot(test_data['Size'],test_data['TotalPrice'],'.',\n",
        "         test_data['Size'],boosted_tree_regression_model.predict(test_data),'-')"
      ],
      "execution_count": null,
      "outputs": []
    },
    {
      "cell_type": "markdown",
      "metadata": {
        "id": "S6zvFIbEubHL"
      },
      "source": [
        "#Building Decision Tree Regression Model\n"
      ]
    },
    {
      "cell_type": "code",
      "metadata": {
        "id": "VgEe2aSFjda5"
      },
      "source": [
        "dt_regression_model= tc.decision_tree_regression.create(train_data,'TotalPrice',my_features,random_seed=42)"
      ],
      "execution_count": null,
      "outputs": []
    },
    {
      "cell_type": "code",
      "metadata": {
        "id": "sHHZFmZHu0jx"
      },
      "source": [
        "print(\"sqft_model: \",sqft_model.evaluate(test_data))\n",
        "print(\"my_features_model: \",my_features_model.evaluate(test_data))\n",
        "print(\"random_forest_model: \",random_forest_model.evaluate(test_data))\n",
        "print(\"rand_regression_model: \",rand_regression_model.evaluate(test_data))\n",
        "print(\"boosted_tree_regression_model: \",boosted_tree_regression_model.evaluate(test_data))\n",
        "print(\"dt_regression_model: \",dt_regression_model.evaluate(test_data))"
      ],
      "execution_count": null,
      "outputs": []
    },
    {
      "cell_type": "code",
      "metadata": {
        "id": "m8drHMj9xk2Y"
      },
      "source": [
        ""
      ],
      "execution_count": null,
      "outputs": []
    },
    {
      "cell_type": "markdown",
      "metadata": {
        "id": "aVLOuzsl39cg"
      },
      "source": [
        "Tuning the max_deapth of Decision Tree Regression"
      ]
    },
    {
      "cell_type": "code",
      "metadata": {
        "id": "AxFermxtvbcf"
      },
      "source": [
        "max_deapth = [1,5,10,15,20,25,30,35,40,45,50]\n",
        "evaluation = []\n",
        "\n",
        "for k in max_deapth:\n",
        "  dt_regression_model= tc.decision_tree_regression.create(train_data,'TotalPrice',my_features,random_seed=42,max_depth=k)\n",
        "  evaluation = dt_regression_model.evaluate(test_data)\n",
        " \n",
        "  \n"
      ],
      "execution_count": null,
      "outputs": []
    },
    {
      "cell_type": "code",
      "metadata": {
        "id": "Omlq-58Yyirf"
      },
      "source": [
        "evaluation"
      ],
      "execution_count": null,
      "outputs": []
    },
    {
      "cell_type": "code",
      "metadata": {
        "id": "j98DpGsHy_hU"
      },
      "source": [
        "dt_regression_model= tc.decision_tree_regression.create(train_data,'TotalPrice',my_features,random_seed=42,max_depth=30)"
      ],
      "execution_count": null,
      "outputs": []
    },
    {
      "cell_type": "code",
      "metadata": {
        "id": "_XJOaxMi3KCP"
      },
      "source": [
        "\n",
        "\n",
        "print(\"my_features_model: \",my_features_model.evaluate(test_data))\n",
        "print(\"random_forest_model: \",random_forest_model.evaluate(test_data))\n",
        "print(\"rand_regression_model: \",rand_regression_model.evaluate(test_data))\n",
        "print(\"boosted_tree_regression_model: \",boosted_tree_regression_model.evaluate(test_data))\n",
        "print(\"dt_regression_model: \",dt_regression_model.evaluate(test_data))"
      ],
      "execution_count": null,
      "outputs": []
    },
    {
      "cell_type": "markdown",
      "metadata": {
        "id": "_00osRL94XDv"
      },
      "source": [
        "After trying out different Regression models on this data set, we can see Boosted Tree Regression Model works best on this data set as it has the least RMSE\n"
      ]
    },
    {
      "cell_type": "markdown",
      "metadata": {
        "id": "ezRFvGhQ5d3V"
      },
      "source": [
        "#Predicting prices of houses"
      ]
    },
    {
      "cell_type": "code",
      "metadata": {
        "id": "GkZtMGbV3Pxi"
      },
      "source": [
        "house1 = data[data['X1']==100]\n",
        "data.materialize()"
      ],
      "execution_count": null,
      "outputs": []
    },
    {
      "cell_type": "code",
      "metadata": {
        "id": "5YPdUBug6Oq-",
        "colab": {
          "base_uri": "https://localhost:8080/",
          "height": 106
        },
        "outputId": "fee0a2dd-dc55-475a-b6c6-11d398097f27"
      },
      "source": [
        "house1"
      ],
      "execution_count": null,
      "outputs": [
        {
          "output_type": "execute_result",
          "data": {
            "text/html": [
              "<div style=\"max-height:1000px;max-width:1500px;overflow:auto;\"><table frame=\"box\" rules=\"cols\">\n",
              "    <tr>\n",
              "        <th style=\"padding-left: 1em; padding-right: 1em; text-align: center\">X1</th>\n",
              "        <th style=\"padding-left: 1em; padding-right: 1em; text-align: center\">Address</th>\n",
              "        <th style=\"padding-left: 1em; padding-right: 1em; text-align: center\">Baths</th>\n",
              "        <th style=\"padding-left: 1em; padding-right: 1em; text-align: center\">Beds</th>\n",
              "        <th style=\"padding-left: 1em; padding-right: 1em; text-align: center\">Price</th>\n",
              "        <th style=\"padding-left: 1em; padding-right: 1em; text-align: center\">Suffix</th>\n",
              "        <th style=\"padding-left: 1em; padding-right: 1em; text-align: center\">Size</th>\n",
              "        <th style=\"padding-left: 1em; padding-right: 1em; text-align: center\">TotalPrice</th>\n",
              "        <th style=\"padding-left: 1em; padding-right: 1em; text-align: center\">Location</th>\n",
              "        <th style=\"padding-left: 1em; padding-right: 1em; text-align: center\">ZipCode</th>\n",
              "    </tr>\n",
              "    <tr>\n",
              "        <td style=\"padding-left: 1em; padding-right: 1em; text-align: center; vertical-align: top\">100</td>\n",
              "        <td style=\"padding-left: 1em; padding-right: 1em; text-align: center; vertical-align: top\">Mohakhali DOHS</td>\n",
              "        <td style=\"padding-left: 1em; padding-right: 1em; text-align: center; vertical-align: top\">2</td>\n",
              "        <td style=\"padding-left: 1em; padding-right: 1em; text-align: center; vertical-align: top\">3</td>\n",
              "        <td style=\"padding-left: 1em; padding-right: 1em; text-align: center; vertical-align: top\">16000000</td>\n",
              "        <td style=\"padding-left: 1em; padding-right: 1em; text-align: center; vertical-align: top\">total price</td>\n",
              "        <td style=\"padding-left: 1em; padding-right: 1em; text-align: center; vertical-align: top\">1400</td>\n",
              "        <td style=\"padding-left: 1em; padding-right: 1em; text-align: center; vertical-align: top\">16000000</td>\n",
              "        <td style=\"padding-left: 1em; padding-right: 1em; text-align: center; vertical-align: top\">Mohakhali</td>\n",
              "        <td style=\"padding-left: 1em; padding-right: 1em; text-align: center; vertical-align: top\">1212</td>\n",
              "    </tr>\n",
              "</table>\n",
              "[? rows x 10 columns]<br/>Note: Only the head of the SFrame is printed. This SFrame is lazily evaluated.<br/>You can use sf.materialize() to force materialization.\n",
              "</div>"
            ],
            "text/plain": [
              "Columns:\n",
              "\tX1\tint\n",
              "\tAddress\tstr\n",
              "\tBaths\tint\n",
              "\tBeds\tint\n",
              "\tPrice\tint\n",
              "\tSuffix\tstr\n",
              "\tSize\tint\n",
              "\tTotalPrice\tint\n",
              "\tLocation\tstr\n",
              "\tZipCode\tint\n",
              "\n",
              "Rows: Unknown\n",
              "\n",
              "Data:\n",
              "+-----+----------------+-------+------+----------+-------------+------+------------+\n",
              "|  X1 |    Address     | Baths | Beds |  Price   |    Suffix   | Size | TotalPrice |\n",
              "+-----+----------------+-------+------+----------+-------------+------+------------+\n",
              "| 100 | Mohakhali DOHS |   2   |  3   | 16000000 | total price | 1400 |  16000000  |\n",
              "+-----+----------------+-------+------+----------+-------------+------+------------+\n",
              "+-----------+---------+\n",
              "|  Location | ZipCode |\n",
              "+-----------+---------+\n",
              "| Mohakhali |   1212  |\n",
              "+-----------+---------+\n",
              "[? rows x 10 columns]\n",
              "Note: Only the head of the SFrame is printed. This SFrame is lazily evaluated.\n",
              "You can use sf.materialize() to force materialization."
            ]
          },
          "metadata": {
            "tags": []
          },
          "execution_count": 84
        }
      ]
    },
    {
      "cell_type": "code",
      "metadata": {
        "id": "NZ64jOAO7yxJ",
        "colab": {
          "base_uri": "https://localhost:8080/"
        },
        "outputId": "f3bad818-aba5-4215-dc39-2d9f5bfc78d1"
      },
      "source": [
        "my_features_model.predict(house1)"
      ],
      "execution_count": null,
      "outputs": [
        {
          "output_type": "execute_result",
          "data": {
            "text/plain": [
              "dtype: float\n",
              "Rows: 1\n",
              "[12767734.224587396]"
            ]
          },
          "metadata": {
            "tags": []
          },
          "execution_count": 85
        }
      ]
    },
    {
      "cell_type": "code",
      "metadata": {
        "id": "FBepfk3CCW4u",
        "colab": {
          "base_uri": "https://localhost:8080/"
        },
        "outputId": "7661c261-95d3-4a2f-f4a3-1a9382669da4"
      },
      "source": [
        "random_forest_model.predict(house1)"
      ],
      "execution_count": null,
      "outputs": [
        {
          "output_type": "execute_result",
          "data": {
            "text/plain": [
              "dtype: float\n",
              "Rows: 1\n",
              "[11583664.0]"
            ]
          },
          "metadata": {
            "tags": []
          },
          "execution_count": 86
        }
      ]
    },
    {
      "cell_type": "code",
      "metadata": {
        "id": "4ERAiAp6DR-o",
        "colab": {
          "base_uri": "https://localhost:8080/"
        },
        "outputId": "491867e8-679e-411e-f72d-fabfae7835dc"
      },
      "source": [
        "rand_regression_model.predict(house1)"
      ],
      "execution_count": null,
      "outputs": [
        {
          "output_type": "execute_result",
          "data": {
            "text/plain": [
              "dtype: float\n",
              "Rows: 1\n",
              "[13115798.987845656]"
            ]
          },
          "metadata": {
            "tags": []
          },
          "execution_count": 87
        }
      ]
    },
    {
      "cell_type": "code",
      "metadata": {
        "id": "JwVMNJxWDWa6",
        "colab": {
          "base_uri": "https://localhost:8080/"
        },
        "outputId": "ab1b7892-6697-4de7-bb99-ae33e6a40dba"
      },
      "source": [
        "boosted_tree_regression_model.predict(house1)"
      ],
      "execution_count": null,
      "outputs": [
        {
          "output_type": "execute_result",
          "data": {
            "text/plain": [
              "dtype: float\n",
              "Rows: 1\n",
              "[14447322.0]"
            ]
          },
          "metadata": {
            "tags": []
          },
          "execution_count": 88
        }
      ]
    },
    {
      "cell_type": "code",
      "metadata": {
        "id": "hCL-gFVdDcTD",
        "colab": {
          "base_uri": "https://localhost:8080/"
        },
        "outputId": "6612c172-2c45-4c0b-8def-ff82e3d0a1f0"
      },
      "source": [
        "dt_regression_model.predict(house1)"
      ],
      "execution_count": null,
      "outputs": [
        {
          "output_type": "execute_result",
          "data": {
            "text/plain": [
              "dtype: float\n",
              "Rows: 1\n",
              "[14425456.0]"
            ]
          },
          "metadata": {
            "tags": []
          },
          "execution_count": 89
        }
      ]
    },
    {
      "cell_type": "code",
      "metadata": {
        "id": "4tTkX9KqDjYc"
      },
      "source": [
        ""
      ],
      "execution_count": null,
      "outputs": []
    }
  ]
}